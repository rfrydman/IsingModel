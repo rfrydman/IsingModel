{
 "cells": [
  {
   "cell_type": "markdown",
   "metadata": {},
   "source": [
    "$$\\newcommand{\\mean}[1]     {\\langle #1 \\rangle}$$\n",
    "$$\\newcommand{\\spins}       {\\mathbb{S}}$$\n",
    "$$\\newcommand{\\spinsmu}     {\\mathbb{S}_{\\mu}}$$\n",
    "$$\\newcommand{\\spini}       {s_{i}}$$\n",
    "$$\\newcommand{\\spinj}       {s_{j}}$$\n",
    "$$\\newcommand{\\Ham}         {\\mathcal{H}}$$\n",
    "$$\\newcommand{\\kB}          {k_B}$$\n",
    "\n",
    "# Assignment 3: Ising model\n",
    "\n",
    "In the lectures, we've been discussing the physics, some of the history, and the computational methods that underlie the analysis of the deceptively simple *Ising model*. In this assignment, you will bring much of that to bear by evaluating the evolution towards equilibrium of the Ising model system in 2 dimensions, and analyze the properties of the system once it reaches equilibrium. Given the extensive nature of this assigment, and the fact that it relies on much of what we have discussed so far, you have 2 weeks to complete it. That is, the assigments are due on *November 1st at 2pm* (via `GitHub` as usual).\n",
    "\n",
    "I will include some of the background material that we discussed in lecture also here in order to keep this assignment somewhat self contained."
   ]
  },
  {
   "cell_type": "markdown",
   "metadata": {},
   "source": [
    "## The Ising Model\n",
    "\n",
    "In seeking to explain a particular phenomenon in physics, namely the onset of ferromagnetism, Wilhelm Lenz proposed in 1924 that his PhD student, Ernst Ising, should solve a puzzling 1-dimensional model of  [[arXiv:1706.01764](https://arxiv.org/abs/1706.01764)]. This model was meant to attempt to describe the interaction of \n",
    "\n",
    "> \"elementary magnetic units, which prefer alignment\"\n",
    "\n",
    "a problem which belonged to the new and undeveloped quantum mechanics. In order to make any progress at all, Ising started in 1 dimension with the task of calculating analytically the macroscopic magnetization with the methods of statistical mechanics. This deceptively *\"simple\"* model for a set of spin states $\\mathbb{S} = \\{s_i\\}$, with a Hamiltonian, \\Ham, for a given interaction coupling, $J$, and magnetic field, $H$, given by:\n",
    "\n",
    "  \\begin{equation}\n",
    "    \\Ham = -J \\sum_{\\mean{ij}}^N \\spini \\spinj - H \\sum_i \\spini \"\n",
    "  \\end{equation} \n",
    "\n",
    "Given a set of $N$ spins, the Ising model has $2^N$ states $\\mathbb{S} = \\{s_i\\}$ in $d=2$ dimensions. \n",
    "\n",
    "* What happens to the system when we let it evolve according to the laws of statistical mechanics? \n",
    "* Does the average spin remain random? \n",
    "* How does the application of an external field affect its evolution? \n",
    "* Can we calculate a specific heat for this system (the temperature change required to raise the system's energy by a given amount)?\n",
    "\n",
    "The energy $E_{\\mu}$ of a particular microstate $\\mu$ of this (discrete) system is given by the operator \\Ham acting on that microstate, or specific  $\\spins = \\spinsmu$. We assume that although the system is in an \\bluebf{equilibrium state} (i.e. the energy of a particular element is proportional to the temperature, $T$), it is a dynamic one in which each element's energy fluctuates as it exchanges energy with its environment. The probability for the ensemble \\spins to have energy $E_{\\mu}$ is \n",
    "  \n",
    "  \\begin{equation}\n",
    "    P(\\spinsmu) = \\frac{e^{-\\beta E_{\\mu}}}{\\sum_{\\mu} e^{-\\beta E_{\\mu}}},\n",
    "  \\end{equation} \n",
    "\n",
    "  And the mean and variance of the energy $\\mean{E}$ (or *any* observable) is given by \n",
    "  \n",
    "  \\begin{eqnarray}\n",
    "    \\mean{E} &=& \\sum_{\\mu} E_{\\mu} P(\\spinsmu) = \\frac{1}{Z} \\sum_{\\mu} E_{\\mu} e^{-\\beta E_{\\mu}} \\\\\n",
    "    Var(E) = \\mean{(E-\\mean{E}^2)^2} &=& \\sum_{\\mu} E^2_{\\mu} P(\\spinsmu) - \\left( \\sum_{\\mu} E_{\\mu} P(\\spinsmu) \\right)^2\n",
    "  \\end{eqnarray} "
   ]
  },
  {
   "cell_type": "markdown",
   "metadata": {},
   "source": [
    "##  Monte Carlo Methods\n",
    "\n",
    "There is essentially only one known numerical method for calculating the partition function of a model such as the Ising model on a large lattice, and that method is *Monte Carlo simulation*. \n",
    "  \n",
    "* If we are clever enough, we can obtain a *relatively good estimate* by only performing a *subset* of the calculations, $\\{\\mu\\}$ instead of all $\\mu$\n",
    "* One way to be clever is to only sample the distribution that we are attempting to model, $P(\\spinsmu)$ in regions where it is important.\n",
    "* To put it another way, we want to perform a *weighted sampling*\n",
    "\n",
    "  \\begin{eqnarray}\n",
    "    \\mean{E} &=& \\frac{\\sum_{\\{\\mu\\}} E_{\\mu} e^{-\\beta E_{\\mu}} W_{\\mu}^{-1}}{\\sum_{\\{\\mu\\}} e^{-\\beta E_{\\mu}} W_{\\mu}^{-1}} \\\\\n",
    "       &\\approx& \\frac{\\sum_{\\{\\mu\\}} E_{\\mu}}{\\sum_{\\{\\mu\\}} 1} \\\\\n",
    "       &=& \\frac{1}{N^{\\prime}}\\sum_{\\{\\mu\\}} E_{\\mu}\n",
    "  \\end{eqnarray} \n",
    "\n",
    "  where $N^{\\prime}$ is the number of terms in the subset $\\{\\mu\\}$ and $W_{\\mu} = e^{- \\beta E_{\\mu}}/Z$. Here, I have already set the weighting function to be the Boltzmann factor because of our discussion in lecture about the Metropolis algorithm."
   ]
  },
  {
   "cell_type": "markdown",
   "metadata": {},
   "source": [
    "## The Metropolis algorithm\n",
    "\n",
    "In the famous paper *\"Equation of State Calculations by Fast Computing Machines\"*, Nicholas Metropolis, Arianna W. Rosenbluth, Marshall N. Rosenbluth, Augusta H. Teller, and Edward Teller proposed to use a Boltzmann factor for attempting the *trials* for a given change in configuration of the lattice."
   ]
  },
  {
   "cell_type": "code",
   "execution_count": null,
   "metadata": {},
   "outputs": [],
   "source": []
  }
 ],
 "metadata": {
  "kernelspec": {
   "display_name": "Python 3",
   "language": "python",
   "name": "python3"
  },
  "language_info": {
   "codemirror_mode": {
    "name": "ipython",
    "version": 3
   },
   "file_extension": ".py",
   "mimetype": "text/x-python",
   "name": "python",
   "nbconvert_exporter": "python",
   "pygments_lexer": "ipython3",
   "version": "3.5.2"
  }
 },
 "nbformat": 4,
 "nbformat_minor": 2
}
