{
 "cells": [
  {
   "cell_type": "code",
   "execution_count": 2,
   "metadata": {},
   "outputs": [
    {
     "data": {
      "text/plain": [
       "'/opt/miniconda3/bin/python3'"
      ]
     },
     "execution_count": 2,
     "metadata": {},
     "output_type": "execute_result"
    }
   ],
   "source": [
    "import sys\n",
    "sys.executable"
   ]
  },
  {
   "cell_type": "code",
   "execution_count": 304,
   "metadata": {},
   "outputs": [],
   "source": [
    "import numpy as np\n",
    "import matplotlib.pyplot as plt\n",
    "from numpy import random as rng\n",
    "from matplotlib.colors import ListedColormap\n",
    "import matplotlib\n",
    "from  matplotlib.animation import FuncAnimation\n",
    "from IPython.display import HTML\n",
    "import scipy.interpolate as inter"
   ]
  },
  {
   "cell_type": "code",
   "execution_count": 4,
   "metadata": {},
   "outputs": [],
   "source": [
    "\"\"\"EXERCISE 1\"\"\"\n",
    "# Uniform Lattice creation\n",
    "def normallattice(N, M, value=0):\n",
    "    '''\n",
    "    This function returns an N (rows) x M (columns) lattice with identical values value\n",
    "    '''\n",
    "    return np.full((N, M), value)\n",
    "\n",
    "def alternatinglattice(N):\n",
    "    '''\n",
    "    returns an alternating square array of 1 and -1\n",
    "    '''\n",
    "    alternating = np.tile([[1, -1],[-1, 1]], (N, N))\n",
    "    return alternating\n",
    "\n",
    "# Random Lattice creation\n",
    "def randomlattice(N, M):\n",
    "    '''\n",
    "    This function returns an N (rows) x M (columns) lattice with randomized spin values -1 or 1\n",
    "    '''\n",
    "    return rng.choice((-1, 1), (N, M))\n",
    "\n",
    "def continuouslattice(N, M):\n",
    "    return np.random.rand(N, M)\n",
    "\n",
    "# Draw your lattice\n",
    "def plotlattice(array, color = 0 , axis_indexing = 0):\n",
    "    dim = np.shape(array)\n",
    "    nrows, ncols = dim[0], dim[1]\n",
    "    image = array\n",
    "    if axis_indexing == 1:\n",
    "        row_labels = list(range(nrows))\n",
    "        col_labels = list(range(ncols))\n",
    "    elif axis_indexing == 2:\n",
    "        row_labels = list(map(chr, range(97, 97 + nrows)))\n",
    "        col_labels = list(map(chr, range(97, 97 + ncols)))\n",
    "    else:\n",
    "        row_labels = []\n",
    "        col_labels = []\n",
    "    if color == 0:\n",
    "        plt.matshow(image, cmap = plt.cm.gray_r)\n",
    "    elif color == 1:\n",
    "        plt.matshow(image, cmap = plt.cm.magma)\n",
    "    elif color == 2:\n",
    "        plt.matshow(image, cmap = plt.cm.Spectral_r)\n",
    "    plt.xticks(range(ncols), col_labels)\n",
    "    plt.yticks(range(nrows), row_labels)\n",
    "    plt.show()"
   ]
  },
  {
   "cell_type": "code",
   "execution_count": 5,
   "metadata": {},
   "outputs": [
    {
     "data": {
      "image/png": "[encoded data removed]",
      "text/plain": [
       "<Figure size 288x288 with 1 Axes>"
      ]
     },
     "metadata": {
      "needs_background": "light"
     },
     "output_type": "display_data"
    },
    {
     "data": {
      "image/png": "[encoded data removed]",
      "text/plain": [
       "<Figure size 288x288 with 1 Axes>"
      ]
     },
     "metadata": {
      "needs_background": "light"
     },
     "output_type": "display_data"
    },
    {
     "data": {
      "image/png": "[encoded data removed]",
      "text/plain": [
       "<Figure size 288x288 with 1 Axes>"
      ]
     },
     "metadata": {
      "needs_background": "light"
     },
     "output_type": "display_data"
    }
   ],
   "source": [
    "array = continuouslattice(5, 5)\n",
    "plotlattice(array, 2, 1)\n",
    "\n",
    "boring_large_array = randomlattice(10, 10)\n",
    "plotlattice(boring_large_array, 0, 2)\n",
    "\n",
    "fun_large_array = continuouslattice(20, 20)\n",
    "plotlattice(fun_large_array, 2, 0)"
   ]
  },
  {
   "cell_type": "code",
   "execution_count": 6,
   "metadata": {},
   "outputs": [],
   "source": [
    "\"\"\"EXERCISE 2\"\"\"\n",
    "def chooseParticle(array):\n",
    "    dim = np.shape(array)\n",
    "    nrows, ncols = dim[0], dim[1]\n",
    "    rrow = np.random.randint(0, nrows)\n",
    "    rcol = np.random.randint(0, ncols)\n",
    "    return (rrow, rcol)\n",
    "\n",
    "def flipParticle(particle, array):\n",
    "    new_array = np.copy(array)\n",
    "    i = particle[0]\n",
    "    j = particle[1]\n",
    "    new_array[i][j] *= -1\n",
    "    return new_array"
   ]
  },
  {
   "cell_type": "code",
   "execution_count": 7,
   "metadata": {},
   "outputs": [],
   "source": [
    "\"\"\"EXERCISE 3\"\"\"\n",
    "def periodicBound(lattice, i, j):\n",
    "    dim = np.shape(lattice)\n",
    "    ind_row = dim[0] - 1\n",
    "    ind_col = dim[1] - 1\n",
    "    if i <= ind_row and j <= ind_col:\n",
    "        return lattice[i][j]\n",
    "    else:\n",
    "        wrap_i = i % (ind_row + 1)\n",
    "        wrap_j = j % (ind_col + 1)\n",
    "        return lattice[wrap_i][wrap_j]"
   ]
  },
  {
   "cell_type": "code",
   "execution_count": 8,
   "metadata": {},
   "outputs": [],
   "source": [
    "def neighbourSum(lattice, point):\n",
    "    i = point[0]\n",
    "    j = point[1]\n",
    "    latticesum = 0\n",
    "    \n",
    "    latticesum += periodicBound(lattice, i+1, j)\n",
    "    latticesum += periodicBound(lattice, i-1, j)\n",
    "    latticesum += periodicBound(lattice, i, j+1)\n",
    "    latticesum += periodicBound(lattice, i, j-1)\n",
    "    \n",
    "    return latticesum"
   ]
  },
  {
   "cell_type": "code",
   "execution_count": 9,
   "metadata": {},
   "outputs": [],
   "source": [
    "test_lattice = [[1, 2, 3], [4, 5, 6], [7, 8, 9]]"
   ]
  },
  {
   "cell_type": "code",
   "execution_count": 10,
   "metadata": {},
   "outputs": [
    {
     "data": {
      "text/plain": [
       "16"
      ]
     },
     "execution_count": 10,
     "metadata": {},
     "output_type": "execute_result"
    }
   ],
   "source": [
    "neighbourSum(test_lattice, (0,0))"
   ]
  },
  {
   "cell_type": "code",
   "execution_count": 11,
   "metadata": {},
   "outputs": [],
   "source": [
    "\"\"\"Pulled off the internet, with modifications to make it work for this data/added functionality.\"\"\"\n",
    "\n",
    "def heatmap(array, axis_indexing = 1, color_scheme = 0):\n",
    "    #if not ax:\n",
    "    #    ax = plt.gca()\n",
    "    \n",
    "    if axis_indexing == 1:\n",
    "        row_labels = range(array.shape[0])\n",
    "        col_labels = range(array.shape[1])\n",
    "        ax.set_xticks(np.arange(array.shape[1]))\n",
    "        ax.set_yticks(np.arange(array.shape[0]))\n",
    "        ax.set_xticklabels(col_labels)\n",
    "        ax.set_yticklabels(row_labels)\n",
    "    elif axis_indexing == 2:\n",
    "        row_labels = list(map(chr, range(97, 97 + array.shape[0])))\n",
    "        col_labels = list(map(chr, range(97, 97 + array.shape[1])))\n",
    "        row_labels.reverse()\n",
    "        ax.set_xticks(np.arange(array.shape[1]))\n",
    "        ax.set_yticks(np.arange(array.shape[0]))\n",
    "        ax.set_xticklabels(col_labels)\n",
    "        ax.set_yticklabels(row_labels)\n",
    "    else:\n",
    "        row_labels = []\n",
    "        col_labels = []\n",
    "        ax.set_xticklabels(col_labels)\n",
    "        ax.set_yticklabels(row_labels)\n",
    "    \n",
    "    if color_scheme == 0:\n",
    "        im = ax.imshow(array, cmap = plt.cm.gray_r)\n",
    "    elif color_scheme == 1:\n",
    "        im = ax.imshow(array, cmap = plt.cm.magma)\n",
    "    elif color_scheme == 2:\n",
    "        im = ax.imshow(array, cmap = plt.cm.Spectral_r)\n",
    "\n",
    "    for edge, spine in ax.spines.items():\n",
    "        spine.set_visible(False)\n",
    "\n",
    "    ax.set_xticks(np.arange(array.shape[1]+1)-.5, minor=True)\n",
    "    ax.set_yticks(np.arange(array.shape[0]+1)-.5, minor=True)\n",
    "    ax.tick_params(which=\"minor\", bottom=False, left=False)\n",
    "\n",
    "    return im\n",
    "\n",
    "\n",
    "def annotate_heatmap(im, array, valfmt=\"{x:.0f}\", textcolors=[\"black\", \"white\"], threshold=None):\n",
    "\n",
    "    # Normalize the threshold to the images color range.\n",
    "    if threshold is not None:\n",
    "        threshold = im.norm(threshold)\n",
    "    else:\n",
    "        threshold = im.norm(array.max())/2.\n",
    "\n",
    "    # Set default alignment to center, but allow it to be\n",
    "    # overwritten by textkw.\n",
    "    kw = dict(horizontalalignment=\"center\",\n",
    "              verticalalignment=\"center\")\n",
    "\n",
    "    # Get the formatter in case a string is supplied\n",
    "    if isinstance(valfmt, str):\n",
    "        valfmt = matplotlib.ticker.StrMethodFormatter(valfmt)\n",
    "\n",
    "    # Loop over the array and create a `Text` for each \"pixel\".\n",
    "    # Change the text's color depending on the array.\n",
    "    texts = []\n",
    "    for i in range(array.shape[0]):\n",
    "        for j in range(array.shape[1]):\n",
    "            kw.update(color=textcolors[int(im.norm(array[i, j]) < threshold)])\n",
    "            text = im.axes.text(j, i, valfmt(array[i, j], None), **kw)\n",
    "            texts.append(text)\n",
    "\n",
    "    return texts"
   ]
  },
  {
   "cell_type": "code",
   "execution_count": 12,
   "metadata": {},
   "outputs": [
    {
     "data": {
      "image/png": "[encoded data removed]",
      "text/plain": [
       "<Figure size 432x288 with 1 Axes>"
      ]
     },
     "metadata": {
      "needs_background": "light"
     },
     "output_type": "display_data"
    }
   ],
   "source": [
    "test_array = randomlattice(5, 5)    \n",
    "\n",
    "fig, ax = plt.subplots()\n",
    "\n",
    "image = heatmap(test_array, axis_indexing = 0, color_scheme = 2)\n",
    "texts = annotate_heatmap(image, test_array, valfmt = \"{x:.0f}\", threshold = 0, textcolors=[\"white\", \"black\"])\n",
    "\n",
    "fig.tight_layout()\n",
    "plt.show()"
   ]
  },
  {
   "cell_type": "code",
   "execution_count": 13,
   "metadata": {},
   "outputs": [],
   "source": [
    "def neighbourlattice(array):\n",
    "    sumlattice = np.zeros(array.shape)\n",
    "    for i in range(array.shape[0]):\n",
    "        for j in range(array.shape[1]):\n",
    "            point = (i, j)\n",
    "            elem = neighbourSum(array, point)\n",
    "            sumlattice[i, j] = elem\n",
    "    return sumlattice"
   ]
  },
  {
   "cell_type": "code",
   "execution_count": 14,
   "metadata": {},
   "outputs": [],
   "source": [
    "\"\"\"TEST ARRAYS\"\"\"\n",
    "smalltestarray = randomlattice(5, 5)\n",
    "smallsumarray = neighbourlattice(smalltestarray)"
   ]
  },
  {
   "cell_type": "code",
   "execution_count": 15,
   "metadata": {},
   "outputs": [
    {
     "data": {
      "image/png": "[encoded data removed]",
      "text/plain": [
       "<Figure size 432x288 with 1 Axes>"
      ]
     },
     "metadata": {
      "needs_background": "light"
     },
     "output_type": "display_data"
    },
    {
     "data": {
      "image/png": "[encoded data removed]",
      "text/plain": [
       "<Figure size 432x288 with 1 Axes>"
      ]
     },
     "metadata": {
      "needs_background": "light"
     },
     "output_type": "display_data"
    }
   ],
   "source": [
    "\"\"\"TEST OF NEIGHBOURLATTICE FUNCTION\"\"\"\n",
    "fig, ax = plt.subplots()\n",
    "\n",
    "image = heatmap(smalltestarray, axis_indexing = 0, color_scheme = 0)\n",
    "texts = annotate_heatmap(image, smalltestarray, textcolors=['white', 'black'])\n",
    "\n",
    "fig.tight_layout()\n",
    "plt.show()\n",
    "\n",
    "fig, ax = plt.subplots()\n",
    "\n",
    "image = heatmap(smallsumarray, axis_indexing = 0, color_scheme = 2)\n",
    "texts = annotate_heatmap(image, smallsumarray, textcolors=['black','black'])\n",
    "\n",
    "fig.tight_layout()\n",
    "plt.show()"
   ]
  },
  {
   "cell_type": "code",
   "execution_count": 16,
   "metadata": {},
   "outputs": [],
   "source": [
    "\"\"\"EXERCISE 4\"\"\"\n",
    "def localenergy(array, point, constJ = 1, constH = 1, roryIntuition = False):\n",
    "    local_spin = neighbourSum(array, point)\n",
    "    \n",
    "    i, j = point[0], point[1]\n",
    "    self_spin = array[i, j]\n",
    "    local_interaction = self_spin * local_spin\n",
    "    local_int_energy = -1 * constJ * local_interaction\n",
    "    \n",
    "    if roryIntuition == True: \n",
    "        local_neighbour_energy = -1 * constH * self_spin\n",
    "    else:\n",
    "        local_neighbour_energy = -1 * constH * local_spin\n",
    "    \n",
    "    local_energy = local_int_energy + local_neighbour_energy\n",
    "    return local_energy\n",
    "\n",
    "def totalenergy(array):\n",
    "    total_energy = 0\n",
    "    for i in range(array.shape[0]):\n",
    "        for j in range(array.shape[1]):\n",
    "            point = (i, j)\n",
    "            total_energy += localenergy(array, point)\n",
    "    return total_energy"
   ]
  },
  {
   "cell_type": "code",
   "execution_count": 17,
   "metadata": {},
   "outputs": [
    {
     "name": "stdout",
     "output_type": "stream",
     "text": [
      "64\n",
      "8\n",
      "-24\n",
      "-16\n",
      "32\n",
      "-392\n",
      "-392\n",
      "-392\n",
      "-392\n",
      "-392\n",
      "0\n",
      "0\n",
      "0\n",
      "0\n",
      "0\n",
      "0\n",
      "0\n",
      "0\n",
      "0\n",
      "0\n"
     ]
    },
    {
     "data": {
      "text/plain": [
       "'\\nWith J and H = 1, the random energies are all even, and both positive and negative. The spin ups are all -392...\\nthe spin downs are all 0, and the spin 0 are also all zero.\\n'"
      ]
     },
     "execution_count": 17,
     "metadata": {},
     "output_type": "execute_result"
    }
   ],
   "source": [
    "#random lattices\n",
    "for i in range(5):\n",
    "    energytest = randomlattice(7, 7)\n",
    "    print(totalenergy(energytest))\n",
    "    \n",
    "#spin up lattices\n",
    "for i in range(5):\n",
    "    energytest = normallattice(7, 7, 1)\n",
    "    print(totalenergy(energytest))\n",
    "\n",
    "#spin down lattices\n",
    "for i in range(5):\n",
    "    energytest = normallattice(7, 7, -1)\n",
    "    print(totalenergy(energytest))\n",
    "\n",
    "#spin 0 lattices:\n",
    "for i in range(5):\n",
    "    energytest = normallattice(7, 7, 0)\n",
    "    print(totalenergy(energytest))\n",
    "    \n",
    "    \n",
    "\"\"\"\n",
    "With J and H = 1, the random energies are all even, and both positive and negative. The spin ups are all -392...\n",
    "the spin downs are all 0, and the spin 0 are also all zero.\n",
    "\"\"\""
   ]
  },
  {
   "cell_type": "code",
   "execution_count": 18,
   "metadata": {},
   "outputs": [],
   "source": [
    "\"\"\"EXERCISE 5\"\"\"\n",
    "def magnetisation(array):\n",
    "    totalM = np.sum(array)\n",
    "    spinM = totalM / (array.shape[0] * array.shape[1])\n",
    "    return totalM, spinM"
   ]
  },
  {
   "cell_type": "code",
   "execution_count": 19,
   "metadata": {},
   "outputs": [],
   "source": [
    "test_mag = normallattice(5, 5, 1)"
   ]
  },
  {
   "cell_type": "code",
   "execution_count": 20,
   "metadata": {},
   "outputs": [
    {
     "data": {
      "text/plain": [
       "(25, 1.0)"
      ]
     },
     "execution_count": 20,
     "metadata": {},
     "output_type": "execute_result"
    }
   ],
   "source": [
    "magnetisation(test_mag)"
   ]
  },
  {
   "cell_type": "code",
   "execution_count": 21,
   "metadata": {},
   "outputs": [],
   "source": [
    "perturb_mag = flipParticle((2,1), test_mag)\n",
    "perturb_mag = flipParticle((3,2), perturb_mag)\n",
    "perturb_mag = flipParticle((0,4), perturb_mag)"
   ]
  },
  {
   "cell_type": "code",
   "execution_count": 22,
   "metadata": {},
   "outputs": [
    {
     "data": {
      "text/plain": [
       "(19, 0.76)"
      ]
     },
     "execution_count": 22,
     "metadata": {},
     "output_type": "execute_result"
    }
   ],
   "source": [
    "magnetisation(perturb_mag)"
   ]
  },
  {
   "cell_type": "code",
   "execution_count": 23,
   "metadata": {},
   "outputs": [
    {
     "data": {
      "text/plain": [
       "'PSEUDOCODE:\\ncall randomlattice:\\n    assign randomlattice return value to variable array\\n    print array\\n\\ndef delta_energy(array, particle):\\n    call totalenergy on unperturbed lattice:\\n    store value as E1\\n    \\n    store new perturbed lattice with flip particle\\n    \\n    call totalenergy on perturbed lattice:\\n    store value as E2\\n    \\n    calculate and return E2-E1\\n    \\ndef fliparoni(array, T):\\n        particle = choose random particle to flip with rng\\n\\n        delta = delta_energy(array, particle)\\n        if delta < 0:\\n            flipParticle(particle, array)\\n        else:\\n            rng between 0 and 1\\n            pE = np.exp(-delta / (k * T))\\n            if r < pE:\\n                flipParticle(particle, array)\\n            else:\\n                pass\\n        return array\\n\\ndef simulate(array, T, N):\\n    for i in range(N):\\n        fliparoni(array, T)\\n    return array\\n\\n'"
      ]
     },
     "execution_count": 23,
     "metadata": {},
     "output_type": "execute_result"
    }
   ],
   "source": [
    "\"\"\"EXERCISE 6\"\"\"\n",
    "\n",
    "\"\"\"I feel like with the number of times I use array, I should make the lattice a class.\"\"\"\n",
    "\n",
    "\"\"\"PSEUDOCODE:\n",
    "call randomlattice:\n",
    "    assign randomlattice return value to variable array\n",
    "    print array\n",
    "\n",
    "def delta_energy(array, particle):\n",
    "    call totalenergy on unperturbed lattice:\n",
    "    store value as E1\n",
    "    \n",
    "    store new perturbed lattice with flip particle\n",
    "    \n",
    "    call totalenergy on perturbed lattice:\n",
    "    store value as E2\n",
    "    \n",
    "    calculate and return E2-E1\n",
    "    \n",
    "def fliparoni(array, T):\n",
    "        particle = choose random particle to flip with rng\n",
    "\n",
    "        delta = delta_energy(array, particle)\n",
    "        if delta < 0:\n",
    "            flipParticle(particle, array)\n",
    "        else:\n",
    "            rng between 0 and 1\n",
    "            pE = np.exp(-delta / (k * T))\n",
    "            if r < pE:\n",
    "                flipParticle(particle, array)\n",
    "            else:\n",
    "                pass\n",
    "        return array\n",
    "\n",
    "def simulate(array, T, N):\n",
    "    for i in range(N):\n",
    "        fliparoni(array, T)\n",
    "    return array\n",
    "\n",
    "\"\"\""
   ]
  },
  {
   "cell_type": "code",
   "execution_count": 285,
   "metadata": {},
   "outputs": [],
   "source": [
    "def delta_energy(array, particle):\n",
    "    E1 = localenergy(array, particle)\n",
    "    \n",
    "    delta = -2 * E1\n",
    "    \n",
    "    return delta\n",
    "    \n",
    "def fliparoni(array, T, debug = False):\n",
    "        particle = chooseParticle(array)\n",
    "        \n",
    "        k = 1\n",
    "        #k = 1.380649e-23 #(Boltzman constant in different units)\n",
    "        \n",
    "        if debug == True: print(particle)\n",
    "        \n",
    "        delta = delta_energy(array, particle)\n",
    "        \n",
    "        if debug == True: print(delta)\n",
    "        \n",
    "        if delta < 0:\n",
    "            new_array = flipParticle(particle, array)\n",
    "        else:\n",
    "            r = np.random.uniform()\n",
    "            pE = np.exp(-1 * delta / (k * T))\n",
    "            if r < pE:\n",
    "                new_array = flipParticle(particle, array)\n",
    "            else:\n",
    "                new_array = array\n",
    "        return new_array"
   ]
  },
  {
   "cell_type": "code",
   "execution_count": 283,
   "metadata": {},
   "outputs": [],
   "source": [
    "def plotsimulation(array, T, N): #plots start lattice and lattice after N steps at temp T\n",
    "    plotlattice(array)\n",
    "    loop_array = array\n",
    "    for i in range(N):\n",
    "        #plotlattice(loop_array)\n",
    "        loop_array = fliparoni(loop_array, T)\n",
    "    plotlattice(loop_array)\n",
    "    return\n",
    "\n",
    "def samplelattice(array, T, N): #for the animation function later on.\n",
    "    data = []\n",
    "    \n",
    "    loop_array = array\n",
    "    for i in range(N):\n",
    "        data.append(loop_array)\n",
    "        loop_array = fliparoni(loop_array, T)\n",
    "    return data\n",
    "\n",
    "\"\"\"def simulate(array, T, N): #the function that returns magnetisation and total energy for each of N steps\n",
    "    observables = np.zeros((2, N))\n",
    "    \n",
    "    loop_array = array\n",
    "    for i in range(N):\n",
    "        mag = magnetisation(loop_array)\n",
    "        observables[0][i] = mag[0]\n",
    "        observables[1][i] = totalenergy(loop_array)\n",
    "        loop_array = fliparoni(loop_array, T)\n",
    "        \n",
    "    return observables\"\"\"\n",
    "\n",
    "def observe(array, total = False):\n",
    "    magTuple = magnetisation(array)\n",
    "    \n",
    "    if total == False: \n",
    "        mag = magTuple[1] #assuming average spin\n",
    "    elif total == True:\n",
    "        mag = magTuple[0]\n",
    "        \n",
    "    energy = totalenergy(array)\n",
    "    return mag, energy\n",
    "\n",
    "def metropolis(array, T, N = 1000):\n",
    "    differences = np.zeros((N, 2))\n",
    "    measurables = np.zeros((N, 2))\n",
    "    loop_array_initial = array\n",
    "    for i in range(N):\n",
    "        loop_array_final = fliparoni(loop_array_initial, T)\n",
    "        val_initial = observe(loop_array_initial)\n",
    "        val_final = observe(loop_array_final)\n",
    "        measurables[i] = observe(loop_array_initial, total = False)\n",
    "        differences[i] = np.subtract(val_final, val_initial)\n",
    "        loop_array_initial = loop_array_final\n",
    "    measurables[N-1] = observe(loop_array_final, total = False)\n",
    "    return differences, measurables"
   ]
  },
  {
   "cell_type": "code",
   "execution_count": 278,
   "metadata": {},
   "outputs": [],
   "source": [
    "simulationLattice = randomlattice(10, 10)"
   ]
  },
  {
   "cell_type": "code",
   "execution_count": 290,
   "metadata": {},
   "outputs": [
    {
     "data": {
      "image/png": "[encoded data removed]",
      "text/plain": [
       "<Figure size 432x288 with 1 Axes>"
      ]
     },
     "metadata": {
      "needs_background": "light"
     },
     "output_type": "display_data"
    }
   ],
   "source": [
    "N = 1000\n",
    "plotdata = metropolis(simulationLattice, 4, N)[1]\n",
    "mag = plotdata[:,0]\n",
    "plt.plot(list(range(N)), mag, alpha=0.5)\n",
    "plt.show()\n",
    "#energy.size"
   ]
  },
  {
   "cell_type": "code",
   "execution_count": 28,
   "metadata": {},
   "outputs": [],
   "source": [
    "def animateplot(array, T, N, color_scheme = 0):\n",
    "\n",
    "    data = samplelattice(simulationLattice, T, N)\n",
    "\n",
    "    fig = plt.figure()\n",
    "    \n",
    "    if color_scheme == 0:\n",
    "        color_map = plt.cm.gray_r\n",
    "    else:\n",
    "        color_map = plt.cm.magma\n",
    "        \n",
    "    plot = plt.imshow(data[0], cmap = color_map)\n",
    "\n",
    "    def init():\n",
    "        plot.set_data(data[0])\n",
    "        return [plot]\n",
    "\n",
    "    def update(j):\n",
    "        plot.set_data(data[j])\n",
    "        return [plot]\n",
    "\n",
    "\n",
    "    anim = FuncAnimation(fig, update, init_func = init, frames= N, interval = 30, blit=True)\n",
    "    \n",
    "    return anim"
   ]
  },
  {
   "cell_type": "code",
   "execution_count": 29,
   "metadata": {},
   "outputs": [],
   "source": [
    "#anim = animateplot(simulationLattice, 10, 100)\n",
    "#HTML(anim.to_html5_video())"
   ]
  },
  {
   "cell_type": "code",
   "execution_count": 56,
   "metadata": {},
   "outputs": [
    {
     "data": {
      "text/plain": [
       "'EXERCISE 7: first attempt\\n\\ndef equilibriumTime(array_set): #returns first equilibrium time\\n    tEq = 0\\n    for array in array_set:\\n        bool_up_lattice = np.equal(array, np.ones(np.shape(array)))\\n        bool_down_lattice = np.equal(array, -1 * np.ones(np.shape(array)))\\n\\n        if np.all(bool_up_lattice) or np.all(bool_down_lattice):\\n            return tEq\\n        else:\\n            tEq +=1\\n    if tEq == len(array_set):\\n        print(\"It is possible that the system did not reach equilibrium. It is recommended that you increase N to ensure equilibrium is reached.\")\\n    return tEq\\n\\ndef generateNewArrays(array_set, T, diff):\\n    aug_array_set = array_set\\n    loop_array = array_set[-1]    \\n        \\n    print(\"Generating more matrices to meet nEq requirement.\")\\n    for i in range(diff):\\n        aug_array_set.append(loop_array)\\n        loop_array = fliparoni(loop_array, T)        \\n    \\n    return aug_array_set\\n\\ndef calculateMeasurements(array_set, T, nEq, debug = False):\\n    Note: this function somehow also appends original array_set, despite my best efforts. \\n    tEq = equilibriumTime(array_set)\\n    N = len(array_set)\\n    \\n    tDiff = N - tEq\\n    \\n    if  nEq > tDiff:\\n        diff = nEq - tDiff\\n        fullSet = generateNewArrays(array_set, T, diff)\\n    else:\\n        fullSet = array_set[tEq : tEq + nEq]\\n    \\n    eqSet = array_set[tEq : tEq + nEq]\\n    \\n    measurements = np.zeros((2, nEq))\\n    for i in range(nEq):\\n        observation = observe(eqSet[i])\\n        measurements[0][i] += observation[0]\\n        measurements[1][i] += observation[1]\\n    \\n    if debug: print(\"Total samples:\" + str(N))\\n    if debug: print(\"tEq:\" + str(tEq))\\n    \\n    return measurements'"
      ]
     },
     "execution_count": 56,
     "metadata": {},
     "output_type": "execute_result"
    }
   ],
   "source": [
    "\"\"\"EXERCISE 7: first attempt\n",
    "\n",
    "def equilibriumTime(array_set): #returns first equilibrium time\n",
    "    tEq = 0\n",
    "    for array in array_set:\n",
    "        bool_up_lattice = np.equal(array, np.ones(np.shape(array)))\n",
    "        bool_down_lattice = np.equal(array, -1 * np.ones(np.shape(array)))\n",
    "\n",
    "        if np.all(bool_up_lattice) or np.all(bool_down_lattice):\n",
    "            return tEq\n",
    "        else:\n",
    "            tEq +=1\n",
    "    if tEq == len(array_set):\n",
    "        print(\"It is possible that the system did not reach equilibrium. It is recommended that you increase N to ensure equilibrium is reached.\")\n",
    "    return tEq\n",
    "\n",
    "def generateNewArrays(array_set, T, diff):\n",
    "    aug_array_set = array_set\n",
    "    loop_array = array_set[-1]    \n",
    "        \n",
    "    print(\"Generating more matrices to meet nEq requirement.\")\n",
    "    for i in range(diff):\n",
    "        aug_array_set.append(loop_array)\n",
    "        loop_array = fliparoni(loop_array, T)        \n",
    "    \n",
    "    return aug_array_set\n",
    "\n",
    "def calculateMeasurements(array_set, T, nEq, debug = False):\n",
    "    #Note: this function somehow also appends original array_set, despite my best efforts. \n",
    "    tEq = equilibriumTime(array_set)\n",
    "    N = len(array_set)\n",
    "    \n",
    "    tDiff = N - tEq\n",
    "    \n",
    "    if  nEq > tDiff:\n",
    "        diff = nEq - tDiff\n",
    "        fullSet = generateNewArrays(array_set, T, diff)\n",
    "    else:\n",
    "        fullSet = array_set[tEq : tEq + nEq]\n",
    "    \n",
    "    eqSet = array_set[tEq : tEq + nEq]\n",
    "    \n",
    "    measurements = np.zeros((2, nEq))\n",
    "    for i in range(nEq):\n",
    "        observation = observe(eqSet[i])\n",
    "        measurements[0][i] += observation[0]\n",
    "        measurements[1][i] += observation[1]\n",
    "    \n",
    "    if debug: print(\"Total samples:\" + str(N))\n",
    "    if debug: print(\"tEq:\" + str(tEq))\n",
    "    \n",
    "    return measurements\"\"\""
   ]
  },
  {
   "cell_type": "code",
   "execution_count": 31,
   "metadata": {
    "scrolled": true
   },
   "outputs": [
    {
     "name": "stdout",
     "output_type": "stream",
     "text": [
      "Generating more matrices to meet nEq requirement.\n"
     ]
    },
    {
     "data": {
      "text/plain": [
       "array([[  4.,   4.,   4.,   4.,   4.,   4.,   4.,   4.,   4.],\n",
       "       [-32., -32., -32., -32., -32., -32., -32., -32., -32.]])"
      ]
     },
     "execution_count": 31,
     "metadata": {},
     "output_type": "execute_result"
    }
   ],
   "source": [
    "\"\"\"test_arraySet = []\n",
    "for i in range(17):\n",
    "    test_arraySet.append(alternatinglattice(1))\n",
    "for i in range(8):\n",
    "    test_arraySet.append(normallattice(2, 2, 1))\n",
    "\n",
    "equilibriumTime(test_arraySet)\n",
    "len(test_arraySet)\n",
    "\n",
    "calculateMeasurements(test_arraySet, 10, 9)\"\"\""
   ]
  },
  {
   "cell_type": "code",
   "execution_count": 32,
   "metadata": {},
   "outputs": [
    {
     "data": {
      "text/plain": [
       "'\\nO O O O O O O O O O O O O O O O O X X X X X X X X \\nO is non-eq\\nX is eq\\n\\n25 samples\\n\\n17 non-eq\\n8 eq\\n\\nsuppose we want caculation with nEq = 5:\\n    find tEq\\n    calculate N - tEq (# of eq samples)\\n    if nEq < N - tEq\\n        access and store tEq to tEq + nEq arrays\\nsuppose we want calculation with nEq = 10:\\n    find tEq\\n    calculate N - tEq\\n    nEq > N - tEq!!!!\\n        invoke generateNewArrays: needs last array in sample, T, nEq-(N-tEq)\\n'"
      ]
     },
     "execution_count": 32,
     "metadata": {},
     "output_type": "execute_result"
    }
   ],
   "source": [
    "\"\"\"\n",
    "O O O O O O O O O O O O O O O O O X X X X X X X X \n",
    "O is non-eq\n",
    "X is eq\n",
    "\n",
    "25 samples\n",
    "\n",
    "17 non-eq\n",
    "8 eq\n",
    "\n",
    "suppose we want caculation with nEq = 5:\n",
    "    find tEq\n",
    "    calculate N - tEq (# of eq samples)\n",
    "    if nEq < N - tEq\n",
    "        access and store tEq to tEq + nEq arrays\n",
    "suppose we want calculation with nEq = 10:\n",
    "    find tEq\n",
    "    calculate N - tEq\n",
    "    nEq > N - tEq!!!!\n",
    "        invoke generateNewArrays: needs last array in sample, T, nEq-(N-tEq)\n",
    "\"\"\"\n"
   ]
  },
  {
   "cell_type": "code",
   "execution_count": 53,
   "metadata": {},
   "outputs": [],
   "source": [
    "\"\"\"def averageMeasurements(array, T, nEq, N = 1000):\n",
    "    array_set = samplelattice(realLattice, T, N)\n",
    "    vals = calculateMeasurements(array_set, T, nEq)\n",
    "    avgs = np.average(vals, axis = 1)\n",
    "    return avgs\"\"\"\""
   ]
  },
  {
   "cell_type": "code",
   "execution_count": 227,
   "metadata": {},
   "outputs": [],
   "source": [
    "\"\"\"EXERCISE 7: FINAL ATTEMPT\"\"\"\n",
    "\n",
    "def eqTime(differences, tolerance_value, tolerance_slice):\n",
    "    for i in range(len(differences)):\n",
    "            value = np.average(differences[i: (i + tolerance_slice)])\n",
    "            if value < tolerance_value:\n",
    "                return i\n",
    "            else:\n",
    "                pass\n",
    "    return \"No equilibrium found.\"\n",
    "\n",
    "def eqAverage(values, tEq, nEq):\n",
    "    avgMeasure = np.average(values[tEq: tEq + nEq])\n",
    "    return avgMeasure\n",
    "\n",
    "def measurements(metro_vals, nEq = 100, tolerance_value = 0.001, tolerance_slice = 100):\n",
    "    measurables = metro_vals[1]\n",
    "    differences = metro_vals[0][:,0] #choosing equilibrium to be when energy change is negligible:\n",
    "    \n",
    "    \n",
    "    tEq = eqTime(differences, tolerance_value, tolerance_slice)\n",
    "    \n",
    "    total_mag = measurables[:,0]\n",
    "    total_energy = measurables[:,1]\n",
    "    #total_c\n",
    "    \n",
    "    avg_mag = eqAverage(total_mag, tEq, nEq)\n",
    "    avg_energy = eqAverage(total_energy, tEq, nEq)\n",
    "    #avg_c\n",
    "    \n",
    "    return avg_mag, avg_energy #, avg_c"
   ]
  },
  {
   "cell_type": "code",
   "execution_count": 259,
   "metadata": {},
   "outputs": [],
   "source": [
    "test_array_2 = randomlattice(5, 5)"
   ]
  },
  {
   "cell_type": "code",
   "execution_count": 267,
   "metadata": {},
   "outputs": [
    {
     "data": {
      "text/plain": [
       "(24.86, -198.32)"
      ]
     },
     "execution_count": 267,
     "metadata": {},
     "output_type": "execute_result"
    }
   ],
   "source": [
    "measurements(metropolis(test_array_2, 10))"
   ]
  },
  {
   "cell_type": "code",
   "execution_count": 294,
   "metadata": {},
   "outputs": [
    {
     "name": "stdout",
     "output_type": "stream",
     "text": [
      "[0.9791999999999998, 0.9392000000000001, 0.9552, 0.9824, 0.9392, 0.988, 0.3792000000000001, 0.98, 0.9448000000000001, 0.9912000000000001, 0.9912000000000001, 0.932, 0.9887999999999999, 0.1928, 0.10080000000000001, 0.47839999999999994, 0.7856000000000002, 0.3128, 0.23120000000000004, 0.2880000000000001, 0.20240000000000002, 0.6232, 0.9512, 0.6551999999999998, 0.6376, 0.7663999999999999, 0.39040000000000014, 0.22000000000000003, 0.9472, 0.2464, 0.5416, 0.38960000000000006, -0.012799999999999995, 0.4672, 0.6239999999999999, 0.6192000000000001, 0.3624000000000001, 0.07120000000000001, 0.3976000000000001, 0.6376, -0.0040000000000000036, 0.15039999999999998, 0.09119999999999998, 0.47759999999999997, 0.0656, 0.3184, 0.09280000000000001, -0.021599999999999994, 0.0048, 0.14240000000000003, 0.4056, 0.21360000000000004, 0.33360000000000006, 0.4672, 0.2808, 0.5104, 0.1784, 0.22720000000000007, 0.11679999999999997, 0.10959999999999999, 0.08959999999999999, 0.03200000000000001, 0.396, 0.40800000000000003, 0.5024000000000001, 0.0392, 0.45280000000000004, 0.10319999999999999, 0.0152, 0.014400000000000003, 0.3344, 0.19360000000000002, 0.019999999999999997, 0.18080000000000002, 0.20000000000000004, -0.09119999999999999, 0.2736, 0.11920000000000003, 0.27360000000000007, 0.1696, -0.012799999999999999, 0.05839999999999999, 0.29760000000000003, 0.30000000000000004, 0.12959999999999997, 0.11439999999999997, 0.14079999999999998, 0.08480000000000004, 0.05120000000000001, 0.0152, 0.19520000000000004, 0.0424, -0.18880000000000002, 0.13199999999999998, 0.006399999999999998, 0.26720000000000005, -0.0208, 0.014400000000000003, 0.19760000000000003, -0.0304]\n"
     ]
    }
   ],
   "source": [
    "avg_M_series = []\n",
    "temps = np.linspace(1, 20, 100)\n",
    "for temp in temps:\n",
    "    vals = metropolis(test_array_2, T = temp, N = 300)\n",
    "    avg_M_series.append(measurements(vals)[0])\n",
    "print(avg_M_series)"
   ]
  },
  {
   "cell_type": "code",
   "execution_count": 343,
   "metadata": {},
   "outputs": [
    {
     "ename": "ValueError",
     "evalue": "0-th dimension must be fixed to 100 but got 101\n",
     "output_type": "error",
     "traceback": [
      "\u001b[0;31m---------------------------------------------------------------------------\u001b[0m",
      "\u001b[0;31mValueError\u001b[0m                                Traceback (most recent call last)",
      "\u001b[0;32m<ipython-input-343-1b6b1145127d>\u001b[0m in \u001b[0;36m<module>\u001b[0;34m\u001b[0m\n\u001b[1;32m      3\u001b[0m \u001b[0;31m#spl_avg_M_series.insert(0, 0)\u001b[0m\u001b[0;34m\u001b[0m\u001b[0;34m\u001b[0m\u001b[0;34m\u001b[0m\u001b[0m\n\u001b[1;32m      4\u001b[0m \u001b[0;31m#spl_temps.insert(0, 0)\u001b[0m\u001b[0;34m\u001b[0m\u001b[0;34m\u001b[0m\u001b[0;34m\u001b[0m\u001b[0m\n\u001b[0;32m----> 5\u001b[0;31m \u001b[0mspl\u001b[0m \u001b[0;34m=\u001b[0m \u001b[0minter\u001b[0m\u001b[0;34m.\u001b[0m\u001b[0mUnivariateSpline\u001b[0m\u001b[0;34m(\u001b[0m\u001b[0mspl_temps\u001b[0m\u001b[0;34m,\u001b[0m \u001b[0mspl_avg_M_series\u001b[0m\u001b[0;34m,\u001b[0m \u001b[0mk\u001b[0m \u001b[0;34m=\u001b[0m \u001b[0;36m5\u001b[0m\u001b[0;34m)\u001b[0m\u001b[0;34m\u001b[0m\u001b[0;34m\u001b[0m\u001b[0m\n\u001b[0m\u001b[1;32m      6\u001b[0m \u001b[0mxs\u001b[0m \u001b[0;34m=\u001b[0m \u001b[0mnp\u001b[0m\u001b[0;34m.\u001b[0m\u001b[0mlinspace\u001b[0m\u001b[0;34m(\u001b[0m\u001b[0;36m0\u001b[0m\u001b[0;34m,\u001b[0m \u001b[0;36m20\u001b[0m\u001b[0;34m,\u001b[0m \u001b[0;36m101\u001b[0m\u001b[0;34m)\u001b[0m\u001b[0;34m\u001b[0m\u001b[0;34m\u001b[0m\u001b[0m\n\u001b[1;32m      7\u001b[0m \u001b[0mplt\u001b[0m\u001b[0;34m.\u001b[0m\u001b[0mplot\u001b[0m\u001b[0;34m(\u001b[0m\u001b[0mxs\u001b[0m\u001b[0;34m,\u001b[0m \u001b[0mspl\u001b[0m\u001b[0;34m(\u001b[0m\u001b[0mxs\u001b[0m\u001b[0;34m)\u001b[0m\u001b[0;34m,\u001b[0m \u001b[0;34m'g'\u001b[0m\u001b[0;34m,\u001b[0m \u001b[0mlw\u001b[0m\u001b[0;34m=\u001b[0m\u001b[0;36m3\u001b[0m\u001b[0;34m)\u001b[0m\u001b[0;34m\u001b[0m\u001b[0;34m\u001b[0m\u001b[0m\n",
      "\u001b[0;32m/opt/miniconda3/lib/python3.7/site-packages/scipy/interpolate/fitpack2.py\u001b[0m in \u001b[0;36m__init__\u001b[0;34m(self, x, y, w, bbox, k, s, ext, check_finite)\u001b[0m\n\u001b[1;32m    184\u001b[0m \u001b[0;34m\u001b[0m\u001b[0m\n\u001b[1;32m    185\u001b[0m         data = dfitpack.fpcurf0(x, y, k, w=w, xb=bbox[0],\n\u001b[0;32m--> 186\u001b[0;31m                                 xe=bbox[1], s=s)\n\u001b[0m\u001b[1;32m    187\u001b[0m         \u001b[0;32mif\u001b[0m \u001b[0mdata\u001b[0m\u001b[0;34m[\u001b[0m\u001b[0;34m-\u001b[0m\u001b[0;36m1\u001b[0m\u001b[0;34m]\u001b[0m \u001b[0;34m==\u001b[0m \u001b[0;36m1\u001b[0m\u001b[0;34m:\u001b[0m\u001b[0;34m\u001b[0m\u001b[0;34m\u001b[0m\u001b[0m\n\u001b[1;32m    188\u001b[0m             \u001b[0;31m# nest too small, setting to maximum bound\u001b[0m\u001b[0;34m\u001b[0m\u001b[0;34m\u001b[0m\u001b[0;34m\u001b[0m\u001b[0m\n",
      "\u001b[0;31mValueError\u001b[0m: 0-th dimension must be fixed to 100 but got 101\n"
     ]
    }
   ],
   "source": [
    "spl_avg_M_series = avg_M_series\n",
    "spl_temps = list(temps)\n",
    "#spl_avg_M_series.insert(0, 0) \n",
    "#spl_temps.insert(0, 0)\n",
    "spl = inter.UnivariateSpline(spl_temps, spl_avg_M_series, k = 5)\n",
    "xs = np.linspace(0, 20, 101)\n",
    "plt.plot(xs, spl(xs), 'g', lw=3)\n",
    "\n",
    "plt.plot(temps, avg_M_series, 'o')"
   ]
  },
  {
   "cell_type": "code",
   "execution_count": 336,
   "metadata": {},
   "outputs": [],
   "source": [
    "#spl_avg_M_series.insert(0, 0) "
   ]
  },
  {
   "cell_type": "code",
   "execution_count": 341,
   "metadata": {},
   "outputs": [],
   "source": []
  },
  {
   "cell_type": "code",
   "execution_count": null,
   "metadata": {},
   "outputs": [],
   "source": []
  }
 ],
 "metadata": {
  "kernelspec": {
   "display_name": "Python 3",
   "language": "python",
   "name": "python3"
  },
  "language_info": {
   "codemirror_mode": {
    "name": "ipython",
    "version": 3
   },
   "file_extension": ".py",
   "mimetype": "text/x-python",
   "name": "python",
   "nbconvert_exporter": "python",
   "pygments_lexer": "ipython3",
   "version": "3.7.4"
  }
 },
 "nbformat": 4,
 "nbformat_minor": 2
}
