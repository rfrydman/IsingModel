{
 "cells": [
  {
   "cell_type": "code",
   "execution_count": 2,
   "metadata": {},
   "outputs": [
    {
     "data": {
      "text/plain": [
       "'/opt/miniconda3/bin/python3'"
      ]
     },
     "execution_count": 2,
     "metadata": {},
     "output_type": "execute_result"
    }
   ],
   "source": [
    "import sys\n",
    "sys.executable"
   ]
  },
  {
   "cell_type": "code",
   "execution_count": 420,
   "metadata": {},
   "outputs": [
    {
     "ename": "ModuleNotFoundError",
     "evalue": "No module named 'pandas'",
     "output_type": "error",
     "traceback": [
      "\u001b[0;31m---------------------------------------------------------------------------\u001b[0m",
      "\u001b[0;31mModuleNotFoundError\u001b[0m                       Traceback (most recent call last)",
      "\u001b[0;32m<ipython-input-420-5adab51b4383>\u001b[0m in \u001b[0;36m<module>\u001b[0;34m\u001b[0m\n\u001b[1;32m      7\u001b[0m \u001b[0;32mfrom\u001b[0m \u001b[0mIPython\u001b[0m\u001b[0;34m.\u001b[0m\u001b[0mdisplay\u001b[0m \u001b[0;32mimport\u001b[0m \u001b[0mHTML\u001b[0m\u001b[0;34m\u001b[0m\u001b[0;34m\u001b[0m\u001b[0m\n\u001b[1;32m      8\u001b[0m \u001b[0;32mimport\u001b[0m \u001b[0mscipy\u001b[0m\u001b[0;34m.\u001b[0m\u001b[0minterpolate\u001b[0m \u001b[0;32mas\u001b[0m \u001b[0minter\u001b[0m\u001b[0;34m\u001b[0m\u001b[0;34m\u001b[0m\u001b[0m\n\u001b[0;32m----> 9\u001b[0;31m \u001b[0;32mimport\u001b[0m \u001b[0mpandas\u001b[0m \u001b[0;32mas\u001b[0m \u001b[0mpd\u001b[0m\u001b[0;34m\u001b[0m\u001b[0;34m\u001b[0m\u001b[0m\n\u001b[0m",
      "\u001b[0;31mModuleNotFoundError\u001b[0m: No module named 'pandas'"
     ]
    }
   ],
   "source": [
    "import numpy as np\n",
    "import matplotlib.pyplot as plt\n",
    "from numpy import random as rng\n",
    "from matplotlib.colors import ListedColormap\n",
    "import matplotlib\n",
    "from  matplotlib.animation import FuncAnimation\n",
    "from IPython.display import HTML\n",
    "import scipy.interpolate as inter\n",
    "import pandas as pd"
   ]
  },
  {
   "cell_type": "code",
   "execution_count": 4,
   "metadata": {},
   "outputs": [],
   "source": [
    "\"\"\"EXERCISE 1\"\"\"\n",
    "# Uniform Lattice creation\n",
    "def normallattice(N, M, value=0):\n",
    "    '''\n",
    "    This function returns an N (rows) x M (columns) lattice with identical values value\n",
    "    '''\n",
    "    return np.full((N, M), value)\n",
    "\n",
    "def alternatinglattice(N):\n",
    "    '''\n",
    "    returns an alternating square array of 1 and -1\n",
    "    '''\n",
    "    alternating = np.tile([[1, -1],[-1, 1]], (N, N))\n",
    "    return alternating\n",
    "\n",
    "# Random Lattice creation\n",
    "def randomlattice(N, M):\n",
    "    '''\n",
    "    This function returns an N (rows) x M (columns) lattice with randomized spin values -1 or 1\n",
    "    '''\n",
    "    return rng.choice((-1, 1), (N, M))\n",
    "\n",
    "def continuouslattice(N, M):\n",
    "    return np.random.rand(N, M)\n",
    "\n",
    "# Draw your lattice\n",
    "def plotlattice(array, color = 0 , axis_indexing = 0):\n",
    "    dim = np.shape(array)\n",
    "    nrows, ncols = dim[0], dim[1]\n",
    "    image = array\n",
    "    if axis_indexing == 1:\n",
    "        row_labels = list(range(nrows))\n",
    "        col_labels = list(range(ncols))\n",
    "    elif axis_indexing == 2:\n",
    "        row_labels = list(map(chr, range(97, 97 + nrows)))\n",
    "        col_labels = list(map(chr, range(97, 97 + ncols)))\n",
    "    else:\n",
    "        row_labels = []\n",
    "        col_labels = []\n",
    "    if color == 0:\n",
    "        plt.matshow(image, cmap = plt.cm.gray_r)\n",
    "    elif color == 1:\n",
    "        plt.matshow(image, cmap = plt.cm.magma)\n",
    "    elif color == 2:\n",
    "        plt.matshow(image, cmap = plt.cm.Spectral_r)\n",
    "    plt.xticks(range(ncols), col_labels)\n",
    "    plt.yticks(range(nrows), row_labels)\n",
    "    plt.show()"
   ]
  },
  {
   "cell_type": "code",
   "execution_count": 5,
   "metadata": {},
   "outputs": [
    {
     "data": {
      "image/png": "[encoded data removed]",
      "text/plain": [
       "<Figure size 288x288 with 1 Axes>"
      ]
     },
     "metadata": {
      "needs_background": "light"
     },
     "output_type": "display_data"
    },
    {
     "data": {
      "image/png": "[encoded data removed]",
      "text/plain": [
       "<Figure size 288x288 with 1 Axes>"
      ]
     },
     "metadata": {
      "needs_background": "light"
     },
     "output_type": "display_data"
    },
    {
     "data": {
      "image/png": "[encoded data removed]",
      "text/plain": [
       "<Figure size 288x288 with 1 Axes>"
      ]
     },
     "metadata": {
      "needs_background": "light"
     },
     "output_type": "display_data"
    }
   ],
   "source": [
    "array = continuouslattice(5, 5)\n",
    "plotlattice(array, 2, 1)\n",
    "\n",
    "boring_large_array = randomlattice(10, 10)\n",
    "plotlattice(boring_large_array, 0, 2)\n",
    "\n",
    "fun_large_array = continuouslattice(20, 20)\n",
    "plotlattice(fun_large_array, 2, 0)"
   ]
  },
  {
   "cell_type": "code",
   "execution_count": 6,
   "metadata": {},
   "outputs": [],
   "source": [
    "\"\"\"EXERCISE 2\"\"\"\n",
    "def chooseParticle(array):\n",
    "    dim = np.shape(array)\n",
    "    nrows, ncols = dim[0], dim[1]\n",
    "    rrow = np.random.randint(0, nrows)\n",
    "    rcol = np.random.randint(0, ncols)\n",
    "    return (rrow, rcol)\n",
    "\n",
    "def flipParticle(particle, array):\n",
    "    new_array = np.copy(array)\n",
    "    i = particle[0]\n",
    "    j = particle[1]\n",
    "    new_array[i][j] *= -1\n",
    "    return new_array"
   ]
  },
  {
   "cell_type": "code",
   "execution_count": 7,
   "metadata": {},
   "outputs": [],
   "source": [
    "\"\"\"EXERCISE 3\"\"\"\n",
    "def periodicBound(lattice, i, j):\n",
    "    dim = np.shape(lattice)\n",
    "    ind_row = dim[0] - 1\n",
    "    ind_col = dim[1] - 1\n",
    "    if i <= ind_row and j <= ind_col:\n",
    "        return lattice[i][j]\n",
    "    else:\n",
    "        wrap_i = i % (ind_row + 1)\n",
    "        wrap_j = j % (ind_col + 1)\n",
    "        return lattice[wrap_i][wrap_j]"
   ]
  },
  {
   "cell_type": "code",
   "execution_count": 8,
   "metadata": {},
   "outputs": [],
   "source": [
    "def neighbourSum(lattice, point):\n",
    "    i = point[0]\n",
    "    j = point[1]\n",
    "    latticesum = 0\n",
    "    \n",
    "    latticesum += periodicBound(lattice, i+1, j)\n",
    "    latticesum += periodicBound(lattice, i-1, j)\n",
    "    latticesum += periodicBound(lattice, i, j+1)\n",
    "    latticesum += periodicBound(lattice, i, j-1)\n",
    "    \n",
    "    return latticesum"
   ]
  },
  {
   "cell_type": "code",
   "execution_count": 9,
   "metadata": {},
   "outputs": [],
   "source": [
    "test_lattice = [[1, 2, 3], [4, 5, 6], [7, 8, 9]]"
   ]
  },
  {
   "cell_type": "code",
   "execution_count": 10,
   "metadata": {},
   "outputs": [
    {
     "data": {
      "text/plain": [
       "16"
      ]
     },
     "execution_count": 10,
     "metadata": {},
     "output_type": "execute_result"
    }
   ],
   "source": [
    "neighbourSum(test_lattice, (0,0))"
   ]
  },
  {
   "cell_type": "code",
   "execution_count": 11,
   "metadata": {},
   "outputs": [],
   "source": [
    "\"\"\"Pulled off the internet, with modifications to make it work for this data/added functionality.\"\"\"\n",
    "\n",
    "def heatmap(array, axis_indexing = 1, color_scheme = 0):\n",
    "    #if not ax:\n",
    "    #    ax = plt.gca()\n",
    "    \n",
    "    if axis_indexing == 1:\n",
    "        row_labels = range(array.shape[0])\n",
    "        col_labels = range(array.shape[1])\n",
    "        ax.set_xticks(np.arange(array.shape[1]))\n",
    "        ax.set_yticks(np.arange(array.shape[0]))\n",
    "        ax.set_xticklabels(col_labels)\n",
    "        ax.set_yticklabels(row_labels)\n",
    "    elif axis_indexing == 2:\n",
    "        row_labels = list(map(chr, range(97, 97 + array.shape[0])))\n",
    "        col_labels = list(map(chr, range(97, 97 + array.shape[1])))\n",
    "        row_labels.reverse()\n",
    "        ax.set_xticks(np.arange(array.shape[1]))\n",
    "        ax.set_yticks(np.arange(array.shape[0]))\n",
    "        ax.set_xticklabels(col_labels)\n",
    "        ax.set_yticklabels(row_labels)\n",
    "    else:\n",
    "        row_labels = []\n",
    "        col_labels = []\n",
    "        ax.set_xticklabels(col_labels)\n",
    "        ax.set_yticklabels(row_labels)\n",
    "    \n",
    "    if color_scheme == 0:\n",
    "        im = ax.imshow(array, cmap = plt.cm.gray_r)\n",
    "    elif color_scheme == 1:\n",
    "        im = ax.imshow(array, cmap = plt.cm.magma)\n",
    "    elif color_scheme == 2:\n",
    "        im = ax.imshow(array, cmap = plt.cm.Spectral_r)\n",
    "\n",
    "    for edge, spine in ax.spines.items():\n",
    "        spine.set_visible(False)\n",
    "\n",
    "    ax.set_xticks(np.arange(array.shape[1]+1)-.5, minor=True)\n",
    "    ax.set_yticks(np.arange(array.shape[0]+1)-.5, minor=True)\n",
    "    ax.tick_params(which=\"minor\", bottom=False, left=False)\n",
    "\n",
    "    return im\n",
    "\n",
    "\n",
    "def annotate_heatmap(im, array, valfmt=\"{x:.0f}\", textcolors=[\"black\", \"white\"], threshold=None):\n",
    "\n",
    "    # Normalize the threshold to the images color range.\n",
    "    if threshold is not None:\n",
    "        threshold = im.norm(threshold)\n",
    "    else:\n",
    "        threshold = im.norm(array.max())/2.\n",
    "\n",
    "    # Set default alignment to center, but allow it to be\n",
    "    # overwritten by textkw.\n",
    "    kw = dict(horizontalalignment=\"center\",\n",
    "              verticalalignment=\"center\")\n",
    "\n",
    "    # Get the formatter in case a string is supplied\n",
    "    if isinstance(valfmt, str):\n",
    "        valfmt = matplotlib.ticker.StrMethodFormatter(valfmt)\n",
    "\n",
    "    # Loop over the array and create a `Text` for each \"pixel\".\n",
    "    # Change the text's color depending on the array.\n",
    "    texts = []\n",
    "    for i in range(array.shape[0]):\n",
    "        for j in range(array.shape[1]):\n",
    "            kw.update(color=textcolors[int(im.norm(array[i, j]) < threshold)])\n",
    "            text = im.axes.text(j, i, valfmt(array[i, j], None), **kw)\n",
    "            texts.append(text)\n",
    "\n",
    "    return texts"
   ]
  },
  {
   "cell_type": "code",
   "execution_count": 12,
   "metadata": {},
   "outputs": [
    {
     "data": {
      "image/png": "[encoded data removed]",
      "text/plain": [
       "<Figure size 432x288 with 1 Axes>"
      ]
     },
     "metadata": {
      "needs_background": "light"
     },
     "output_type": "display_data"
    }
   ],
   "source": [
    "test_array = randomlattice(5, 5)    \n",
    "\n",
    "fig, ax = plt.subplots()\n",
    "\n",
    "image = heatmap(test_array, axis_indexing = 0, color_scheme = 2)\n",
    "texts = annotate_heatmap(image, test_array, valfmt = \"{x:.0f}\", threshold = 0, textcolors=[\"white\", \"black\"])\n",
    "\n",
    "fig.tight_layout()\n",
    "plt.show()"
   ]
  },
  {
   "cell_type": "code",
   "execution_count": 13,
   "metadata": {},
   "outputs": [],
   "source": [
    "def neighbourlattice(array):\n",
    "    sumlattice = np.zeros(array.shape)\n",
    "    for i in range(array.shape[0]):\n",
    "        for j in range(array.shape[1]):\n",
    "            point = (i, j)\n",
    "            elem = neighbourSum(array, point)\n",
    "            sumlattice[i, j] = elem\n",
    "    return sumlattice"
   ]
  },
  {
   "cell_type": "code",
   "execution_count": 14,
   "metadata": {},
   "outputs": [],
   "source": [
    "\"\"\"TEST ARRAYS\"\"\"\n",
    "smalltestarray = randomlattice(5, 5)\n",
    "smallsumarray = neighbourlattice(smalltestarray)"
   ]
  },
  {
   "cell_type": "code",
   "execution_count": 15,
   "metadata": {},
   "outputs": [
    {
     "data": {
      "image/png": "[encoded data removed]",
      "text/plain": [
       "<Figure size 432x288 with 1 Axes>"
      ]
     },
     "metadata": {
      "needs_background": "light"
     },
     "output_type": "display_data"
    },
    {
     "data": {
      "image/png": "[encoded data removed]",
      "text/plain": [
       "<Figure size 432x288 with 1 Axes>"
      ]
     },
     "metadata": {
      "needs_background": "light"
     },
     "output_type": "display_data"
    }
   ],
   "source": [
    "\"\"\"TEST OF NEIGHBOURLATTICE FUNCTION\"\"\"\n",
    "fig, ax = plt.subplots()\n",
    "\n",
    "image = heatmap(smalltestarray, axis_indexing = 0, color_scheme = 0)\n",
    "texts = annotate_heatmap(image, smalltestarray, textcolors=['white', 'black'])\n",
    "\n",
    "fig.tight_layout()\n",
    "plt.show()\n",
    "\n",
    "fig, ax = plt.subplots()\n",
    "\n",
    "image = heatmap(smallsumarray, axis_indexing = 0, color_scheme = 2)\n",
    "texts = annotate_heatmap(image, smallsumarray, textcolors=['black','black'])\n",
    "\n",
    "fig.tight_layout()\n",
    "plt.show()"
   ]
  },
  {
   "cell_type": "code",
   "execution_count": 16,
   "metadata": {},
   "outputs": [],
   "source": [
    "\"\"\"EXERCISE 4\"\"\"\n",
    "def localenergy(array, point, constJ = 1, constH = 1, roryIntuition = False):\n",
    "    local_spin = neighbourSum(array, point)\n",
    "    \n",
    "    i, j = point[0], point[1]\n",
    "    self_spin = array[i, j]\n",
    "    local_interaction = self_spin * local_spin\n",
    "    local_int_energy = -1 * constJ * local_interaction\n",
    "    \n",
    "    if roryIntuition == True: \n",
    "        local_neighbour_energy = -1 * constH * self_spin\n",
    "    else:\n",
    "        local_neighbour_energy = -1 * constH * local_spin\n",
    "    \n",
    "    local_energy = local_int_energy + local_neighbour_energy\n",
    "    return local_energy\n",
    "\n",
    "def totalenergy(array):\n",
    "    total_energy = 0\n",
    "    for i in range(array.shape[0]):\n",
    "        for j in range(array.shape[1]):\n",
    "            point = (i, j)\n",
    "            total_energy += localenergy(array, point)\n",
    "    return total_energy"
   ]
  },
  {
   "cell_type": "code",
   "execution_count": 17,
   "metadata": {},
   "outputs": [
    {
     "name": "stdout",
     "output_type": "stream",
     "text": [
      "64\n",
      "8\n",
      "-24\n",
      "-16\n",
      "32\n",
      "-392\n",
      "-392\n",
      "-392\n",
      "-392\n",
      "-392\n",
      "0\n",
      "0\n",
      "0\n",
      "0\n",
      "0\n",
      "0\n",
      "0\n",
      "0\n",
      "0\n",
      "0\n"
     ]
    },
    {
     "data": {
      "text/plain": [
       "'\\nWith J and H = 1, the random energies are all even, and both positive and negative. The spin ups are all -392...\\nthe spin downs are all 0, and the spin 0 are also all zero.\\n'"
      ]
     },
     "execution_count": 17,
     "metadata": {},
     "output_type": "execute_result"
    }
   ],
   "source": [
    "#random lattices\n",
    "for i in range(5):\n",
    "    energytest = randomlattice(7, 7)\n",
    "    print(totalenergy(energytest))\n",
    "    \n",
    "#spin up lattices\n",
    "for i in range(5):\n",
    "    energytest = normallattice(7, 7, 1)\n",
    "    print(totalenergy(energytest))\n",
    "\n",
    "#spin down lattices\n",
    "for i in range(5):\n",
    "    energytest = normallattice(7, 7, -1)\n",
    "    print(totalenergy(energytest))\n",
    "\n",
    "#spin 0 lattices:\n",
    "for i in range(5):\n",
    "    energytest = normallattice(7, 7, 0)\n",
    "    print(totalenergy(energytest))\n",
    "    \n",
    "    \n",
    "\"\"\"\n",
    "With J and H = 1, the random energies are all even, and both positive and negative. The spin ups are all -392...\n",
    "the spin downs are all 0, and the spin 0 are also all zero.\n",
    "\"\"\""
   ]
  },
  {
   "cell_type": "code",
   "execution_count": 18,
   "metadata": {},
   "outputs": [],
   "source": [
    "\"\"\"EXERCISE 5\"\"\"\n",
    "def magnetisation(array):\n",
    "    totalM = np.sum(array)\n",
    "    spinM = totalM / (array.shape[0] * array.shape[1])\n",
    "    return totalM, spinM"
   ]
  },
  {
   "cell_type": "code",
   "execution_count": 19,
   "metadata": {},
   "outputs": [],
   "source": [
    "test_mag = normallattice(5, 5, 1)"
   ]
  },
  {
   "cell_type": "code",
   "execution_count": 20,
   "metadata": {},
   "outputs": [
    {
     "data": {
      "text/plain": [
       "(25, 1.0)"
      ]
     },
     "execution_count": 20,
     "metadata": {},
     "output_type": "execute_result"
    }
   ],
   "source": [
    "magnetisation(test_mag)"
   ]
  },
  {
   "cell_type": "code",
   "execution_count": 21,
   "metadata": {},
   "outputs": [],
   "source": [
    "perturb_mag = flipParticle((2,1), test_mag)\n",
    "perturb_mag = flipParticle((3,2), perturb_mag)\n",
    "perturb_mag = flipParticle((0,4), perturb_mag)"
   ]
  },
  {
   "cell_type": "code",
   "execution_count": 22,
   "metadata": {},
   "outputs": [
    {
     "data": {
      "text/plain": [
       "(19, 0.76)"
      ]
     },
     "execution_count": 22,
     "metadata": {},
     "output_type": "execute_result"
    }
   ],
   "source": [
    "magnetisation(perturb_mag)"
   ]
  },
  {
   "cell_type": "code",
   "execution_count": 23,
   "metadata": {},
   "outputs": [
    {
     "data": {
      "text/plain": [
       "'PSEUDOCODE:\\ncall randomlattice:\\n    assign randomlattice return value to variable array\\n    print array\\n\\ndef delta_energy(array, particle):\\n    call totalenergy on unperturbed lattice:\\n    store value as E1\\n    \\n    store new perturbed lattice with flip particle\\n    \\n    call totalenergy on perturbed lattice:\\n    store value as E2\\n    \\n    calculate and return E2-E1\\n    \\ndef fliparoni(array, T):\\n        particle = choose random particle to flip with rng\\n\\n        delta = delta_energy(array, particle)\\n        if delta < 0:\\n            flipParticle(particle, array)\\n        else:\\n            rng between 0 and 1\\n            pE = np.exp(-delta / (k * T))\\n            if r < pE:\\n                flipParticle(particle, array)\\n            else:\\n                pass\\n        return array\\n\\ndef simulate(array, T, N):\\n    for i in range(N):\\n        fliparoni(array, T)\\n    return array\\n\\n'"
      ]
     },
     "execution_count": 23,
     "metadata": {},
     "output_type": "execute_result"
    }
   ],
   "source": [
    "\"\"\"EXERCISE 6\"\"\"\n",
    "\n",
    "\"\"\"I feel like with the number of times I use array, I should make the lattice a class.\"\"\"\n",
    "\n",
    "\"\"\"PSEUDOCODE:\n",
    "call randomlattice:\n",
    "    assign randomlattice return value to variable array\n",
    "    print array\n",
    "\n",
    "def delta_energy(array, particle):\n",
    "    call totalenergy on unperturbed lattice:\n",
    "    store value as E1\n",
    "    \n",
    "    store new perturbed lattice with flip particle\n",
    "    \n",
    "    call totalenergy on perturbed lattice:\n",
    "    store value as E2\n",
    "    \n",
    "    calculate and return E2-E1\n",
    "    \n",
    "def fliparoni(array, T):\n",
    "        particle = choose random particle to flip with rng\n",
    "\n",
    "        delta = delta_energy(array, particle)\n",
    "        if delta < 0:\n",
    "            flipParticle(particle, array)\n",
    "        else:\n",
    "            rng between 0 and 1\n",
    "            pE = np.exp(-delta / (k * T))\n",
    "            if r < pE:\n",
    "                flipParticle(particle, array)\n",
    "            else:\n",
    "                pass\n",
    "        return array\n",
    "\n",
    "def simulate(array, T, N):\n",
    "    for i in range(N):\n",
    "        fliparoni(array, T)\n",
    "    return array\n",
    "\n",
    "\"\"\""
   ]
  },
  {
   "cell_type": "code",
   "execution_count": 285,
   "metadata": {},
   "outputs": [],
   "source": [
    "def delta_energy(array, particle):\n",
    "    E1 = localenergy(array, particle)\n",
    "    \n",
    "    delta = -2 * E1\n",
    "    \n",
    "    return delta\n",
    "    \n",
    "def fliparoni(array, T, debug = False):\n",
    "        particle = chooseParticle(array)\n",
    "        \n",
    "        k = 1\n",
    "        #k = 1.380649e-23 #(Boltzman constant in different units)\n",
    "        \n",
    "        if debug == True: print(particle)\n",
    "        \n",
    "        delta = delta_energy(array, particle)\n",
    "        \n",
    "        if debug == True: print(delta)\n",
    "        \n",
    "        if delta < 0:\n",
    "            new_array = flipParticle(particle, array)\n",
    "        else:\n",
    "            r = np.random.uniform()\n",
    "            pE = np.exp(-1 * delta / (k * T))\n",
    "            if r < pE:\n",
    "                new_array = flipParticle(particle, array)\n",
    "            else:\n",
    "                new_array = array\n",
    "        return new_array"
   ]
  },
  {
   "cell_type": "code",
   "execution_count": 283,
   "metadata": {},
   "outputs": [],
   "source": [
    "def plotsimulation(array, T, N): #plots start lattice and lattice after N steps at temp T\n",
    "    plotlattice(array)\n",
    "    loop_array = array\n",
    "    for i in range(N):\n",
    "        #plotlattice(loop_array)\n",
    "        loop_array = fliparoni(loop_array, T)\n",
    "    plotlattice(loop_array)\n",
    "    return\n",
    "\n",
    "def samplelattice(array, T, N): #for the animation function later on.\n",
    "    data = []\n",
    "    \n",
    "    loop_array = array\n",
    "    for i in range(N):\n",
    "        data.append(loop_array)\n",
    "        loop_array = fliparoni(loop_array, T)\n",
    "    return data\n",
    "\n",
    "\"\"\"def simulate(array, T, N): #the function that returns magnetisation and total energy for each of N steps\n",
    "    observables = np.zeros((2, N))\n",
    "    \n",
    "    loop_array = array\n",
    "    for i in range(N):\n",
    "        mag = magnetisation(loop_array)\n",
    "        observables[0][i] = mag[0]\n",
    "        observables[1][i] = totalenergy(loop_array)\n",
    "        loop_array = fliparoni(loop_array, T)\n",
    "        \n",
    "    return observables\"\"\"\n",
    "\n",
    "def observe(array, total = False):\n",
    "    magTuple = magnetisation(array)\n",
    "    \n",
    "    if total == False: \n",
    "        mag = magTuple[1] #assuming average spin\n",
    "    elif total == True:\n",
    "        mag = magTuple[0]\n",
    "        \n",
    "    energy = totalenergy(array)\n",
    "    return mag, energy\n",
    "\n",
    "def metropolis(array, T, N = 1000):\n",
    "    differences = np.zeros((N, 2))\n",
    "    measurables = np.zeros((N, 2))\n",
    "    loop_array_initial = array\n",
    "    for i in range(N):\n",
    "        loop_array_final = fliparoni(loop_array_initial, T)\n",
    "        val_initial = observe(loop_array_initial)\n",
    "        val_final = observe(loop_array_final)\n",
    "        measurables[i] = observe(loop_array_initial, total = False)\n",
    "        differences[i] = np.subtract(val_final, val_initial)\n",
    "        loop_array_initial = loop_array_final\n",
    "    measurables[N-1] = observe(loop_array_final, total = False)\n",
    "    return differences, measurables"
   ]
  },
  {
   "cell_type": "code",
   "execution_count": 278,
   "metadata": {},
   "outputs": [],
   "source": [
    "simulationLattice = randomlattice(10, 10)"
   ]
  },
  {
   "cell_type": "code",
   "execution_count": 290,
   "metadata": {},
   "outputs": [
    {
     "data": {
      "image/png": "[encoded data removed]",
      "text/plain": [
       "<Figure size 432x288 with 1 Axes>"
      ]
     },
     "metadata": {
      "needs_background": "light"
     },
     "output_type": "display_data"
    }
   ],
   "source": [
    "N = 1000\n",
    "plotdata = metropolis(simulationLattice, 4, N)[1]\n",
    "mag = plotdata[:,0]\n",
    "plt.plot(list(range(N)), mag, alpha=0.5)\n",
    "plt.show()\n",
    "#energy.size"
   ]
  },
  {
   "cell_type": "code",
   "execution_count": 28,
   "metadata": {},
   "outputs": [],
   "source": [
    "def animateplot(array, T, N, color_scheme = 0):\n",
    "\n",
    "    data = samplelattice(simulationLattice, T, N)\n",
    "\n",
    "    fig = plt.figure()\n",
    "    \n",
    "    if color_scheme == 0:\n",
    "        color_map = plt.cm.gray_r\n",
    "    else:\n",
    "        color_map = plt.cm.magma\n",
    "        \n",
    "    plot = plt.imshow(data[0], cmap = color_map)\n",
    "\n",
    "    def init():\n",
    "        plot.set_data(data[0])\n",
    "        return [plot]\n",
    "\n",
    "    def update(j):\n",
    "        plot.set_data(data[j])\n",
    "        return [plot]\n",
    "\n",
    "\n",
    "    anim = FuncAnimation(fig, update, init_func = init, frames= N, interval = 30, blit=True)\n",
    "    \n",
    "    return anim"
   ]
  },
  {
   "cell_type": "code",
   "execution_count": 473,
   "metadata": {},
   "outputs": [
    {
     "data": {
      "text/html": [
       "<video width=\"432\" height=\"288\" controls autoplay loop>\n",
       "  <source type=\"video/mp4\" src=\"data:video/mp4;base64,AAAAHGZ0eXBNNFYgAAACAGlzb21pc28yYXZjMQAAAAhmcmVlAABdK21kYXQAAAKgBgX//5zcRem9\n",
       "5tlIt5Ys2CDZI+7veDI2NCAtIGNvcmUgMTUyIC0gSC4yNjQvTVBFRy00IEFWQyBjb2RlYyAtIENv\n",
       "cHlsZWZ0IDIwMDMtMjAxNyAtIGh0dHA6Ly93d3cudmlkZW9sYW4ub3JnL3gyNjQuaHRtbCAtIG9w\n",
       "dGlvbnM6IGNhYmFjPTEgcmVmPTMgZGVibG9jaz0xOjA6MCBhbmFseXNlPTB4MzoweDExMyBtZT1o\n",
       "ZXggc3VibWU9NyBwc3k9MSBwc3lfcmQ9MS4wMDowLjAwIG1peGVkX3JlZj0xIG1lX3JhbmdlPTE2\n",
       "IGNocm9tYV9tZT0xIHRyZWxsaXM9MSA4eDhkY3Q9MSBjcW09MCBkZWFkem9uZT0yMSwxMSBmYXN0\n",
       "X3Bza2lwPTEgY2hyb21hX3FwX29mZnNldD0tMiB0aHJlYWRzPTYgbG9va2FoZWFkX3RocmVhZHM9\n",
       "MSBzbGljZWRfdGhyZWFkcz0wIG5yPTAgZGVjaW1hdGU9MSBpbnRlcmxhY2VkPTAgYmx1cmF5X2Nv\n",
       "bXBhdD0wIGNvbnN0cmFpbmVkX2ludHJhPTAgYmZyYW1lcz0zIGJfcHlyYW1pZD0yIGJfYWRhcHQ9\n",
       "MSBiX2JpYXM9MCBkaXJlY3Q9MSB3ZWlnaHRiPTEgb3Blbl9nb3A9MCB3ZWlnaHRwPTIga2V5aW50\n",
       "PTI1MCBrZXlpbnRfbWluPTI1IHNjZW5lY3V0PTQwIGludHJhX3JlZnJlc2g9MCByY19sb29rYWhl\n",
       "YWQ9NDAgcmM9Y3JmIG1idHJlZT0xIGNyZj0yMy4wIHFjb21wPTAuNjAgcXBtaW49MCBxcG1heD02\n",
       "OSBxcHN0ZXA9NCBpcF9yYXRpbz0xLjQwIGFxPTE6MS4wMACAAAAHa2WIhAA3//728P4FNjuY0JcR\n",
       "zeidMx+/Fbi6NDe9zgAAAwAAN9zmRP7KkwbmwAAC4SdPkdCVxxAMirIArvTEcfHVQB3dXAnB6Ym1\n",
       "tJ8cx6nzEmxQpEnHrKm5BuWVcow5FJlGiorG6VArZqhppbRg/3L0CN1Kh4L+l+mmeYSF1uWURWqi\n",
       "ZeElz3kvCI4eNER9fjE8G4dbauhoYB+BMHaw/uSHmSyggqIZ9jm7mmjxp5jXjXywjPpLoM9NhSba\n",
       "eqVCbxrZawJ+opzpIf2KaLpT/pmTYWhHWiArnagqzDFvt4iHf7/RgZY6h/RGvF2Iz12lltc8rQwP\n",
       "UfoBeWOaBQzDfvf/4vdADOOv4zfhtOuaH0PTMlDKsCwzACqhCQ3YoMb6AAAu9LvC7KsmCVzwTNzI\n",
       "VTxubGYeJJ1873h8MQYIRl4ncGXzgd0CDcdVYZC7nZG3WVmK9A08bhq/up1aLidjHuMXAoLtaTaq\n",
       "zq/3e+bVnM13JuO1/pJQyVuNtZvcPO/oTIAAFJn5aIy9QtuPVS7qkbRpjOQnTkQfVL9AbTFWk3SF\n",
       "Nnh/Jn39S5eSQOLoKVm9Q5WUECemINDg7KcjXrLFWjmWcRLAqY2mD2H+semIqw2wTwTMa3ZrKr+S\n",
       "UF1zkf8BSU9EO2ouRnZYax2R7SiUBrhlnQttZCs+ia7cLx4AHf/4+VlzNKQu2QlOhS9nJ33IOguC\n",
       "DqcEZbevkRZ1ZQPK6C3fzneNotF8ukK4oRdMl+08N+xLgbdtsZwZ5HjO5a62xLIal0EVgALJmemt\n",
       "uuPphAhmffksqhmXL8T8VsSYTk+H6zmLW4R/YbE64WblzMwH424dDHGNw3fuEz18yeGHyZ8UjUx3\n",
       "dcl6hJKODIXEVgpx7lslmKQwWsKfqKOw/k45EoC6wA9cz2+tnATcrII++BpDr0WeCm+ii3SsBx1o\n",
       "TrKliIODQBQ47h7oRTj0U1QEwUX6ThWJ/Qy/l/wHiH6JjeqXFLvfEqKUELkLfAPRNEc7Nzj+JYZI\n",
       "tm4u8aUCPBaO5HSGjtEbfYdk/InpAJDrWMpa7nmMTlQ2q5dVCIKh6Rij43q0SrqreRstkth0/9+C\n",
       "NUUYmP30R4Xv/SnYfk8K3T3FZrV3sWVxlXGGWd0yiQn2BxdVJUcnCqn2SexgT/TQb+9AlwAAGyNQ\n",
       "7PB8QAMW+1rguVIlLYM6m6t45icap4fN2GoML7V+AERflHoc5jlCig51xcgmx+QCQijZADTZ1IBk\n",
       "z7O2zl1SpzMHApR5ywNTXtkTOIduLiPPMhiEWCFEpzbyXicDkQ573ehCVG6ta+UYaMbBj9GNOwVg\n",
       "OlsbNxLs6d3SnxV/A79Sr77kqxw7VYma9fAqNaTJHgnhHArq5nveqhnLcNPn3qsgbYYPxSfrjs8f\n",
       "+1qlXBpgMqNhjcAQiKTChbD/OzxPdDl9R145CJIqI0uDl+BNvqTJJwq4K+neoNa/QtBFZlp3KkI3\n",
       "DTcL81afa4tUrlJdsGuXeV5d1UK2Nn90XJxJf3xotcpBkoWOIfOGVFYurrEhftP4LtiTGss0qRCI\n",
       "/8Im9m8e4ULvotKuU9kevPWXp5ItOybvwsJINzjYADMpQm6BL7dNC6xXu3p81kE2+H08alMpbGTj\n",
       "KYb4CdVzPdoi6L3E0GnprehaqE+b1vd1PdW/FJRUrX6LnqJb50wmzw8JVxFzjo8mOHJLkKt+yGY2\n",
       "xYpeKRCAf2kkW4hwkO1kTbZs8bCWn0b/6X39ebY6OGt4z78PAQNALqWsS++w0DdR3MjMJuo12Eqv\n",
       "ntlJTDSNkfEIHLt0XG73qAAALss6ufKj4cOFmi3CUIyGpP4bGAkbU6r/j/7EjI5fKI/j05lP9epL\n",
       "DKbAG+lnu8T+y+4BxVB/PSI6ThRf0HtEQJFjVUixUlUb1sVlBVoA06q/tlQ8bETFaIV+Mepc5HDt\n",
       "rnAWMKi4VUh4mkgQOR0uq3OJYPm6UB5CHkT2RdrJFlXLmT+8NmV9iInp4rk9PcLDGx2Npv8lkmDP\n",
       "CR+2NAHpDWEwAwiKfWu5iMuZVp0/qVbxA5gf5b0TKXmp4+DzV/mue6Fy9lfYZeMMODUoQEXpNPeu\n",
       "Kn2ED5IYAgI/X0YhcBV2dPfXsLJIOAZMWCgh83pUVQkUvdGlnm591Sxc3P2b6PkEUn/Kt9zRXBuf\n",
       "17wHncWht+CZ9m7VoL0Wfb+w/wQpJpFsqpjzvE+okjBoCbJkKgdqlbQdu+Tmofv9AN5kert55hLj\n",
       "TCVEqG6ih+d42Zmxq0co81qqvOQjR2IrjHLZEbqGBdZra+FKIrPIgr2i9vBZuMGXNEzV7BWuPyn6\n",
       "ZKYT8Vv/1dCdQ2eNSOnWeRaeknNoQuxRNZBB5il4v6mkkfvVDG4gqQqsUHVvxMZnVCZb6QzNdBSO\n",
       "+JM3jscK2CmwPfV8po6YnXHXd0qQn9fXr1G3c/R82xHOufaV810P/K9fB1ulTh1sAledsOv3QJBB\n",
       "qAAVBEmMBRTwoGk7onQe5wFxMSZJZDOIn35ev7iz2YXK8d49r6EZm1W446RhsxybDsgvQAAAAwAP\n",
       "aQAAAWBBmiRsQ3/+p4QSLSiq64uh5YGIBKbd1fmzOzEiW3lbb3Fne6G9/NjCjZjqiP85KGm2c6bH\n",
       "6+ZY4pmYdxq9oNBRgKKq7UJcYW7pMC88tty5alaHOi736BWB9eYwlu7paVDdccq2xNH8ymw9gIf7\n",
       "q2Hn6XhJ03WxRkmYfsXCrrOwuZxT9PZGEL3MQDcUH2w+DNigMo9um3zUVSbYtrflwdch5K6lKs5k\n",
       "A07kjWNoLW5BU9vDCeCH+TsfOWmFQHEVgrswDh5XwstZLhetbSIN0fExMCeRmUpk0WMaXITfx5nT\n",
       "gz1GusYu4M9cq6zwjbUOSFwl6sstWJ0956iRe0Fq3lHXl1yYy10WHwN3EhqgvC8mxkyH76f42GZt\n",
       "LnDeYQFJgGilQKgQzS0Af11g2JvcvMe5Qb3GeRmAmcrsaKd0mqIlXhaHAEBVn/LUeeOCNvRCTash\n",
       "j9+5MjXClv2gVZ8qfqSAAAAARkGeQniFfwLtlplhNjS2eLTbMAboXFsIZyXI196kE8Zr4I0FoDM5\n",
       "WqIxjq9Bcs7QlAjyj8qEZlO9jCrHYT3j9u53cnd5rWkAAAAuAZ5hdEJ/A6573krFLiXRWYjy+IFf\n",
       "39ltsmvC0+MdFlEOhBM9AWOcdq51vq6ybAAAAEMBnmNqQn8Dh+Umoxz8yV9WuyojjD1SZwmFaADL\n",
       "NZvOK1i+zGTN0mGDrJO/jEGFfk4q6QL96rjsQdJgBcCaQAt158IHAAAAukGaaEmoQWiZTAhv//6n\n",
       "hAPvsqKOlLpgCGO79pgKwjyHpA1iUK9uKnr+3XDrFO/+Qb1ls9JEBpZfjUDZTeX/NyrLtPJxi0IF\n",
       "l583Y7m8s87mQZn68jM0pvSvb/E4ZkX5NIH7c6EjPf/eiDQykXITaBxu6jWSkzqi6yOHDsGkpFWH\n",
       "cHbRP/p/n2uPbKW35WdOpB9crU/pNRZJN9jmAHHhY7Ut5CVi37ELhes4kuur+vPFgR3DeSqQQ2nj\n",
       "gQAAADxBnoZFESwr/wLPkp+AdUSoqnJsrVYGZXQV2ro3oMieOt9jnUeL9meTbf0AJZ/OYCueLx6T\n",
       "DSnKUdzLAoEAAAA+AZ6ldEJ/A4VpjgID/TxyTE4qiYeU9BYB9sQ4Up+mAS+PTIE1ABt35RenrtpG\n",
       "QNjoTzpNWeSy1SdjtHSrjrEAAAAjAZ6nakJ/A4flJqMc+1p80kHSwHAkvzVyZYUeQwqfMSVcJaAA\n",
       "AADbQZqsSahBbJlMCG///qeEARxQfDftksogSWyyzTUARGo//1/AncxICPX7FHQdDJQ3h8Y94GlC\n",
       "18q3kNbMLtxUf7dIYvSWR9TxWXKB1E4efw/paytrzMKJTd3DMhFJpUoTcMQqcHRG+QcM4XW+eEuD\n",
       "4gvnu1oXFvBAxHXRST6u3e2lCbAJt1JPHOBfcxynHl/gVQJ3QqbeuNyxjVc4zf8VH67l/O5qdRls\n",
       "H1FU+WVTCRxDoNwM0iq4JCgtRr98hb23fu+a5inIwXbwqKF283VSLfHRT1Fz8AjvmhegAAAAMkGe\n",
       "ykUVLCv/As+Sn4B1RKjvvyzeeskMZCGovVQnxqjy/kzR4Dc3YFgLkY4iLy60/ZixAAAAJQGe6XRC\n",
       "fwOFaY4CBB8Ydqt+hryYsFLzxoFUG38wRRLbZ1R1jqAAAAAgAZ7rakJ/A4flJqMc+/sBLG3kIK3w\n",
       "nCTBOqkzFAgIm4AAAABgQZrwSahBbJlMCG///qeEAAWPfsnholaAI7n0P/r+A8aUgbJZmP77p6B8\n",
       "6YFyOUZRf8Ph2yvhsDj87/vJFxvUnyqRVXck4xBHn1ZS7NNl7R+Z5QpXE8RGo1wq3f1W7/aRAAAA\n",
       "KUGfDkUVLCv/As+Sn4B1RKjwfyCyenEL6QXVYFHg+hve8vZpGWUi4BvxAAAAIAGfLXRCfwOFaY4C\n",
       "BCBp9dAyPQWRo0K2mbBGQK6O1t9RAAAAHAGfL2pCfwOH5SajHPulo1xHMFudDCUs+j1mmPkAAACA\n",
       "QZs0SahBbJlMCG///qeEABf/ZT8Fjra4nkDJ7WH0Qk3WVM8En7g6S4AFBuS7q/RWLh672equs9ld\n",
       "PvopvUWmpzl5pCCQROk4Gl2WCkhcuOIVVqq+xK8/8OSB4jEJ5D7HHBu31KtyxNtUrICblmFaJEu9\n",
       "HqvUUEC4d6m1udjbgpUAAAAvQZ9SRRUsK/8Cz5KfgHVEqPB/IMBTjkPHU8dGqLNVBqCShpwGuFg+\n",
       "GJJKVE2f66cAAAAjAZ9xdEJ/A4VpjgIEIGn18JnYgl/kKTD/1S0wIAp5vyAg/IAAAAAeAZ9zakJ/\n",
       "A4flJqMc+6WjXEcwaqxZXQ6BKkoE3ATMAAAAQ0GbeEmoQWyZTAhv//6nhAAC/69VqInUABWL54Qb\n",
       "kQXSvrGPu9/pgsA8K+Ge2ZIabAG1HjT+F/DJcRXgoK+OlHOQz0EAAAAsQZ+WRRUsK/8Cz5KfgHVE\n",
       "qPB/ILJ6cOwFyoAAhK2CKLV3W1tsczZQ0FTTHUgAAAAgAZ+1dEJ/A4VpjgIEIGn10DI7jTj0t4gT\n",
       "jPL+wRJ1PCkAAAAjAZ+3akJ/A4flJqMc+6WjXEcwRLXoWbs66heGmBJAf31Lo4EAAABFQZu8SahB\n",
       "bJlMCG///qeEAAL/yXAAQh4nhfioUMsmxfk9cnXxRvLBmqbfQsu57+RJKKSP7eErs3D/+KuT1yrj\n",
       "tyn+QVVgAAAALkGf2kUVLCv/As+Sn4B1RKjwfyCyenDsDtJlYo+zT/yGxcN/2G5hvv9VAdbo4OEA\n",
       "AAAdAZ/5dEJ/A4VpjgIEIGn10DI7jiDoRIpIW2LaAZUAAAAeAZ/7akJ/A4flJqMc+6WjXEcwRMGS\n",
       "Ca5tJXCjggP9AAAAWUGb4EmoQWyZTAhv//6nhAAC+3WYROFE5v+uynrr8lQpYEAC+oOW1JQH0axE\n",
       "zmxqNIC3mfp/Bd8h8t9iXwZMTVWDdpcent5zFx5b0yw5QS70GLev1GK1FDhxAAAANEGeHkUVLCv/\n",
       "As+Sn4B1RKjwfyCyenDsHSg4j2BlMEMGax7q43QRmAEy/FL950mFs3VdCnEAAAAiAZ49dEJ/A4Vp\n",
       "jgIEIGn10DI7jh1fo9UypJfTnN0jWUb9DgAAAB4Bnj9qQn8Dh+Umoxz7paNcRzA4hjkCVKVCA2NO\n",
       "3PcAAABXQZokSahBbJlMCG///qeEAYK53+C82KCNtBP65RjG5KUdPswVG43H6fwO3WhRD/+/4EXW\n",
       "Ve9GfamJIaJ0Lp3G3H7qRmbzA4k0k46PJzHseE0Eo/DFoe7AAAAAMEGeQkUVLCv/As+Sn4B1RKj7\n",
       "v8rr836klgkhwG/IwJYCVZYl4tlJ8CKHP5evu1CPgQAAACABnmF0Qn8DhWmOAgQsU1/6we72x6pP\n",
       "l8HwvkVBb3K2oAAAABwBnmNqQn8Dh+Umoxz7paNcRzBClcq1UTdfU9WxAAAAWkGaaEmoQWyZTAhv\n",
       "//6nhAAAtnvCW8E8Pd0NlelhHXfhNWwAA6Vpvu9b4gQ+ByTJgxC5MDJ/eD/neqa7o2Viilvowjig\n",
       "QaJUJmwQXCHZW0hQ2vrlgrCPpyAPfwAAAC5BnoZFFSwr/wLPkp+AdUSo8H8gsnpw6hRx+2er5fl/\n",
       "kqD0gK0pZeT0+eee3Yd9AAAAIQGepXRCfwOFaY4CBCBp9dAyO3OmnhmXsnuBOd1XZSBeQQAAACAB\n",
       "nqdqQn8Dh+Umoxz7paNcRzBCldb9SAWNHUBKXdOdaAAAAGFBmqxJqEFsmUwIb//+p4QBdMJYbr7/\n",
       "vEAJJ6oH2JQP/f4En6J9T6v1IJam5IHj331AkE5BJT1ZtLHEdvVBAnC0cSTDF57mfuXVN9Gbea0t\n",
       "1m9HZz1o7goYz6ps9ss+6fdgAAAAMkGeykUVLCv/As+Sn4S8f6rDxM0YMDNPFII52xWLW5h1lxEo\n",
       "MoeooYmEvxhDRvSBMjfhAAAAIQGe6XRCfwOFaY4CBCpGuwlKj9yjlPLABVmPmlg6eSFUDgAAACUB\n",
       "nutqQn8Dh+VnFqmO6AvOmqfy6SOkN4QwFuDgpbQTALOoR0YgAAAAN0Ga8EmoQWyZTAhv//6nhAGh\n",
       "8fq14Mx+GEkHc8d81XBuY8AUcW1P9+74xcgG3+VPJ2m1JyML3jMAAAAsQZ8ORRUsK/8Cz5Kfnmp8\n",
       "jMRavoecrBiMvdFnrzwB2SkSMD3qiygfFW/GCRkAAAAfAZ8tdEJ/A4Vp7r4ETh4jdkXZOffeY6c5\n",
       "jJg/DK+U3QAAAB4Bny9qQn8Dh+VnFqmOsBRxDgihKFpW0wRVIlfAi4AAAAAoQZs0SahBbJlMCG//\n",
       "/qeEAV34Brg3sv7BclvotrLmN1dF9zWMDQDAgAAAACxBn1JFFSwr/wLPkp+eanyMxFrLuC4/kPk+\n",
       "RqNtQmYIZk/PAc2B3T6PMDhkBQAAAB0Bn3F0Qn8DhWnuvgRN7faeRd6+tZkVAKEscAAccAAAACAB\n",
       "n3NqQn8Dh+VnFqmO5A/8eJTvwmzkmXJbE0MUtoDBgAAAAHhBm3hJqEFsmUwIb//+p4QBdPah/1Er\n",
       "gnntSt/pC0AI/Kv8t0t2SYpqKrr3yv6MS8DRvjOEa2ZJMLSZuwMYbTflmYK2VWT2JT+QOsbKzXTy\n",
       "1qeXhGInytnSqqerr4DTm/PnWrvRqrZ1qH0S/mhh+3f0QncsPxeP3YsAAAA7QZ+WRRUsK/8Cz5Kf\n",
       "nmp8jMRayg95hnthYJ8NWdmRcCrVlQkmegACpJbnOyEmHkbR8jswWxSA7eAyo3YAAAAoAZ+1dEJ/\n",
       "A4Vp7r4ETiivUfg8SW44lK5Z8EO1VKJrG9BgAW5mAFsZgQAAACcBn7dqQn8Dh+VnFqmO3+JWq2yE\n",
       "OmPnXIctrdVLxPgS4CLtPV4RoIEAAABEQZu8SahBbJlMCG///qeEAF9i5IAbgGflfsBIe2co7VKN\n",
       "SBCkP8hm45nyI9N6Z0QBlrRbX9lG3IYaQ20fdsoEX0PVq6cAAABXQZ/aRRUsK/8Cz5Kfnmp8jMRa\n",
       "y0/pEZHDwmg0vm4BeAC4wCVpUWmFnGTgw8EU59seONAvxesR/3JAD8LX+S3zpAbSfrNbq3lT4PAz\n",
       "q1DmtqaLMKmsTBFRAAAAJAGf+XRCfwOFae6+BE4RxJya0EZIoBva1P3lBtn6Yj0H4RhMIwAAACUB\n",
       "n/tqQn8Dh+VnFqmO30EFVrocbsCt6tTIHCykpwGTtWHvswlRAAAAMEGb4EmoQWyZTAhv//6nhAAB\n",
       "idE8khK7xAptHVOteyUFKiErZGBkuvV6VVgoig5/JwAAADlBnh5FFSwr/wLPkp+eanyMxFrLTwBs\n",
       "ejHLVoco7TJAN7MfMNWJ3MgVyRb5pFJYuJHnPElxoMQYUsgAAAAlAZ49dEJ/A4Vp7r4EThGU1mG4\n",
       "+H3MmjJavKkFdNlaf6D/KSzGgAAAAB8Bnj9qQn8Dh+VnFqmO32wLMMlZ+uuWS8iLz37iwNSBAAAA\n",
       "nkGaJEmoQWyZTAhv//6nhAFo+AbPw05zj72+lSsqMLNJv79AAuUFmv9+fJxhKhN9VFeMsD/8aufY\n",
       "A6H8TaICMsO7wxJynHSL/NUvQLh1W/JEKOsVevL2ZRnevHmqcutidxXo/kQ/qJjv1wYyKB6BR9cl\n",
       "PuCaxewUj5gSj5vxXOwQ5tCJae36Xqyz99GNvmMLgY3RLsUPTl9wpXkqwc2AAAAALkGeQkUVLCv/\n",
       "As+Sn55qfIzEWsvaGIZBBXAeOayoLDRKp89h10+w70q8xATsiPkAAAAeAZ5hdEJ/A4Vp7r4EThEe\n",
       "bgx/F5hUyD7yAmQ7BtmzAAAAIAGeY2pCfwOH5WcWqY7luJznB4CosScLrdoD6jShgOOBAAAASkGa\n",
       "aEmoQWyZTAhv//6nhAAWP3hLeCEmvzrSVXSqNWQA2000P5IF/Ezm9HPZ1L4eOnXrtit29Eh/jD+d\n",
       "He5UbCRLwMlGHLetCiqBAAAAKkGehkUVLCv/As+Sn55qfIzEWstNBE/OLirVlxSzYUQoYb7EAcfR\n",
       "vDBdwQAAAB0BnqV0Qn8DhWnuvgROER5uyr/D0VAoxRujjCAaEQAAABoBnqdqQn8Dh+VnFqmO30EF\n",
       "B0+C2ZwMYKbVMAAAAH5BmqxJqEFsmUwIb//+p4QAT/3hLeCeHu6JUfrfisMdWiiuKl+o/UAVv3mc\n",
       "rcbtrPd7UO5LLTbtfgvIfhya0esnNj8GtB0v3kjGvf/gWIvrPasWnTaiqTaspMSIVqs4SZszHA/j\n",
       "Krpta42jsIYryzoac7G2F27uwpbirGSSWkYAAAApQZ7KRRUsK/8Cz5Kfnmp8jMRay08JtD9B5Nw3\n",
       "NAhX5mLlUXKTUhn3iXkAAAAfAZ7pdEJ/A4Vp7r4EThGVnvmmeoEn9qnTorCeBBAHpAAAABkBnutq\n",
       "Qn8Dh+VnFqmO3xiwUmb1guJHwnNAAAAAbEGa8EmoQWyZTAhv//6nhAAS0fM+G294QfgQ1LIQWkAX\n",
       "5AZyvkgjRbYrqOvD49qXw9herT/O/iLyy263PbfQ1Fn6Kyb37hmCyMv1GgMzN3f4TrZBYeRZP9TO\n",
       "EG8N6bVAv3ZHNjf7690/+IBDmQAAACdBnw5FFSwr/wLPkp+eanyMxFrLS6gStjBs68A18TjY7b8g\n",
       "x1Q6VQkAAAAYAZ8tdEJ/A4Vp7r4EThDNt3lrFy0DmiGLAAAAGgGfL2pCfwOH5WcWqY7fGLBTs3fP\n",
       "w2xIakfAAAAAjEGbNEmoQWyZTAhv//6nhABNS+bgCt+ge715WlKD/tvcjIWgZGV7nyY8u+R/w7Fl\n",
       "Whp0EJTxjrt0WQlit3ymy0VOMkIzOlcG0b3WDFqgL0CKQCpdeRghs+JpSj83P/zHBOhbC2MvTdXp\n",
       "zzhZ0z5OxkpypK9hjmjPezjQE1263J0NHrBCmVeeYOsR9HkaAAAAOUGfUkUVLCv/As+Sn55qfIzE\n",
       "WstO7/z3H9PHVW++TibAAOZ/RuSOXKLjvnaLGS+xbKZHU8u8EYT9wQAAACUBn3F0Qn8DhWnuvgRO\n",
       "EZAe81uSI6egTJqJoFvwWlEBOeukvgScAAAAIgGfc2pCfwOH5WcWqY7fPaVAuNS+uJ2hqMIf7Ham\n",
       "ie9BYOAAAABbQZt4SahBbJlMCG///qeEACWqB5/CZNjHbL3gutVKaPjzvrlgBttM5Xpm20m0psGr\n",
       "uxgOGdn/xSZJFL/CIE4qE4icjmDZAWth8W+elAxGv9N+3DstaR6Eyqp6fwAAACtBn5ZFFSwr/wLP\n",
       "kp+eanyMxFrLTOPJgd4QyJY+DGKSju8jbfr70yeCPVAIAAAAHAGftXRCfwOFae6+BE4RFkHSCMuc\n",
       "uVfKrh2AaEEAAAAaAZ+3akJ/A4flZxapjt8YsFYdyNTzyz8DkPEAAABGQZu7SahBbJlMCG///qeE\n",
       "AaGw9z8f8TAAFDp+DzcZ/i6+9NVHVeriUTuwnaiwYM8oeD26COoH308fyfcDy2THFqlv7i4M+AAA\n",
       "ACdBn9lFFSwn/wOI+H74luGyugrTrceHlva3SyXJ/JXLzFMHmaDWfmUAAAAlAZ/6akJ/A4flZxap\n",
       "jrAUcQ3aEQ4DxWNaNsKuwfkoayleFe7xdwAAADJBm/9JqEFsmUwIb//+p4QBngmZ1NspNG2rllv2\n",
       "pm1kcDc6YwBxq7hRWPADhnniA9DCDwAAAENBnh1FFSwr/wLPk6Wjghq7fYRns0npr97/TZ9SRHI1\n",
       "dvE7QYAAl8Bh2NrTGhf0Al/CZn0gGCH+JmeOztLN4snISkyBAAAAIgGePHRCfwOFae6+BE2UI85T\n",
       "/HsQQ7jEOkzO7mVLNOqQd0AAAAAcAZ4+akJ/A4flZxapjt8YsFOzd8/Da3G+7WPQQAAAADNBmiNJ\n",
       "qEFsmUwIb//+p4QAAK1v5sMqGtAF6FJckrNenNUh/5ea+d8xsqQaipRQODRLsCEAAAAlQZ5BRRUs\n",
       "K/8Cz5Olo4Iau8phPFEfStHGaRvytQdTMja9DPB6/AAAABYBnmB0Qn8DhWnuvgROEK9m4Azq1wet\n",
       "AAAAGwGeYmpCfwOH5WcWqY7fGLBSBvUkhv3cW6rDWgAAAFJBmmdJqEFsmUwIb//+p4QBdMJsbg//\n",
       "eIAWFhr8/MQ+v//f5lFlem4HjHtdC3w9XuAlNqA3ZSFzgGdaB3dWch/D0ws8cqCn5JK6HwKHrQr7\n",
       "HGVBAAAAJEGehUUVLCv/As+T2ZaoT5iGwDLJxsIEa6p5mMeChVnPS+nDlwAAABYBnqR0Qn8DhWnu\n",
       "vgROEK9m4Azq1wetAAAAHAGepmpCfwOH5mCEcjvHxABX2ADKcK/rgJEQFDEAAABtQZqrSahBbJlM\n",
       "CG///qeECPbKhdziB9ACwpGFgKE5z5bDzAdjK7gCISC19ZNwkG58/cTdwB0pU0myMZKBfHxKM9c2\n",
       "+RY2Sa/u6j5Qtl3wdVjZ6Xf5k70P/JYlhNUu8Brno5tLr7g0w8CkAxKsoAAAAC1BnslFFSwr/wLP\n",
       "k9ptV6bMMot3nQeCp/niFYSnueBLlZiD6TJ2kj4ELPRAOuAAAAAdAZ7odEJ/A4VreAhVF1rEaRKz\n",
       "DinU38szZmoApIEAAAAhAZ7qakJ/A4fmYIRyO8fAyWnYWdhyxuhsRM0RomUSePRAAAAAp0Ga70mo\n",
       "QWyZTAhv//6nhAj2yoZmQml+P8EwA3FGcr4+OKtFj49JoZycqknP5fJ4WkIkFzyNcbPTLj45RIT+\n",
       "ojDo3dhpdrEFUGKtSLG8Q3rhr05ea0wFCvYaHiQwjw8FEXoIRB9ttuLCS0L8iByPOtY1EdzY6W48\n",
       "3hJCZWdmAAGpWhqUb14NqynRGxq1TpelXxC8KKWMqSfBQa5KbKiw3u309wbrPKAgAAAAK0GfDUUV\n",
       "LCv/Au6+Op/mNfXgXd/xW6Bx4P177aP95k3Fkilr8GKgR7WcBvUAAAAeAZ8sdEJ/A4VreAhVF1q1\n",
       "FZPA7XA3J5lkixgTh/UhAAAAHgGfLmpCfwOxnmEF1ks6G4Bf/sfQwoQHfBvF6Bgh/wAAAKxBmzNJ\n",
       "qEFsmUwIb//+p4QI9sqGOwcKWc3wD+VJgCoco/PfFEi4vQsQj3/9/grQWVzJd8GA50cZ5CfdXFq5\n",
       "O8gHZ9WMkuYrctEOHkczExn+oABp9TAB1ruc1Cx8HP1MCnveQtBDRaRSATsUyuP0GJQbWq14YyPB\n",
       "t3vQKb4uzLAh8t0yqz2j72/EMp5/1SJeqlaismBb/lwhhN+cvGj4alI5wKEHAnYALBFxOFIeAAAA\n",
       "NUGfUUUVLCv/Au+Sn4/upG3tVWgNHNla7zVy4c17xX3VlV8id62OJNwUF7ol6jp/ZdRoSOFkAAAA\n",
       "IAGfcHRCfwOue+zijsoEM+WeIVgPHNmyAB+hClTCAkhBAAAAIwGfcmpCfwOxnmEF1ks6G6yS4RTx\n",
       "78y+9CSKOTCEhSILcXWUAAAAXkGbd0moQWyZTAhv//6nhA12RtWUFRXINQBU0uGrBJ/RPjwXf7cC\n",
       "/rxAAk3aE76DhehyAGT9Cmn16yeYoMoqKf2ca1sUxVsvuhrkgoGY8oYXp8bxNaP1V8U0u8fsv/4A\n",
       "AAA4QZ+VRRUsK/8C75Kfj+6kbe1VcOSC0UrQAJtDFoMpN829kgFLggt0MBlct89+fDSQcLsHVM8e\n",
       "BGEAAAAnAZ+0dEJ/A6577OKOygQ0fwEgimLTQy20Jgr6Rnt4GTe/DJEsyLxAAAAAKgGftmpCfwOx\n",
       "nmEF1ks6G761Cr4jcn25wKS04Zd0ENDxSuHjUNYpPHy3KQAAAFNBm7tJqEFsmUwIb//+p4QI9sqF\n",
       "tNTbpTmWuyusH7ggVsAcy033fJT0WHIEAq4JgWayS39HIHIyy+F1fkbvUIqugpG0CVe4EHL2tzO0\n",
       "7WU0BkmjmQAAAC1Bn9lFFSwr/wLvkp+PJWyjXXF7WqHdqEpD0tlFd/pE4Bak2pbi9h1/jyDZ5lAA\n",
       "AAAdAZ/4dEJ/A6577OKOygQ0WmGuYE5GdkYEs/EFE1EAAAAfAZ/6akJ/A7GeX96s7FzCD9siyd+n\n",
       "E968Ayy2ayUi/gAAAFFBm/9JqEFsmUwIb//+p4QAK1zLtRka7Jkd7bdkpOygG6PiTE1iEH2aPCAE\n",
       "0SjMQ0C5x259MRknaIDsWJsMJlNHRqqtmqAwDAq2+zaW+etlo4EAAAApQZ4dRRUsK/8C75KfgHR8\n",
       "KM8B3HhICZ8MuPZQhnitkHuzgY4WOSG8FBEAAAAeAZ48dEJ/A6576v7Fi0nmsUCoL2C79SAG8VEE\n",
       "xF5AAAAAHAGePmpCfwOxnl/erOxcwaOG7xORmbMnRAK6HnAAAAA3QZojSahBbJlMCG///qeEAAF1\n",
       "94UK52C2GQ2VI6V25cZD9onK8APc9wiQpqUor5lkYO4l7mS6WQAAACNBnkFFFSwr/wLvkp+AdHwo\n",
       "zwG+RZhQkkQwW+sqdBLYDpBWQAAAABsBnmB0Qn8Drnvq/sWLSeXOHAshn/nDWfkh4acAAAAZAZ5i\n",
       "akJ/A7GeX96s7FzBo4btpHM+Ej6vwAAAAGdBmmdJqEFsmUwIb//+p4QAAL+HwWXhkAF43yH6p06u\n",
       "wD396Y4dB71w6beB9+XerGd4v5joAwf5uwn8TmZqb1IJl/eW+b8r8mQZ6I1cEviTtDyGeDolAaZv\n",
       "7tIzA3Ue6pmTtgQHjmCBAAAAKUGehUUVLCv/Au+Sn4B0fCjPAb5FmFCUijO0aK/OUxC1UlWxSnBF\n",
       "4mtBAAAAHQGepHRCfwOue+r+xYtJ5c4cGGVKpg+rZrLfCsdRAAAAHQGepmpCfwOxnl/erOxcwaOG\n",
       "7ZR0r64FWLrzzCQhAAAAY0GaqkmoQWyZTAhv//6nhAABP/j872qRY4ZUALaQjOV1C1x1E2FJVQiG\n",
       "+ZP5GXhED0V0neV3Ol323CcVcbB/h3Vwi9awEvvWUkVguPDuseaivsQNEzFR30MWVPtg/KiC2bWP\n",
       "ggAAACpBnshFFSwn/wK5ezXi9gMVdsIzS0u2QQxPn4rq4aZoJJEOABYkmOEJBkwAAAAcAZ7pakJ/\n",
       "ArjwFkvUHYVj0hIyfEXSNYPkAM8H7QAAAGpBmu5JqEFsmUwIb//+p4QBdPan+LIbZBfIY1EllKZ6\n",
       "51SKNhPgBttM5X3Nv+2pSVXphPs5zr/kZc/8O1z8U5GNhXSae1Z6V9s+tztELrMY1/p1x/vPOEYw\n",
       "zuUfPjUF1a0C9rahrQnPrBe9AAAAKkGfDEUVLCv/Ah9hT8jZRQkNE7Teg3mNy2+/GAs4yLCA0Q+a\n",
       "hmJWAaGHrwAAACABnyt0Qn8Ct6+mzgrqfVl5a1yODF+wieKkCEfeAKCNiQAAABwBny1qQn8CuPAW\n",
       "S9QdhWPAlhalUcf8eR22gzP3AAAAfEGbMkmoQWyZTAhv//6nhAFm4NstyT9nK0+9kCpPHBpYgAyt\n",
       "gh9XQKOp2Hw/9DebhwExeL/lQhl5ty+j76dp9Vm3250Phd1ua5D5PtA/2A+PS3U5eac6fkaW/b4f\n",
       "PzdDM/BKk4Ki3EHOEWZAyZ5doEnopQF93IJEeUJuEwcAAAA0QZ9QRRUsK/8CH2FPyNlDw+ClVKrJ\n",
       "AfhAdwZfBhvjQc5hjtYU+Vigd89JmXAMnA4t8/7bQAAAACABn290Qn8Ct6+mzgho6gGQrmGtfBnY\n",
       "nYGV+xumJUkgYAAAACMBn3FqQn8CuPAWS9THQqVfywASziHa2xcAG8KcNeBEjfVVBwAAAHJBm3ZJ\n",
       "qEFsmUwIb//+p4QAWP3hLeCeHu40sCd56RU0wFWzFd2F42EVUIPCiNONq4AiU+jMR0j2likCFpWc\n",
       "fSoWX/I9BgUjmISA+8EeBXSo756CVFjt7CO7TbY6P3ofaBnyRq5/IaukqEtmHbuuUWowE2YAAAA7\n",
       "QZ+URRUsK/8CH2FPyNk/okGzjlfcbSMpwX1ISIBMxvIo/l63uABEG0xxZTV9WGRF45MwnlQtj1IB\n",
       "YKAAAAA1AZ+zdEJ/Arevps4IcwbGH9S/XWfxeHlpsqs0JRgAL62bhnGyQvfu0NKh7nyGtkDojPk1\n",
       "mqEAAAAsAZ+1akJ/ArjwFkvUJuxTjZHWXHooYHFIFnsAHOCl2m3Dvd3332gxApFp8JcAAAAkQZu6\n",
       "SahBbJlMCG///qeEAAC+2ruQBE0/B/oVxDZ1+PyHBuf5AAAAKEGf2EUVLCv/Ah9hT8jZP5/OpA5I\n",
       "JzBfCRVECbvYXXAodB6zG5zxgVEAAAAdAZ/3dEJ/Arevps4IcwbGI2k3jj9J2uwSrSuwlIAAAAAc\n",
       "AZ/5akJ/ArjwFkvUJmx92elC7hp3Jj62pLhTKQAAAEdBm/5JqEFsmUwIb//+p4QAASWkh9NhZNuF\n",
       "zugAGjege6wWx6WT/0Qhv3CgRhAkrhADBsOBxx/XPS4llkp4j0fnCn15ipOxsAAAADNBnhxFFSwr\n",
       "/wIfYU/I2T+fzqQOSCcwXGtjg7/qutNi7gAIbCxgtrnSM3y0Ry74kDoA0YEAAAAlAZ47dEJ/Arev\n",
       "ps4IcwbGI2k3jeT7cquysfhH22w+lsW/mnho8QAAACUBnj1qQn8CuPAWS9QmbH3Z6ULuGncmPrnc\n",
       "dBXABtbH6R4MTBnUAAAAR0GaIkmoQWyZTAhv//6nhAAWz4+pNYEyCnX2p/toHqvk5aQfdRtRcUVM\n",
       "x05z7UIghBQEB+oKBq7HPmll6PrFXZTl2XkAcbNzAAAAMUGeQEUVLCv/Ah9hT8jZP5/OpA5FfGSa\n",
       "wX6MWB4Qa5G8PupjmOT94jzGkHH+H3PwXREAAAAkAZ5/dEJ/Arevps4IcwbGI1cpQTYs8IzVZFYr\n",
       "9uS1fsoysGL6AAAAJAGeYWpCfwK48BZL1CZsfdnqpqZpFwgJ0xiAH1OsnaglrFxKQQAAAGRBmmZJ\n",
       "qEFsmUwIb//+p4QAAXXEtpHaKAqsKez5n89wAt0yheHqgEFZU6HN13IZrbIGUWx+s+NUoSmi92I3\n",
       "mmKmHGwaIhPmvWMmzbYOJY8dAYs9gFMz6klKW4ZmIBucUK4ymsI6AAAAKUGehEUVLCv/Ah9hT8jZ\n",
       "P5/OpA5IJzBca2ODkE5vS7bRU3TLaQd/YBFxAAAAIAGeo3RCfwK3r6bOCHMGxiNpN43k+3KrtFH+\n",
       "uZlKUSElAAAAIQGepWpCfwK48BZL1CZsfdnpQu4adyX91uzA2yOAw0tRwwAAAFdBmqpJqEFsmUwI\n",
       "b//+p4QAAMmOCSZsLLapADb5Gcr3uPlkIn8ncztd2/+UWcoa6/WCi4ezjnae8WZ3Yn67uJFxKNjp\n",
       "OzPaBg/95SLS8UiorjKaaPNjKYEAAAAuQZ7IRRUsK/8CH2FPyNk/n86kDkgnMGQBdCeEbH42qxDT\n",
       "nHJzStmOuOMO85B9QAAAACMBnud0Qn8Ct6+mzghzBsYjaTeO71L9XuCgv0XTdc4bIa5nTAAAACIB\n",
       "nulqQn8CuPAWS9QmbH3Z6ULuGncmS34JNX9R2jYhc0HJAAAAK0Ga7kmoQWyZTAhv//6nhAABc+kD\n",
       "UAZRvExhCW6b0V22DFEd6WyRUrNfHrYAAAAoQZ8MRRUsK/8CH2FPyNk/n86kDkgnMFxrY4HHaxdn\n",
       "T9LJght6upzBCwAAAB4Bnyt0Qn8Ct6+mzghzBsYjaTeN5PtwJQCbBnb/wt8AAAAjAZ8takJ/Arjw\n",
       "FkvUJmx92elC7hp3Jfx2mTEEyD8G4KCwFxEAAAA8QZsySahBbJlMCG///qeEAAF9dYG5sjV/BPVQ\n",
       "6ABDiJnKyyBnVEd2F/U1IXrC3UVjQpfcoLW1LUeufDOHAAAAJ0GfUEUVLCv/Ah9hT8jZP5/OpA5I\n",
       "JzGJnyRUwVqWodW/EoKg48gdkAAAACEBn290Qn8Ct6+mzghzBsYjaTe6WqmVfiuQopORHIH/DugA\n",
       "AAAeAZ9xakJ/ArjwFkvUJmx92elC7NcYJGEgBAU0ENuBAAAALUGbdkmoQWyZTAhv//6nhABP/eEt\n",
       "4J4lKo5RfmXfpCsC4KyH91bEa3KtBVGFYAAAACtBn5RFFSwr/wIfYU/I2T+fztlzYFVZjXmJdHw1\n",
       "o1ozrq0EMHBRkEV4zgccAAAAIQGfs3RCfwK3r6bOCHMGxiNpN7PdUEGrt/A+x9hqpsHjRwAAACEB\n",
       "n7VqQn8CuPAWS9QmbJzQw/JFUyddXgRkLKVgTqWABEQAAACTQZu6SahBbJlMCG///qeEABbN1ml+\n",
       "P+8QAUtPfwshKqhQWWb1VTJHiobwayAj+1E3iol+KmwtPbFK1vr/eVveIkWm9j4Oi0EVkKJX+I3v\n",
       "LzhWLZR24dQD/+S0b8i8LPp/3vQgAcmBTVMSWg7rtJ46w4x2leEdAE0TTEDvwPnDuvUFAKxtmY/+\n",
       "PSkkRdmBBJBKVX/RAAAALEGf2EUVLCv/Ah9hT8jZP5/OpA5FbNohsy4eqNvcLmBH+VKeuo0Pfa9k\n",
       "U5clAAAAIAGf93RCfwK3r6bOCHMGxiNXKUE2LOtur1DqiLL54iVgAAAAJgGf+WpCfwK48BZL1CZs\n",
       "fdn0nwh6DVNQcOXDVruM8MXR6fe+UMaBAAAAgEGb/kmoQWyZTAhv//6nhABP9+yeODkBAC28HTVI\n",
       "SNpRgaC9II4p07f4+sU+sJ/gMyKbM90C9Hs871J7WlgCLlEEYZ6tqdivQJ7YZEtpOTjwqqDtSAyo\n",
       "xb4rF35eX7f3L5L3dpwn9dAbPB96QuUeDeNtm1/A/q3AYWDzbg0Vfa6gAAAAMUGeHEUVLCv/Ah9h\n",
       "T8jZP5/O2e/8Ogx80qs+8K81q1gZDfguiQlU7Ruyr3eh1V3cyHkAAAAoAZ47dEJ/Arevps4Icwcy\n",
       "eN5JJC/nZwiQhRWLaQyD6uEmpcmR0+OD6wAAACIBnj1qQn8CuPAWS9QmbJZBSv2N497PwzsYEKYR\n",
       "gP9ozAjoAAAAIUGaIkmoQWyZTAhv//6nhAC9+hQjMosa9RiHnNb7xlwBWwAAAChBnkBFFSwr/wIf\n",
       "YU/I2T/fOSgRAcGXf7d8kEgbWlowTkRwJCmP9ZD/AAAAIgGef3RCfwK3r6bOCI6m5dm/qwZk64SI\n",
       "C8AswjhoSi6HVS0AAAAgAZ5hakJ/ArjwFkvUJmyWQUr9jYM0HE/JK/qlNeOsYsEAAAAiQZpmSahB\n",
       "bJlMCG///qeEAL36J/r6gMkboYReoOErXwMxfAAAACVBnoRFFSwr/wIfYU/I2T+fzs4MlW9y4EEH\n",
       "Jnzk6nkmI7SksDahAAAAHwGeo3RCfwK3r6bOCHMHGjmMRGwOw9rdNi3lWrwGRE0AAAAgAZ6lakJ/\n",
       "ArjwFkvUJmyWQUr9jYM0HE/JK/qlNeOsYsEAAABKQZqqSahBbJlMCG///qeEABbN1smfH/eIAWFp\n",
       "LiJgEoVNCqLpoKV8S74zbzOf/Y8FOHFz/FVvn49JdayDl/lb4z5/l+k3MqtjCDkAAAA4QZ7IRRUs\n",
       "K/8CH2FPyNk/n87ODJVvcultp4AQDAERB5nknc1BlqprUr6bEfWETkD6iLhC0i6h4bUAAAAmAZ7n\n",
       "dEJ/Arevps4IcwcaOXwlSdZkuLmQUzAjga48pLZGhvlIJdgAAAAmAZ7pakJ/ArjwFkvUJmyWQUhB\n",
       "uV8nb+rCJ5TO1AMyLw22n+BB/BEAAAA6QZruSahBbJlMCG///qeEAJ98jSB+CDYAANgtj/8ErAlR\n",
       "wr5o4UB4S0wN9RiDm0yDGNlxupd0G8aRSQAAAC9BnwxFFSwr/wIfYU/I2T/Ng2l0OF3ZN3doCfju\n",
       "Ey8sPAM8zNnxqi/w3W5VLBR/gAAAACABnyt0Qn8Ct6+mzghzBxo5jERtpPjHyBddElwk7rNprwAA\n",
       "ACQBny1qQn8CuPAWS9QubGq8s9cSmDVO6ZPegREHvKUHrogaN+EAAAAdQZsySahBbJlMCG///qeE\n",
       "AC2e8J9Zy4gBq13dArcAAAAmQZ9QRRUsK/8CH2FPyNk/n87ODJVvcuqJWJXygeXYQuCAnDtIyYAA\n",
       "AAAhAZ9vdEJ/Arevps4IcwcaOYxEbhGhUVi0pOdFRopX0kHAAAAAIQGfcWpCfwK48BZL1CZslkFK\n",
       "/Y3wHO2+V7rpHSiqOcYETQAAABRBm3ZJqEFsmUwIb//+p4QAAAMB3QAAACZBn5RFFSwr/wIfYU/I\n",
       "2T+fzs4MlW9y6olYlfKB5dhC4ICcO0jJgAAAACEBn7N0Qn8Ct6+mzghzBxo5jERuEaFRWLSk50VG\n",
       "ilfSQcEAAAAhAZ+1akJ/ArjwFkvUJmyWQUr9jfAc7b5XuukdKKo5xgRMAAAAcUGbukmoQWyZTAhv\n",
       "//6nhAALD6LAXaHCv+pPHgndqF8zDIhu7MAQ9y7q9UZdo48Ec7rXfl8P5h8aromNN+/H6X3BnJ+8\n",
       "mwXxljSC3LE8aZApcG+eJ2i0sDXVNfIBHvZFD3+Xt1Qf9R3Bv53WT49TgBpBAAAAL0Gf2EUVLCv/\n",
       "Ah9hT8jZP5/OzgyVb3LqiVqndKDeeWgoptd/DSuFAoUcVtlS3ZLRAAAAIwGf93RCfwK3r6bOCHMH\n",
       "GjmMRG4Rom+rVC/QUIUs6ZWcnqq2AAAAJwGf+WpCfwK48BZL1CZslkFK/Y3wHO2+fz+rRBRIY7ZH\n",
       "RtCo227RcQAAAB5Bm/5JqEFsmUwIb//+p4QAFicQG0ZlGgMp7SapGNAAAAApQZ4cRRUsK/8CH2FP\n",
       "yNk/n87ODJVvcuqJgs1lvyJtJyCqiVhK0Glwz4EAAAAkAZ47dEJ/Arevps4IcwcaOYxEbhG4fv2m\n",
       "E3wW8OObYkUdGSihAAAAIQGePWpCfwK48BZL1CZslkFK/Y3wHO2+V7rpHSiqOcYETAAAABRBmiJJ\n",
       "qEFsmUwIb//+p4QAAAMB3QAAACZBnkBFFSwr/wIfYU/I2T+fzs4MlW9y6olYlfKB5dhC4ICcO0jJ\n",
       "gQAAACEBnn90Qn8Ct6+mzghzBxo5jERuEaFRWLSk50VGilfSQcAAAAAhAZ5hakJ/ArjwFkvUJmyW\n",
       "QUr9jfAc7b5XuukdKKo5xgRNAAAAIUGaZkmoQWyZTAhv//6nhAAWz6O/deEy6fputdgwitimgAAA\n",
       "AChBnoRFFSwr/wIfYU/I2T+fzs4MlW9y6oitJxY0bgRkFYGJEvTGvkDBAAAAIQGeo3RCfwK3r6bO\n",
       "CHMHGjmMRG4RoVFYtKTnRUaKV9JBwQAAACMBnqVqQn8CuPAWS9QmbJZBSv2N8AUvjQSUERDunrJX\n",
       "NHM/oQAAABRBmqpJqEFsmUwIb//+p4QAAAMB3QAAACZBnshFFSwr/wIfYU/I2T+fzs4MlW9y6olY\n",
       "lfKB5dhC4ICcO0jJgAAAACEBnud0Qn8Ct6+mzghzBxo5jERuEaFRWLSk50VGilfSQcAAAAAhAZ7p\n",
       "akJ/ArjwFkvUJmyWQUr9jfAc7b5XuukdKKo5xgRNAAAAU0Ga7kmoQWyZTAhv//6nhAAWr0WCiPQA\n",
       "NxKMvv5EpamglgUiND//Y8EusKCaPuGhyNZBCKJayFLYpwnr43vGxyasNsMhncRrrhru+oDA3GmD\n",
       "zhBwAAAAKEGfDEUVLCv/Ah9hT8jZP5/OzgyVb3LqiOgLaX2DOoDbizhW01nQzYAAAAAiAZ8rdEJ/\n",
       "Arevps4IcwcaOYxEbhEk0DgzILeKYecr+X01XQAAACEBny1qQn8CuPAWS9QmbJZBSv2N8Bztvle6\n",
       "6R0oqjnGBE0AAAAcQZsySahBbJlMCG///qeEAAAWz3hLeCeioDH3nQAAAChBn1BFFSwr/wIfYU/I\n",
       "2T+fzs4MlW9y6olYlfKB5dhyHuA9bvzpAiAgAAAAIgGfb3RCfwK3r6bOCHMHGjmMRG4RoVFYtKTo\n",
       "OrdqhJVoSbMAAAAhAZ9xakJ/ArjwFkvUJmyWQUr9jfAc7b5XuukdKKo5xgRNAAAAFEGbdkmoQWyZ\n",
       "TAhv//6nhAAAAwHdAAAAJkGflEUVLCv/Ah9hT8jZP5/OzgyVb3LqiViV8oHl2ELggJw7SMmAAAAA\n",
       "IQGfs3RCfwK3r6bOCHMHGjmMRG4RoVFYtKTnRUaKV9JBwQAAACEBn7VqQn8CuPAWS9QmbJZBSv2N\n",
       "8Bztvle66R0oqjnGBEwAAAAUQZu5SahBbJlMCE///fEAAAMARcEAAAAlQZ/XRRUsJ/8CuXs14vYD\n",
       "mNvdpcj3Gy87yorCpImWDYM2jcTEBQAAACEBn/hqQn8CuPAWS9QmbJZBSv2N8Bztvle66R0oqjnG\n",
       "BEwAAAV4ZYiCAAQ//veBvzLLXyK6yXH5530srM885DxyXYmuuNAAAAMADN2InuDwrXQ9FeAAICrc\n",
       "f0dzd9wAM7BNQ01I8y5bF9VILK+/YBFIoc7O+grIseWHtyxJB/V4Nb8TUCbkA5/+T8gYpnXyqTTy\n",
       "npVyuqmIcYqHjOtbMslFavrcjqGW1bB+TBwlBB+QnrLQSmpw5+k9kOsLSLMotIPobVNNk15ltz5D\n",
       "sjn4VGF3d9DGT3rQFZ02qGL+WtbNskyxfKw35T1rf23LawLzrDRpaL/GYMU9iJoHk9fk1s/ol5P5\n",
       "FhF4UkmDEqNyVvgwRBY7fS1OO/718RG4+AG6z0Wyp0Wd7xtq1BvUS83oADwKlgvmI5+6jzHrk6IJ\n",
       "hRH2IBVRn06z7tkN+1asDpp7Ds/vuCB5DCOzlcOK8RCAjMVMsTMoClID8bKL2wrf5DafJoMWLx/a\n",
       "I6U3tHI0T1l8YSW1kg7CXelAc9iU+qV8bD5jlsp0EDMTSgug6p6lwvS3p9Ba87pRMp5XqyQ58Xlf\n",
       "aZdaMPDTpchRJXYsueobhFv0LVM3tlr6q/b6qFxt8lwM0h1yW0ypyK2f48Exi3LFD26fZIEKB1Ug\n",
       "Ijfpp4LaFhQLtPZ1l8xMTgaAQnlkHwnuF1jMcZSXyl+HOiay8i9XRX45ElS2vidgznNcKeNqF38h\n",
       "utxBaHvPmHiVe/u7GdqNhPWfT+nG78JlANXUr2AbIBLLIJI3oJCS0wRIgaRUeJMyH+26TffPi5sR\n",
       "JT7PqgqtvewAkIsVMiuLaGXRRtBmn+vknJ+WAUAMohQJSa5jIKpc8Nyn4QHu1rwN2TMWyoi7LTbs\n",
       "WO/CN2MQrhG1I2Gd0PhEzu5SLkaoQtEPxI+fNh8alYuWl9DqBFpiC875PJfyaITaBYc46PlOJeEV\n",
       "B0znwr8qNS7/Vx17pBHIci3vHxpFi505/p42bqFxfoG93m6fc1vDH5xyxBWw+ERLAsPL7yANw8oZ\n",
       "/Sl4Uwc48uLlhVcUHeEhUPJ51clNvf9MjNrPUfY6KlOvkjEjELENINI6QJ44ZTdrzb61NyQ0AITu\n",
       "wwA21749zFQscPydf9VgzcflnEVY35BsFbz91sJ5ubl5Gmfd4NFSjIutgiFiKpEQR196MEfY969O\n",
       "p8TWvY7w0hVcqF0C8T7QXsORgmM7q+1mb3EzAVjCSQ9IJbiXNlOrAMpiuq0dUUm8M+jvocX4EEja\n",
       "ByBRoxUNkzWjs7S29QR0RfXXEY6P6+fnpRUzl/bvEU7nF0KV3JBNBuZYI1k7nlD/bcd53gTKp/Ch\n",
       "dIPH3XwrLXqleWg1bpsEo+FOfQcWYaxehpQ9gx6W9qd/BF8OWIpY7ltHhbnkr0JP40K7ntV5G/2E\n",
       "bGuI35UOKq2lKHgeLqmg6ZKJciDZzbJCRgeQeHS0yLgvKgC9pc9UGRTAoCDhXww92Pw6clhGCTom\n",
       "/ikRmD/9J8PagVNstftxOedhcSkqfDQ7MsXPwaYSCsZzoLGuifoFfk6watOB5kbr5b1HyeSzRQzr\n",
       "AcUaTjelbVrGLfBfQhFudv5Oqz6X0Hm5iJVls0CvpaBilR0jIJMZmj+GI0+7D5zK7UjY0obaqOcz\n",
       "08eZePEa+wUd62gKIeDxmuc2T8lG3hTRsSwuC1gAT+pXCI5hqZZ/AkXOsCTrXxhdzOyBdKYlytk8\n",
       "Rz88glgrKVsZm0MLBhO5GnKMUlDD4dd5tiT0DSMTlVH7OcQdf6MyC6M0Lu0cbj8QLGJXPdaHDvd9\n",
       "dWfC+B+aXzEiKAC7QnkrJsDT7FGs9FYEJ8G1kG9zDTWEk2E7BHF6BEjK5Z9NnCOCCMoydDKH2u8N\n",
       "/UzXJ9xfLVY2Of2SBCm/oMybV5Bpryljfb9wk38A8e3owAoaCFkAAAB/QZokbEM//p4QHHxYmDXg\n",
       "HMmAHRSA/5pu4p5PO1RuZ+ygSMYihgu90ckqXoj0umlCUxF9rPYpe4kHGNlfiseKDV2PVoCSgFIx\n",
       "JJYekhptWEfZ3VRgZDpiMVDHC5HRimC0W8qR3MsJUHI0Qk10D20xQXIgPw+wd62Bsf/fM7AoSAAA\n",
       "ACVBnkJ4hX8CFZ2viyTUOiijmUMtKOq+WDHJWyTU42KwJqGsXUN/AAAAFwGeYXRCfwGP9Hm1+oFp\n",
       "lVQLI3Z2WOiBAAAAEgGeY2pCfwFqt1qF3pJA8vzuoAAAAFNBmmVJqEFomUwIb//+p4QGV2U/BbrJ\n",
       "TBnJ/YpN2g5TPc/bPcAUW1//r+BO7v+VLIjgdr4YrBEKd+JZbdvFfz9Gd4FBEwj4aTuQNf2Yts5A\n",
       "1M/q8AAAAExBmolJ4QpSZTAhv/6nhABfYuSAG4P/8r+kyQ9s6K6zu/iXDXUlOD6wrJ0cwdV33Vja\n",
       "EhAXPZAYyYVy8HOBXALn6jPHWT/cslujNUvBAAAAKEGep0U0TCv/AfnqyrHh++tv3BbvgM1fTo1J\n",
       "3YVp98J3K64oYsVpq4AAAAAbAZ7GdEJ/AGR9JMfdzjt7KFPghMr7QtaGIIyBAAAAEgGeyGpCfwAB\n",
       "ULdaUeqKs3FNoAAAADRBms1JqEFomUwIb//+p4QBdMJsbg//eIAWFhr9xbkPr//3+BL7vbqn35kk\n",
       "dC2iIBYlgKaBAAAAHkGe60URLCv/Al7LmsQCHXe76OohnSshdnxQyvUFbwAAAA0Bnwp0Qn8AAA1/\n",
       "nJXBAAAAEQGfDGpCfwF8ZMQNqmIOqPeLAAAAFEGbEUmoQWyZTAhv//6nhAAAAwHdAAAAHUGfL0UV\n",
       "LCv/AfoZT5YlV7zye0KSD43o3kgNQA7mAAAADQGfTnRCfwAADX+clcEAAAANAZ9QakJ/AAANg8aV\n",
       "wAAAABRBm1VJqEFsmUwIb//+p4QAAAMB3QAAABtBn3NFFSwr/wH6GU+WJVe5Zk4PlvnVur+xzeEA\n",
       "AAANAZ+SdEJ/AAANf5yVwQAAAA0Bn5RqQn8AAA2DxpXBAAAAFEGbmUmoQWyZTAhv//6nhAAAAwHd\n",
       "AAAAG0Gft0UVLCv/AfoZT5YlV7lmTg+W+dW6v7HN4QAAAA0Bn9Z0Qn8AAA1/nJXBAAAADQGf2GpC\n",
       "fwAADYPGlcAAAAAUQZvdSahBbJlMCG///qeEAAADAd0AAAAbQZ/7RRUsK/8B+hlPliVXuWZOD5b5\n",
       "1bq/sc3hAAAADQGeGnRCfwAADX+clcAAAAANAZ4cakJ/AAANg8aVwQAAABRBmgFJqEFsmUwIb//+\n",
       "p4QAAAMB3QAAABtBnj9FFSwr/wH6GU+WJVe5Zk4PlvnVur+xzeEAAAANAZ5edEJ/AAANf5yVwQAA\n",
       "AA0BnkBqQn8AAA2DxpXAAAAAFEGaRUmoQWyZTAhv//6nhAAAAwHdAAAAG0GeY0UVLCv/AfoZT5Yl\n",
       "V7lmTg+W+dW6v7HN4QAAAA0BnoJ0Qn8AAA1/nJXAAAAADQGehGpCfwAADYPGlcAAAAAjQZqJSahB\n",
       "bJlMCG///qeEAZH0sf+7/7bCbpESQKiIaJv4AVsAAAAfQZ6nRRUsK/8B+hlPliVYbfabqfFGsrYV\n",
       "M4CfOWNWQAAAAA0BnsZ0Qn8AAA1/nJXBAAAAEwGeyGpCfwGQEyDcBzfcAzhUf4AAAAAYQZrNSahB\n",
       "bJlMCG///qeEAY3GY86igDahAAAAGkGe60UVLCv/AfoZT5YlVhwBf+6B0AqqAmVBAAAADQGfCnRC\n",
       "fwAADX+clcEAAAANAZ8MakJ/AAANg8aVwQAAACJBmxFJqEFsmUwIb//+p4QBnYrSDxb/bEPBeYTa\n",
       "Yzq5BBZQAAAAGkGfL0UVLCv/AfoZT5YlVhwBf+6B0AqqAmVAAAAADQGfTnRCfwAADX+clcEAAAAN\n",
       "AZ9QakJ/AAANg8aVwAAAAB5Bm1VJqEFsmUwIb//+p4QAJqZvg0XnrcyUDZVAKSAAAAAaQZ9zRRUs\n",
       "K/8B+hlPliVWHAF/7oHQCqoCZUEAAAANAZ+SdEJ/AAANf5yVwQAAAA0Bn5RqQn8AAA2DxpXBAAAA\n",
       "W0GbmUmoQWyZTAhv//6nhABNS+bgCt+ge715WlKCiGkIRYu2Te258mPLvkf8LuqSrQ05IsuOWeU1\n",
       "4C8A+GMrxcgrbBM2pZsoj+JaaSb8ZtWzmtuQg+tpFbEqTMwAAAAkQZ+3RRUsK/8B+hlPliVWHaFy\n",
       "qXHGW5D1eFHDmBBhMj9E3nTWAAAAGAGf1nRCfwBR9J5cYykSM7rNRoth+aVFyQAAAA8Bn9hqQn8A\n",
       "JruAOiumiHAAAAAUQZvdSahBbJlMCG///qeEAAADAd0AAAAdQZ/7RRUsK/8B+hlPliVWHAGD70Tk\n",
       "eQQTPKV18UEAAAAPAZ4adEJ/ACatSUKgEjzgAAAADwGeHGpCfwAmu4A6K6aIcQAAABRBmgFJqEFs\n",
       "mUwIb//+p4QAAAMB3QAAAB1Bnj9FFSwr/wH6GU+WJVYcAYPvROR5BBM8pXXxQAAAAA8Bnl50Qn8A\n",
       "Jq1JQqASPOEAAAAPAZ5AakJ/ACa7gDorpohwAAAAFEGaRUmoQWyZTAhv//6nhAAAAwHdAAAAHUGe\n",
       "Y0UVLCv/AfoZT5YlVhwBg+9E5HkEEzyldfFBAAAADwGegnRCfwAmrUlCoBI84AAAAA8BnoRqQn8A\n",
       "JruAOiumiHAAAAAUQZqJSahBbJlMCG///qeEAAADAd0AAAAdQZ6nRRUsK/8B+hlPliVWHAGD70Tk\n",
       "eQQTPKV18UAAAAAPAZ7GdEJ/ACatSUKgEjzhAAAADwGeyGpCfwAmu4A6K6aIcAAAAB9Bms1JqEFs\n",
       "mUwIb//+p4QAm3yNW7+LsCyW8VRYgPmBAAAAIEGe60UVLCv/AfoZT5YlViHC5U87sVHNxM6oTkI1\n",
       "+BXRAAAAFAGfCnRCfwCj6Ty4xlIz2PkJQCOBAAAADwGfDGpCfwAmu4A6K6aIcQAAAC1BmxFJqEFs\n",
       "mUwIb//+p4QAtfvCW8Eyv8DX2ACjYOmvkVHaqDjwWIgEtlTGAg4AAAAgQZ8vRRUsK/8B+hlPliVW\n",
       "I0Lm6PWyPLs0A4QONAB3gZ0AAAATAZ9OdEJ/AL75PmTyAYxapTvejQAAAA8Bn1BqQn8AJruAOium\n",
       "iHAAAAAUQZtVSahBbJlMCG///qeEAAADAd0AAAAdQZ9zRRUsK/8B+hlPliVWHAGD70TkeQQTPKV1\n",
       "8UEAAAAPAZ+SdEJ/ACatSUKgEjzhAAAADwGflGpCfwAmu4A6K6aIcQAAABRBm5lJqEFsmUwIb//+\n",
       "p4QAAAMB3QAAAB1Bn7dFFSwr/wH6GU+WJVYcAYPvROR5BBM8pXXxQAAAAA8Bn9Z0Qn8AJq1JQqAS\n",
       "POEAAAAPAZ/YakJ/ACa7gDorpohwAAAAFEGb3UmoQWyZTAhv//6nhAAAAwHdAAAAHUGf+0UVLCv/\n",
       "AfoZT5YlVhwBg+9E5HkEEzyldfFBAAAADwGeGnRCfwAmrUlCoBI84AAAAA8BnhxqQn8AJruAOium\n",
       "iHEAAAAUQZoBSahBbJlMCG///qeEAAADAd0AAAAdQZ4/RRUsK/8B+hlPliVWHAGD70TkeQQTPKV1\n",
       "8UAAAAAPAZ5edEJ/ACatSUKgEjzhAAAADwGeQGpCfwAmu4A6K6aIcAAAABRBmkVJqEFsmUwIb//+\n",
       "p4QAAAMB3QAAAB1BnmNFFSwr/wH6GU+WJVYcAYPvROR5BBM8pXXxQQAAAA8BnoJ0Qn8AJq1JQqAS\n",
       "POAAAAAPAZ6EakJ/ACa7gDorpohwAAAAFEGaiUmoQWyZTAhv//6nhAAAAwHdAAAAHUGep0UVLCv/\n",
       "AfoZT5YlVhwBg+9E5HkEEzyldfFAAAAADwGexnRCfwAmrUlCoBI84QAAAA8BnshqQn8AJruAOium\n",
       "iHAAAAAUQZrNSahBbJlMCG///qeEAAADAd0AAAAdQZ7rRRUsK/8B+hlPliVWHAGD70TkeQQTPKV1\n",
       "8UEAAAAPAZ8KdEJ/ACatSUKgEjzhAAAADwGfDGpCfwAmu4A6K6aIcQAAABRBmxFJqEFsmUwIb//+\n",
       "p4QAAAMB3QAAAB1Bny9FFSwr/wH6GU+WJVYcAYPvROR5BBM8pXXxQAAAAA8Bn050Qn8AJq1JQqAS\n",
       "POEAAAAPAZ9QakJ/ACa7gDorpohwAAAAFEGbVUmoQWyZTAhv//6nhAAAAwHdAAAAHUGfc0UVLCv/\n",
       "AfoZT5YlVhwBg+9E5HkEEzyldfFBAAAADwGfknRCfwAmrUlCoBI84QAAAA8Bn5RqQn8AJruAOium\n",
       "iHEAAAAdQZuZSahBbJlMCG///qeEABazX7PEIORJkrr4GVAAAAAdQZ+3RRUsK/8B+hlPliVWHAGD\n",
       "70TkeQQTPKV18UAAAAAPAZ/WdEJ/ACatSUKgEjzhAAAADwGf2GpCfwAmu4A6K6aIcAAAABxBm91J\n",
       "qEFsmUwIb//+p4QAF/5LgUMV2a0uRwUkAAAAHkGf+0UVLCv/AfoZT5YlVhwBg+9E5ZCHWgZJ4TmU\n",
       "QQAAAA8Bnhp0Qn8AJq1JQqASPOAAAAARAZ4cakJ/ACa7hzpPXWumHaEAAAAeQZoBSahBbJlMCG//\n",
       "/qeEABf+S4f4rs1oZ9SRpgk5AAAAHUGeP0UVLCv/AfoZT5YlVhwBg+9E5ZQIiGIorpQiAAAAEQGe\n",
       "XnRCfwAmrVHrQLmvz36hAAAADwGeQGpCfwAmu4A6K6aIcAAAABRBmkVJqEFsmUwIb//+p4QAAAMB\n",
       "3QAAABxBnmNFFSwr/wH6GU+WJVYcAYPvROUJT0duOCPhAAAADwGegnRCfwAmrUlCoBI84AAAAA8B\n",
       "noRqQn8AJruAOiumiHAAAAAUQZqJSahBbJlMCG///qeEAAADAd0AAAAcQZ6nRRUsK/8B+hlPliVW\n",
       "HAGD70TlCU9Hbjgj4AAAAA8BnsZ0Qn8AJq1JQqASPOEAAAAPAZ7IakJ/ACa7gDorpohwAAAAREGa\n",
       "zUmoQWyZTAhv//6nhABf/ZT8FhnIknS4paG9oAvQy7q+ndb9ITHEpJQQNFmlop9Krf71ERl9MDCz\n",
       "JnQM4G5ooKmBAAAAIUGe60UVLCv/AfoZT5YlVh6lLmv5t9G4VUal9eq82t7+mQAAAA8Bnwp0Qn8A\n",
       "Jq1JQqASPOEAAAAdAZ8MakJ/AGSEyDcBziFKtVf9AA7QUuzWvaGzUjEAAAAoQZsRSahBbJlMCG//\n",
       "/qeEABfZF9AF/n4P+4Ggzbvy+iGEkjFBAagIOAAAABxBny9FFSwr/wH6GU+WJVYbj83eN8YYJYE3\n",
       "wHNAAAAAEQGfTnRCfwAmrVHrQLmvz36hAAAADwGfUGpCfwAmu4A6K6aIcAAAABRBm1VJqEFsmUwI\n",
       "b//+p4QAAAMB3QAAABpBn3NFFSwr/wH6GU+WJVYbj83eKspYSEL9BQAAAA8Bn5J0Qn8AJq1JQqAS\n",
       "POEAAAAPAZ+UakJ/ACa7gDorpohxAAAAFEGbmUmoQWyZTAhv//6nhAAAAwHdAAAAGkGft0UVLCv/\n",
       "AfoZT5YlVhuPzd4qylhIQv0EAAAADwGf1nRCfwAmrUlCoBI84QAAAA8Bn9hqQn8AJruAOiumiHAA\n",
       "AAAUQZvdSahBbJlMCG///qeEAAADAd0AAAAaQZ/7RRUsK/8B+hlPliVWG4/N3irKWEhC/QUAAAAP\n",
       "AZ4adEJ/ACatSUKgEjzgAAAADwGeHGpCfwAmu4A6K6aIcQAAABRBmgFJqEFsmUwIb//+p4QAAAMB\n",
       "3QAAABpBnj9FFSwr/wH6GU+WJVYbj83eKspYSEL9BAAAAA8Bnl50Qn8AJq1JQqASPOEAAAAPAZ5A\n",
       "akJ/ACa7gDorpohwAAAAFEGaRUmoQWyZTAhv//6nhAAAAwHdAAAAGkGeY0UVLCv/AfoZT5YlVhuP\n",
       "zd4qylhIQv0FAAAADwGegnRCfwAmrUlCoBI84AAAAA8BnoRqQn8AJruAOiumiHAAAAAUQZqJSahB\n",
       "bJlMCG///qeEAAADAd0AAAAaQZ6nRRUsK/8B+hlPliVWG4/N3irKWEhC/QQAAAAPAZ7GdEJ/ACat\n",
       "SUKgEjzhAAAADwGeyGpCfwAmu4A6K6aIcAAAABRBms1JqEFsmUwIb//+p4QAAAMB3QAAABpBnutF\n",
       "FSwr/wH6GU+WJVYbj83eKspYSEL9BQAAAA8Bnwp0Qn8AJq1JQqASPOEAAAAPAZ8MakJ/ACa7gDor\n",
       "pohxAAAAFEGbEUmoQWyZTAhv//6nhAAAAwHdAAAAGkGfL0UVLCv/AfoZT5YlVhuPzd4qylhIQv0E\n",
       "AAAADwGfTnRCfwAmrUlCoBI84QAAAA8Bn1BqQn8AJruAOiumiHAAAAAUQZtVSahBbJlMCG///qeE\n",
       "AAADAd0AAAAaQZ9zRRUsK/8B+hlPliVWG4/N3irKWEhC/QUAAAAPAZ+SdEJ/ACatSUKgEjzhAAAA\n",
       "DwGflGpCfwAmu4A6K6aIcQAAABRBm5lJqEFsmUwIb//+p4QAAAMB3QAAABpBn7dFFSwr/wH6GU+W\n",
       "JVYbj83eKspYSEL9BAAAAA8Bn9Z0Qn8AJq1JQqASPOEAAAAPAZ/YakJ/ACa7gDorpohwAAAAFEGb\n",
       "3UmoQWyZTAhv//6nhAAAAwHdAAAAGkGf+0UVLCv/AfoZT5YlVhuPzd4qylhIQv0FAAAADwGeGnRC\n",
       "fwAmrUlCoBI84AAAAA8BnhxqQn8AJruAOiumiHEAAAAUQZoBSahBbJlMCG///qeEAAADAd0AAAAa\n",
       "QZ4/RRUsK/8B+hlPliVWG4/N3irKWEhC/QQAAAAPAZ5edEJ/ACatSUKgEjzhAAAADwGeQGpCfwAm\n",
       "u4A6K6aIcAAAABRBmkVJqEFsmUwIb//+p4QAAAMB3QAAABpBnmNFFSwr/wH6GU+WJVYbj83eKspY\n",
       "SEL9BQAAAA8BnoJ0Qn8AJq1JQqASPOAAAAAPAZ6EakJ/ACa7gDorpohwAAAAFEGaiUmoQWyZTAhv\n",
       "//6nhAAAAwHdAAAAGkGep0UVLCv/AfoZT5YlVhuPzd4qylhIQv0EAAAADwGexnRCfwAmrUlCoBI8\n",
       "4QAAAA8BnshqQn8AJruAOiumiHAAAAAfQZrNSahBbJlMCG///qeEABf/ZT8FhnIknS4qixDPgQAA\n",
       "AB9BnutFFSwr/wH6GU+WJVYbj83eN57qw29nzshDTgqVAAAADwGfCnRCfwAmrUlCoBI84QAAABUB\n",
       "nwxqQn8AJruHOi0PabVe0jkGZOEAAAAUQZsRSahBbJlMCG///qeEAAADAd0AAAAaQZ8vRRUsK/8B\n",
       "+hlPliVWG4/N3irKWEhC/QQAAAAPAZ9OdEJ/ACatSUKgEjzhAAAADwGfUGpCfwAmu4A6K6aIcAAA\n",
       "ABRBm1VJqEFsmUwIb//+p4QAAAMB3QAAABpBn3NFFSwr/wH6GU+WJVYbj83eKspYSEL9BQAAAA8B\n",
       "n5J0Qn8AJq1JQqASPOEAAAAPAZ+UakJ/ACa7gDorpohxAAAAFEGbmUmoQWyZTAhv//6nhAAAAwHd\n",
       "AAAAGkGft0UVLCv/AfoZT5YlVhuPzd4qylhIQv0EAAAADwGf1nRCfwAmrUlCoBI84QAAAA8Bn9hq\n",
       "Qn8AJruAOiumiHAAAAAUQZvdSahBbJlMCG///qeEAAADAd0AAAAaQZ/7RRUsK/8B+hlPliVWG4/N\n",
       "3irKWEhC/QUAAAAPAZ4adEJ/ACatSUKgEjzgAAAADwGeHGpCfwAmu4A6K6aIcQAAABRBmgFJqEFs\n",
       "mUwIb//+p4QAAAMB3QAAABpBnj9FFSwr/wH6GU+WJVYbj83eKspYSEL9BAAAAA8Bnl50Qn8AJq1J\n",
       "QqASPOEAAAAPAZ5AakJ/ACa7gDorpohwAAAAFEGaRUmoQWyZTAhv//6nhAAAAwHdAAAAGkGeY0UV\n",
       "LCv/AfoZT5YlVhuPzd4qylhIQv0FAAAADwGegnRCfwAmrUlCoBI84AAAAA8BnoRqQn8AJruAOium\n",
       "iHAAAAAUQZqJSahBbJlMCG///qeEAAADAd0AAAAaQZ6nRRUsK/8B+hlPliVWG4/N3irKWEhC/QQA\n",
       "AAAPAZ7GdEJ/ACatSUKgEjzhAAAADwGeyGpCfwAmu4A6K6aIcAAAABRBms1JqEFsmUwIb//+p4QA\n",
       "AAMB3QAAABpBnutFFSwr/wH6GU+WJVYbj83eKspYSEL9BQAAAA8Bnwp0Qn8AJq1JQqASPOEAAAAP\n",
       "AZ8MakJ/ACa7gDorpohxAAAAE0GbEUmoQWyZTAhn//6eEAAAB0wAAAAaQZ8vRRUsK/8B+hlPliVW\n",
       "G4/N3irKWEhC/QQAAAAPAZ9OdEJ/ACatSUKgEjzhAAAADwGfUGpCfwAmu4A6K6aIcAAAABNBm1VJ\n",
       "qEFsmUwIX//+jLAAAAdUAAAAGkGfc0UVLCv/AfoZT5YlVhuPzd4qylhIQv0FAAAADwGfknRCfwAm\n",
       "rUlCoBI84QAAAA8Bn5RqQn8AJruAOiumiHEAAAAUQZuZSahBbJlMCE///fEAAAMARcAAAAAaQZ+3\n",
       "RRUsK/8B+hlPliVWG4/N3irKWEhC/QQAAAAPAZ/WdEJ/ACatSUKgEjzhAAAADwGf2GpCfwAmu4A6\n",
       "K6aIcAAAGoptb292AAAAbG12aGQAAAAAAAAAAAAAAAAAAAPoAAA6mAABAAABAAAAAAAAAAAAAAAA\n",
       "AQAAAAAAAAAAAAAAAAAAAAEAAAAAAAAAAAAAAAAAAEAAAAAAAAAAAAAAAAAAAAAAAAAAAAAAAAAA\n",
       "AAAAAAACAAAZtHRyYWsAAABcdGtoZAAAAAMAAAAAAAAAAAAAAAEAAAAAAAA6mAAAAAAAAAAAAAAA\n",
       "AAAAAAAAAQAAAAAAAAAAAAAAAAAAAAEAAAAAAAAAAAAAAAAAAEAAAAABsAAAASAAAAAAACRlZHRz\n",
       "AAAAHGVsc3QAAAAAAAAAAQAAOpgAAAMAAAEAAAAAGSxtZGlhAAAAIG1kaGQAAAAAAAAAAAAAAAAA\n",
       "ADIAAALuAFXEAAAAAAAtaGRscgAAAAAAAAAAdmlkZQAAAAAAAAAAAAAAAFZpZGVvSGFuZGxlcgAA\n",
       "ABjXbWluZgAAABR2bWhkAAAAAQAAAAAAAAAAAAAAJGRpbmYAAAAcZHJlZgAAAAAAAAABAAAADHVy\n",
       "bCAAAAABAAAYl3N0YmwAAACzc3RzZAAAAAAAAAABAAAAo2F2YzEAAAAAAAAAAQAAAAAAAAAAAAAA\n",
       "AAAAAAABsAEgAEgAAABIAAAAAAAAAAEAAAAAAAAAAAAAAAAAAAAAAAAAAAAAAAAAAAAAAAAAAAAY\n",
       "//8AAAAxYXZjQwFkABX/4QAYZ2QAFazZQbCWhAAAAwAMAAADAyA8WLZYAQAGaOvjyyLAAAAAHHV1\n",
       "aWRraEDyXyRPxbo5pRvPAyPzAAAAAAAAABhzdHRzAAAAAAAAAAEAAAH0AAABgAAAABhzdHNzAAAA\n",
       "AAAAAAIAAAABAAAA+wAAD5hjdHRzAAAAAAAAAfEAAAABAAADAAAAAAEAAAeAAAAAAQAAAwAAAAAB\n",
       "AAAAAAAAAAEAAAGAAAAAAQAAB4AAAAABAAADAAAAAAEAAAAAAAAAAQAAAYAAAAABAAAHgAAAAAEA\n",
       "AAMAAAAAAQAAAAAAAAABAAABgAAAAAEAAAeAAAAAAQAAAwAAAAABAAAAAAAAAAEAAAGAAAAAAQAA\n",
       "B4AAAAABAAADAAAAAAEAAAAAAAAAAQAAAYAAAAABAAAHgAAAAAEAAAMAAAAAAQAAAAAAAAABAAAB\n",
       "gAAAAAEAAAeAAAAAAQAAAwAAAAABAAAAAAAAAAEAAAGAAAAAAQAAB4AAAAABAAADAAAAAAEAAAAA\n",
       "AAAAAQAAAYAAAAABAAAHgAAAAAEAAAMAAAAAAQAAAAAAAAABAAABgAAAAAEAAAeAAAAAAQAAAwAA\n",
       "AAABAAAAAAAAAAEAAAGAAAAAAQAAB4AAAAABAAADAAAAAAEAAAAAAAAAAQAAAYAAAAABAAAHgAAA\n",
       "AAEAAAMAAAAAAQAAAAAAAAABAAABgAAAAAEAAAeAAAAAAQAAAwAAAAABAAAAAAAAAAEAAAGAAAAA\n",
       "AQAAB4AAAAABAAADAAAAAAEAAAAAAAAAAQAAAYAAAAABAAAHgAAAAAEAAAMAAAAAAQAAAAAAAAAB\n",
       "AAABgAAAAAEAAAeAAAAAAQAAAwAAAAABAAAAAAAAAAEAAAGAAAAAAQAAB4AAAAABAAADAAAAAAEA\n",
       "AAAAAAAAAQAAAYAAAAABAAAHgAAAAAEAAAMAAAAAAQAAAAAAAAABAAABgAAAAAEAAAeAAAAAAQAA\n",
       "AwAAAAABAAAAAAAAAAEAAAGAAAAAAQAAB4AAAAABAAADAAAAAAEAAAAAAAAAAQAAAYAAAAABAAAH\n",
       "gAAAAAEAAAMAAAAAAQAAAAAAAAABAAABgAAAAAEAAAeAAAAAAQAAAwAAAAABAAAAAAAAAAEAAAGA\n",
       "AAAAAQAABgAAAAACAAABgAAAAAEAAAeAAAAAAQAAAwAAAAABAAAAAAAAAAEAAAGAAAAAAQAAB4AA\n",
       "AAABAAADAAAAAAEAAAAAAAAAAQAAAYAAAAABAAAHgAAAAAEAAAMAAAAAAQAAAAAAAAABAAABgAAA\n",
       "AAEAAAeAAAAAAQAAAwAAAAABAAAAAAAAAAEAAAGAAAAAAQAAB4AAAAABAAADAAAAAAEAAAAAAAAA\n",
       "AQAAAYAAAAABAAAHgAAAAAEAAAMAAAAAAQAAAAAAAAABAAABgAAAAAEAAAeAAAAAAQAAAwAAAAAB\n",
       "AAAAAAAAAAEAAAGAAAAAAQAAB4AAAAABAAADAAAAAAEAAAAAAAAAAQAAAYAAAAABAAAHgAAAAAEA\n",
       "AAMAAAAAAQAAAAAAAAABAAABgAAAAAEAAAeAAAAAAQAAAwAAAAABAAAAAAAAAAEAAAGAAAAAAQAA\n",
       "B4AAAAABAAADAAAAAAEAAAAAAAAAAQAAAYAAAAABAAAGAAAAAAIAAAGAAAAAAQAAB4AAAAABAAAD\n",
       "AAAAAAEAAAAAAAAAAQAAAYAAAAABAAAHgAAAAAEAAAMAAAAAAQAAAAAAAAABAAABgAAAAAEAAAeA\n",
       "AAAAAQAAAwAAAAABAAAAAAAAAAEAAAGAAAAAAQAAB4AAAAABAAADAAAAAAEAAAAAAAAAAQAAAYAA\n",
       "AAABAAAHgAAAAAEAAAMAAAAAAQAAAAAAAAABAAABgAAAAAEAAAeAAAAAAQAAAwAAAAABAAAAAAAA\n",
       "AAEAAAGAAAAAAQAAB4AAAAABAAADAAAAAAEAAAAAAAAAAQAAAYAAAAABAAAHgAAAAAEAAAMAAAAA\n",
       "AQAAAAAAAAABAAABgAAAAAEAAAeAAAAAAQAAAwAAAAABAAAAAAAAAAEAAAGAAAAAAQAAB4AAAAAB\n",
       "AAADAAAAAAEAAAAAAAAAAQAAAYAAAAABAAAHgAAAAAEAAAMAAAAAAQAAAAAAAAABAAABgAAAAAEA\n",
       "AAeAAAAAAQAAAwAAAAABAAAAAAAAAAEAAAGAAAAAAQAAB4AAAAABAAADAAAAAAEAAAAAAAAAAQAA\n",
       "AYAAAAABAAAHgAAAAAEAAAMAAAAAAQAAAAAAAAABAAABgAAAAAEAAAeAAAAAAQAAAwAAAAABAAAA\n",
       "AAAAAAEAAAGAAAAAAQAAB4AAAAABAAADAAAAAAEAAAAAAAAAAQAAAYAAAAABAAAHgAAAAAEAAAMA\n",
       "AAAAAQAAAAAAAAABAAABgAAAAAEAAAeAAAAAAQAAAwAAAAABAAAAAAAAAAEAAAGAAAAAAQAAB4AA\n",
       "AAABAAADAAAAAAEAAAAAAAAAAQAAAYAAAAABAAAHgAAAAAEAAAMAAAAAAQAAAAAAAAABAAABgAAA\n",
       "AAEAAAeAAAAAAQAAAwAAAAABAAAAAAAAAAEAAAGAAAAAAQAAB4AAAAABAAADAAAAAAEAAAAAAAAA\n",
       "AQAAAYAAAAABAAAHgAAAAAEAAAMAAAAAAQAAAAAAAAABAAABgAAAAAEAAAeAAAAAAQAAAwAAAAAB\n",
       "AAAAAAAAAAEAAAGAAAAAAQAAB4AAAAABAAADAAAAAAEAAAAAAAAAAQAAAYAAAAABAAAHgAAAAAEA\n",
       "AAMAAAAAAQAAAAAAAAABAAABgAAAAAEAAAeAAAAAAQAAAwAAAAABAAAAAAAAAAEAAAGAAAAAAQAA\n",
       "BgAAAAACAAABgAAAAAEAAAMAAAAAAQAAB4AAAAABAAADAAAAAAEAAAAAAAAAAQAAAYAAAAABAAAD\n",
       "AAAAAAEAAAeAAAAAAQAAAwAAAAABAAAAAAAAAAEAAAGAAAAAAQAAB4AAAAABAAADAAAAAAEAAAAA\n",
       "AAAAAQAAAYAAAAABAAAHgAAAAAEAAAMAAAAAAQAAAAAAAAABAAABgAAAAAEAAAeAAAAAAQAAAwAA\n",
       "AAABAAAAAAAAAAEAAAGAAAAAAQAAB4AAAAABAAADAAAAAAEAAAAAAAAAAQAAAYAAAAABAAAHgAAA\n",
       "AAEAAAMAAAAAAQAAAAAAAAABAAABgAAAAAEAAAeAAAAAAQAAAwAAAAABAAAAAAAAAAEAAAGAAAAA\n",
       "AQAAB4AAAAABAAADAAAAAAEAAAAAAAAAAQAAAYAAAAABAAAHgAAAAAEAAAMAAAAAAQAAAAAAAAAB\n",
       "AAABgAAAAAEAAAeAAAAAAQAAAwAAAAABAAAAAAAAAAEAAAGAAAAAAQAAB4AAAAABAAADAAAAAAEA\n",
       "AAAAAAAAAQAAAYAAAAABAAAHgAAAAAEAAAMAAAAAAQAAAAAAAAABAAABgAAAAAEAAAeAAAAAAQAA\n",
       "AwAAAAABAAAAAAAAAAEAAAGAAAAAAQAAB4AAAAABAAADAAAAAAEAAAAAAAAAAQAAAYAAAAABAAAH\n",
       "gAAAAAEAAAMAAAAAAQAAAAAAAAABAAABgAAAAAEAAAeAAAAAAQAAAwAAAAABAAAAAAAAAAEAAAGA\n",
       "AAAAAQAAB4AAAAABAAADAAAAAAEAAAAAAAAAAQAAAYAAAAABAAAHgAAAAAEAAAMAAAAAAQAAAAAA\n",
       "AAABAAABgAAAAAEAAAeAAAAAAQAAAwAAAAABAAAAAAAAAAEAAAGAAAAAAQAAB4AAAAABAAADAAAA\n",
       "AAEAAAAAAAAAAQAAAYAAAAABAAAHgAAAAAEAAAMAAAAAAQAAAAAAAAABAAABgAAAAAEAAAeAAAAA\n",
       "AQAAAwAAAAABAAAAAAAAAAEAAAGAAAAAAQAAB4AAAAABAAADAAAAAAEAAAAAAAAAAQAAAYAAAAAB\n",
       "AAAHgAAAAAEAAAMAAAAAAQAAAAAAAAABAAABgAAAAAEAAAeAAAAAAQAAAwAAAAABAAAAAAAAAAEA\n",
       "AAGAAAAAAQAAB4AAAAABAAADAAAAAAEAAAAAAAAAAQAAAYAAAAABAAAHgAAAAAEAAAMAAAAAAQAA\n",
       "AAAAAAABAAABgAAAAAEAAAeAAAAAAQAAAwAAAAABAAAAAAAAAAEAAAGAAAAAAQAAB4AAAAABAAAD\n",
       "AAAAAAEAAAAAAAAAAQAAAYAAAAABAAAHgAAAAAEAAAMAAAAAAQAAAAAAAAABAAABgAAAAAEAAAeA\n",
       "AAAAAQAAAwAAAAABAAAAAAAAAAEAAAGAAAAAAQAAB4AAAAABAAADAAAAAAEAAAAAAAAAAQAAAYAA\n",
       "AAABAAAHgAAAAAEAAAMAAAAAAQAAAAAAAAABAAABgAAAAAEAAAeAAAAAAQAAAwAAAAABAAAAAAAA\n",
       "AAEAAAGAAAAAAQAAB4AAAAABAAADAAAAAAEAAAAAAAAAAQAAAYAAAAABAAAHgAAAAAEAAAMAAAAA\n",
       "AQAAAAAAAAABAAABgAAAAAEAAAeAAAAAAQAAAwAAAAABAAAAAAAAAAEAAAGAAAAAAQAAB4AAAAAB\n",
       "AAADAAAAAAEAAAAAAAAAAQAAAYAAAAABAAAHgAAAAAEAAAMAAAAAAQAAAAAAAAABAAABgAAAAAEA\n",
       "AAeAAAAAAQAAAwAAAAABAAAAAAAAAAEAAAGAAAAAAQAAB4AAAAABAAADAAAAAAEAAAAAAAAAAQAA\n",
       "AYAAAAABAAAHgAAAAAEAAAMAAAAAAQAAAAAAAAABAAABgAAAAAEAAAeAAAAAAQAAAwAAAAABAAAA\n",
       "AAAAAAEAAAGAAAAAAQAAB4AAAAABAAADAAAAAAEAAAAAAAAAAQAAAYAAAAABAAAHgAAAAAEAAAMA\n",
       "AAAAAQAAAAAAAAABAAABgAAAAAEAAAeAAAAAAQAAAwAAAAABAAAAAAAAAAEAAAGAAAAAAQAAB4AA\n",
       "AAABAAADAAAAAAEAAAAAAAAAAQAAAYAAAAABAAAHgAAAAAEAAAMAAAAAAQAAAAAAAAABAAABgAAA\n",
       "AAEAAAeAAAAAAQAAAwAAAAABAAAAAAAAAAEAAAGAAAAAAQAAB4AAAAABAAADAAAAAAEAAAAAAAAA\n",
       "AQAAAYAAAAABAAAHgAAAAAEAAAMAAAAAAQAAAAAAAAABAAABgAAAAAEAAAeAAAAAAQAAAwAAAAAB\n",
       "AAAAAAAAAAEAAAGAAAAAAQAAB4AAAAABAAADAAAAAAEAAAAAAAAAAQAAAYAAAAABAAAHgAAAAAEA\n",
       "AAMAAAAAAQAAAAAAAAABAAABgAAAAAEAAAeAAAAAAQAAAwAAAAABAAAAAAAAAAEAAAGAAAAAAQAA\n",
       "B4AAAAABAAADAAAAAAEAAAAAAAAAAQAAAYAAAAABAAAHgAAAAAEAAAMAAAAAAQAAAAAAAAABAAAB\n",
       "gAAAAAEAAAeAAAAAAQAAAwAAAAABAAAAAAAAAAEAAAGAAAAAAQAAB4AAAAABAAADAAAAAAEAAAAA\n",
       "AAAAAQAAAYAAAAABAAAHgAAAAAEAAAMAAAAAAQAAAAAAAAABAAABgAAAAAEAAAeAAAAAAQAAAwAA\n",
       "AAABAAAAAAAAAAEAAAGAAAAAHHN0c2MAAAAAAAAAAQAAAAEAAAH0AAAAAQAAB+RzdHN6AAAAAAAA\n",
       "AAAAAAH0AAAKEwAAAWQAAABKAAAAMgAAAEcAAAC+AAAAQAAAAEIAAAAnAAAA3wAAADYAAAApAAAA\n",
       "JAAAAGQAAAAtAAAAJAAAACAAAACEAAAAMwAAACcAAAAiAAAARwAAADAAAAAkAAAAJwAAAEkAAAAy\n",
       "AAAAIQAAACIAAABdAAAAOAAAACYAAAAiAAAAWwAAADQAAAAkAAAAIAAAAF4AAAAyAAAAJQAAACQA\n",
       "AABlAAAANgAAACUAAAApAAAAOwAAADAAAAAjAAAAIgAAACwAAAAwAAAAIQAAACQAAAB8AAAAPwAA\n",
       "ACwAAAArAAAASAAAAFsAAAAoAAAAKQAAADQAAAA9AAAAKQAAACMAAACiAAAAMgAAACIAAAAkAAAA\n",
       "TgAAAC4AAAAhAAAAHgAAAIIAAAAtAAAAIwAAAB0AAABwAAAAKwAAABwAAAAeAAAAkAAAAD0AAAAp\n",
       "AAAAJgAAAF8AAAAvAAAAIAAAAB4AAABKAAAAKwAAACkAAAA2AAAARwAAACYAAAAgAAAANwAAACkA\n",
       "AAAaAAAAHwAAAFYAAAAoAAAAGgAAACAAAABxAAAAMQAAACEAAAAlAAAAqwAAAC8AAAAiAAAAIgAA\n",
       "ALAAAAA5AAAAJAAAACcAAABiAAAAPAAAACsAAAAuAAAAVwAAADEAAAAhAAAAIwAAAFUAAAAtAAAA\n",
       "IgAAACAAAAA7AAAAJwAAAB8AAAAdAAAAawAAAC0AAAAhAAAAIQAAAGcAAAAuAAAAIAAAAG4AAAAu\n",
       "AAAAJAAAACAAAACAAAAAOAAAACQAAAAnAAAAdgAAAD8AAAA5AAAAMAAAACgAAAAsAAAAIQAAACAA\n",
       "AABLAAAANwAAACkAAAApAAAASwAAADUAAAAoAAAAKAAAAGgAAAAtAAAAJAAAACUAAABbAAAAMgAA\n",
       "ACcAAAAmAAAALwAAACwAAAAiAAAAJwAAAEAAAAArAAAAJQAAACIAAAAxAAAALwAAACUAAAAlAAAA\n",
       "lwAAADAAAAAkAAAAKgAAAIQAAAA1AAAALAAAACYAAAAlAAAALAAAACYAAAAkAAAAJgAAACkAAAAj\n",
       "AAAAJAAAAE4AAAA8AAAAKgAAACoAAAA+AAAAMwAAACQAAAAoAAAAIQAAACoAAAAlAAAAJQAAABgA\n",
       "AAAqAAAAJQAAACUAAAB1AAAAMwAAACcAAAArAAAAIgAAAC0AAAAoAAAAJQAAABgAAAAqAAAAJQAA\n",
       "ACUAAAAlAAAALAAAACUAAAAnAAAAGAAAACoAAAAlAAAAJQAAAFcAAAAsAAAAJgAAACUAAAAgAAAA\n",
       "LAAAACYAAAAlAAAAGAAAACoAAAAlAAAAJQAAABgAAAApAAAAJQAABXwAAACDAAAAKQAAABsAAAAW\n",
       "AAAAVwAAAFAAAAAsAAAAHwAAABYAAAA4AAAAIgAAABEAAAAVAAAAGAAAACEAAAARAAAAEQAAABgA\n",
       "AAAfAAAAEQAAABEAAAAYAAAAHwAAABEAAAARAAAAGAAAAB8AAAARAAAAEQAAABgAAAAfAAAAEQAA\n",
       "ABEAAAAYAAAAHwAAABEAAAARAAAAJwAAACMAAAARAAAAFwAAABwAAAAeAAAAEQAAABEAAAAmAAAA\n",
       "HgAAABEAAAARAAAAIgAAAB4AAAARAAAAEQAAAF8AAAAoAAAAHAAAABMAAAAYAAAAIQAAABMAAAAT\n",
       "AAAAGAAAACEAAAATAAAAEwAAABgAAAAhAAAAEwAAABMAAAAYAAAAIQAAABMAAAATAAAAIwAAACQA\n",
       "AAAYAAAAEwAAADEAAAAkAAAAFwAAABMAAAAYAAAAIQAAABMAAAATAAAAGAAAACEAAAATAAAAEwAA\n",
       "ABgAAAAhAAAAEwAAABMAAAAYAAAAIQAAABMAAAATAAAAGAAAACEAAAATAAAAEwAAABgAAAAhAAAA\n",
       "EwAAABMAAAAYAAAAIQAAABMAAAATAAAAGAAAACEAAAATAAAAEwAAABgAAAAhAAAAEwAAABMAAAAh\n",
       "AAAAIQAAABMAAAATAAAAIAAAACIAAAATAAAAFQAAACIAAAAhAAAAFQAAABMAAAAYAAAAIAAAABMA\n",
       "AAATAAAAGAAAACAAAAATAAAAEwAAAEgAAAAlAAAAEwAAACEAAAAsAAAAIAAAABUAAAATAAAAGAAA\n",
       "AB4AAAATAAAAEwAAABgAAAAeAAAAEwAAABMAAAAYAAAAHgAAABMAAAATAAAAGAAAAB4AAAATAAAA\n",
       "EwAAABgAAAAeAAAAEwAAABMAAAAYAAAAHgAAABMAAAATAAAAGAAAAB4AAAATAAAAEwAAABgAAAAe\n",
       "AAAAEwAAABMAAAAYAAAAHgAAABMAAAATAAAAGAAAAB4AAAATAAAAEwAAABgAAAAeAAAAEwAAABMA\n",
       "AAAYAAAAHgAAABMAAAATAAAAGAAAAB4AAAATAAAAEwAAABgAAAAeAAAAEwAAABMAAAAjAAAAIwAA\n",
       "ABMAAAAZAAAAGAAAAB4AAAATAAAAEwAAABgAAAAeAAAAEwAAABMAAAAYAAAAHgAAABMAAAATAAAA\n",
       "GAAAAB4AAAATAAAAEwAAABgAAAAeAAAAEwAAABMAAAAYAAAAHgAAABMAAAATAAAAGAAAAB4AAAAT\n",
       "AAAAEwAAABgAAAAeAAAAEwAAABMAAAAXAAAAHgAAABMAAAATAAAAFwAAAB4AAAATAAAAEwAAABgA\n",
       "AAAeAAAAEwAAABMAAAAUc3RjbwAAAAAAAAABAAAALAAAAGJ1ZHRhAAAAWm1ldGEAAAAAAAAAIWhk\n",
       "bHIAAAAAAAAAAG1kaXJhcHBsAAAAAAAAAAAAAAAALWlsc3QAAAAlqXRvbwAAAB1kYXRhAAAAAQAA\n",
       "AABMYXZmNTguMjkuMTAw\n",
       "\">\n",
       "  Your browser does not support the video tag.\n",
       "</video>"
      ],
      "text/plain": [
       "<IPython.core.display.HTML object>"
      ]
     },
     "execution_count": 473,
     "metadata": {},
     "output_type": "execute_result"
    },
    {
     "data": {
      "image/png": "[encoded data removed]",
      "text/plain": [
       "<Figure size 432x288 with 1 Axes>"
      ]
     },
     "metadata": {
      "needs_background": "light"
     },
     "output_type": "display_data"
    }
   ],
   "source": [
    "anim = animateplot(simulationLattice, 0.001, 500)\n",
    "HTML(anim.to_html5_video())"
   ]
  },
  {
   "cell_type": "code",
   "execution_count": 56,
   "metadata": {},
   "outputs": [
    {
     "data": {
      "text/plain": [
       "'EXERCISE 7: first attempt\\n\\ndef equilibriumTime(array_set): #returns first equilibrium time\\n    tEq = 0\\n    for array in array_set:\\n        bool_up_lattice = np.equal(array, np.ones(np.shape(array)))\\n        bool_down_lattice = np.equal(array, -1 * np.ones(np.shape(array)))\\n\\n        if np.all(bool_up_lattice) or np.all(bool_down_lattice):\\n            return tEq\\n        else:\\n            tEq +=1\\n    if tEq == len(array_set):\\n        print(\"It is possible that the system did not reach equilibrium. It is recommended that you increase N to ensure equilibrium is reached.\")\\n    return tEq\\n\\ndef generateNewArrays(array_set, T, diff):\\n    aug_array_set = array_set\\n    loop_array = array_set[-1]    \\n        \\n    print(\"Generating more matrices to meet nEq requirement.\")\\n    for i in range(diff):\\n        aug_array_set.append(loop_array)\\n        loop_array = fliparoni(loop_array, T)        \\n    \\n    return aug_array_set\\n\\ndef calculateMeasurements(array_set, T, nEq, debug = False):\\n    Note: this function somehow also appends original array_set, despite my best efforts. \\n    tEq = equilibriumTime(array_set)\\n    N = len(array_set)\\n    \\n    tDiff = N - tEq\\n    \\n    if  nEq > tDiff:\\n        diff = nEq - tDiff\\n        fullSet = generateNewArrays(array_set, T, diff)\\n    else:\\n        fullSet = array_set[tEq : tEq + nEq]\\n    \\n    eqSet = array_set[tEq : tEq + nEq]\\n    \\n    measurements = np.zeros((2, nEq))\\n    for i in range(nEq):\\n        observation = observe(eqSet[i])\\n        measurements[0][i] += observation[0]\\n        measurements[1][i] += observation[1]\\n    \\n    if debug: print(\"Total samples:\" + str(N))\\n    if debug: print(\"tEq:\" + str(tEq))\\n    \\n    return measurements'"
      ]
     },
     "execution_count": 56,
     "metadata": {},
     "output_type": "execute_result"
    }
   ],
   "source": [
    "\"\"\"EXERCISE 7: first attempt\n",
    "\n",
    "def equilibriumTime(array_set): #returns first equilibrium time\n",
    "    tEq = 0\n",
    "    for array in array_set:\n",
    "        bool_up_lattice = np.equal(array, np.ones(np.shape(array)))\n",
    "        bool_down_lattice = np.equal(array, -1 * np.ones(np.shape(array)))\n",
    "\n",
    "        if np.all(bool_up_lattice) or np.all(bool_down_lattice):\n",
    "            return tEq\n",
    "        else:\n",
    "            tEq +=1\n",
    "    if tEq == len(array_set):\n",
    "        print(\"It is possible that the system did not reach equilibrium. It is recommended that you increase N to ensure equilibrium is reached.\")\n",
    "    return tEq\n",
    "\n",
    "def generateNewArrays(array_set, T, diff):\n",
    "    aug_array_set = array_set\n",
    "    loop_array = array_set[-1]    \n",
    "        \n",
    "    print(\"Generating more matrices to meet nEq requirement.\")\n",
    "    for i in range(diff):\n",
    "        aug_array_set.append(loop_array)\n",
    "        loop_array = fliparoni(loop_array, T)        \n",
    "    \n",
    "    return aug_array_set\n",
    "\n",
    "def calculateMeasurements(array_set, T, nEq, debug = False):\n",
    "    #Note: this function somehow also appends original array_set, despite my best efforts. \n",
    "    tEq = equilibriumTime(array_set)\n",
    "    N = len(array_set)\n",
    "    \n",
    "    tDiff = N - tEq\n",
    "    \n",
    "    if  nEq > tDiff:\n",
    "        diff = nEq - tDiff\n",
    "        fullSet = generateNewArrays(array_set, T, diff)\n",
    "    else:\n",
    "        fullSet = array_set[tEq : tEq + nEq]\n",
    "    \n",
    "    eqSet = array_set[tEq : tEq + nEq]\n",
    "    \n",
    "    measurements = np.zeros((2, nEq))\n",
    "    for i in range(nEq):\n",
    "        observation = observe(eqSet[i])\n",
    "        measurements[0][i] += observation[0]\n",
    "        measurements[1][i] += observation[1]\n",
    "    \n",
    "    if debug: print(\"Total samples:\" + str(N))\n",
    "    if debug: print(\"tEq:\" + str(tEq))\n",
    "    \n",
    "    return measurements\"\"\""
   ]
  },
  {
   "cell_type": "code",
   "execution_count": 31,
   "metadata": {
    "scrolled": true
   },
   "outputs": [
    {
     "name": "stdout",
     "output_type": "stream",
     "text": [
      "Generating more matrices to meet nEq requirement.\n"
     ]
    },
    {
     "data": {
      "text/plain": [
       "array([[  4.,   4.,   4.,   4.,   4.,   4.,   4.,   4.,   4.],\n",
       "       [-32., -32., -32., -32., -32., -32., -32., -32., -32.]])"
      ]
     },
     "execution_count": 31,
     "metadata": {},
     "output_type": "execute_result"
    }
   ],
   "source": [
    "\"\"\"test_arraySet = []\n",
    "for i in range(17):\n",
    "    test_arraySet.append(alternatinglattice(1))\n",
    "for i in range(8):\n",
    "    test_arraySet.append(normallattice(2, 2, 1))\n",
    "\n",
    "equilibriumTime(test_arraySet)\n",
    "len(test_arraySet)\n",
    "\n",
    "calculateMeasurements(test_arraySet, 10, 9)\"\"\""
   ]
  },
  {
   "cell_type": "code",
   "execution_count": 32,
   "metadata": {},
   "outputs": [
    {
     "data": {
      "text/plain": [
       "'\\nO O O O O O O O O O O O O O O O O X X X X X X X X \\nO is non-eq\\nX is eq\\n\\n25 samples\\n\\n17 non-eq\\n8 eq\\n\\nsuppose we want caculation with nEq = 5:\\n    find tEq\\n    calculate N - tEq (# of eq samples)\\n    if nEq < N - tEq\\n        access and store tEq to tEq + nEq arrays\\nsuppose we want calculation with nEq = 10:\\n    find tEq\\n    calculate N - tEq\\n    nEq > N - tEq!!!!\\n        invoke generateNewArrays: needs last array in sample, T, nEq-(N-tEq)\\n'"
      ]
     },
     "execution_count": 32,
     "metadata": {},
     "output_type": "execute_result"
    }
   ],
   "source": [
    "\"\"\"\n",
    "O O O O O O O O O O O O O O O O O X X X X X X X X \n",
    "O is non-eq\n",
    "X is eq\n",
    "\n",
    "25 samples\n",
    "\n",
    "17 non-eq\n",
    "8 eq\n",
    "\n",
    "suppose we want caculation with nEq = 5:\n",
    "    find tEq\n",
    "    calculate N - tEq (# of eq samples)\n",
    "    if nEq < N - tEq\n",
    "        access and store tEq to tEq + nEq arrays\n",
    "suppose we want calculation with nEq = 10:\n",
    "    find tEq\n",
    "    calculate N - tEq\n",
    "    nEq > N - tEq!!!!\n",
    "        invoke generateNewArrays: needs last array in sample, T, nEq-(N-tEq)\n",
    "\"\"\"\n"
   ]
  },
  {
   "cell_type": "code",
   "execution_count": 53,
   "metadata": {},
   "outputs": [],
   "source": [
    "\"\"\"def averageMeasurements(array, T, nEq, N = 1000):\n",
    "    array_set = samplelattice(realLattice, T, N)\n",
    "    vals = calculateMeasurements(array_set, T, nEq)\n",
    "    avgs = np.average(vals, axis = 1)\n",
    "    return avgs\"\"\"\""
   ]
  },
  {
   "cell_type": "code",
   "execution_count": 577,
   "metadata": {},
   "outputs": [],
   "source": [
    "\"\"\"EXERCISE 7: FINAL ATTEMPT\"\"\"\n",
    "\n",
    "\"\"\"There is a lot here, so I will summarize the results I found up here. The functions below return, through \n",
    "various steps, the specific heat, average magnetisation, and average energy of equilibriated systems at certain\n",
    "or ranges of temperatures. There appears to be a phase transition around T = 5 (with k = 1). Additionally, the\n",
    "value of speicific heat for the entire system (5x5 lattice) seems to vary with temperature and peaks around T=6 \n",
    "with an average C value of 25 around that temperature.\"\"\"\n",
    "\n",
    "def eqTime(differences, tolerance_value, tolerance_slice):\n",
    "    for i in range(len(differences)):\n",
    "            value = np.average(differences[i: (i + tolerance_slice)])\n",
    "            if value < tolerance_value:\n",
    "                return i\n",
    "            else:\n",
    "                pass\n",
    "    return \"No equilibrium found.\"\n",
    "\n",
    "def eqAverage(values, tEq, nEq):\n",
    "    avgMeasure = np.average(values[tEq: tEq + nEq])\n",
    "    return avgMeasure\n",
    "\n",
    "def eqVariance(values, tEq, nEq):\n",
    "    varMeasure = np.var(values[tEq: tEq + nEq])\n",
    "    return varMeasure\n",
    "\n",
    "def measurements(metro_vals, nEq = 100, tolerance_value = 0.001, tolerance_slice = 100):\n",
    "    \n",
    "    measurables = metro_vals[1]\n",
    "    differences = metro_vals[0][:,0] #choosing equilibrium to be when energy change is negligible:\n",
    "    \n",
    "    \n",
    "    tEq = eqTime(differences, tolerance_value, tolerance_slice)\n",
    "    \n",
    "    total_mag = measurables[:,0]\n",
    "    total_energy = measurables[:,1]\n",
    "    \n",
    "    avg_mag = eqAverage(total_mag, tEq, nEq)\n",
    "    avg_energy = eqAverage(total_energy, tEq, nEq)\n",
    "    var_energy = eqVariance(total_energy, tEq, nEq)\n",
    "    \n",
    "    return avg_mag, avg_energy #, avg_c\n",
    "\n",
    "def fullMeasurements(array, T, nEq = 100, tolerance_value = 0.001, tolerance_slice = 100, manual_eq = False):\n",
    "    metro_vals = metropolis(array, T)\n",
    "\n",
    "    measurables = metro_vals[1]\n",
    "    differences = metro_vals[0][:,0] #choosing equilibrium to be when energy change is negligible:\n",
    "    \n",
    "    if manual_eq == False:\n",
    "        tEq = eqTime(differences, tolerance_value, tolerance_slice)\n",
    "    if manual_eq == True:\n",
    "        tEq = 500\n",
    "    \n",
    "    total_mag = measurables[:,0]\n",
    "    total_energy = measurables[:,1]\n",
    "    \n",
    "    avg_mag = eqAverage(total_mag, tEq, nEq)\n",
    "    avg_energy = eqAverage(total_energy, tEq, nEq)\n",
    "    var_energy = eqVariance(total_energy, tEq, nEq)\n",
    "    specHeat = var_energy / (T**2)\n",
    "    \n",
    "    return avg_mag, avg_energy, specHeat"
   ]
  },
  {
   "cell_type": "code",
   "execution_count": 259,
   "metadata": {},
   "outputs": [],
   "source": [
    "test_array_2 = randomlattice(5, 5)"
   ]
  },
  {
   "cell_type": "code",
   "execution_count": 267,
   "metadata": {},
   "outputs": [
    {
     "data": {
      "text/plain": [
       "(24.86, -198.32)"
      ]
     },
     "execution_count": 267,
     "metadata": {},
     "output_type": "execute_result"
    }
   ],
   "source": [
    "measurements(metropolis(test_array_2, 10))"
   ]
  },
  {
   "cell_type": "code",
   "execution_count": 447,
   "metadata": {},
   "outputs": [],
   "source": [
    "#avg_M_series = []\n",
    "#temps = np.linspace(1, 20, 100)\n",
    "#for temp in temps:\n",
    "#    vals = metropolis(test_array_2, T = temp, N = 300)\n",
    "#    avg_M_series.append(measurements(vals)[0])\n",
    "#print(avg_M_series)"
   ]
  },
  {
   "cell_type": "code",
   "execution_count": 390,
   "metadata": {},
   "outputs": [
    {
     "data": {
      "text/plain": [
       "[<matplotlib.lines.Line2D at 0x1297cfc90>]"
      ]
     },
     "execution_count": 390,
     "metadata": {},
     "output_type": "execute_result"
    },
    {
     "data": {
      "image/png": "[encoded data removed]",
      "text/plain": [
       "<Figure size 432x288 with 1 Axes>"
      ]
     },
     "metadata": {
      "needs_background": "light"
     },
     "output_type": "display_data"
    }
   ],
   "source": [
    "\"\"\"spl_avg_M_series = list(np.ones(1000))\n",
    "spl_temps = list(np.linspace(0, 0.9999, 1000))\n",
    "\n",
    "spl_M = np.hstack((spl_avg_M_series, avg_M_series))\n",
    "spl_T = np.hstack((spl_temps, temps))\n",
    "\n",
    "spl = inter.UnivariateSpline(spl_T, spl_M, k = 4)\n",
    "xs = np.linspace(0, 20, 101)\n",
    "plt.plot(xs, spl(xs), 'g', lw=3)\"\"\"\n",
    "\n",
    "plt.plot(temps, avg_M_series, 'o')"
   ]
  },
  {
   "cell_type": "code",
   "execution_count": 430,
   "metadata": {},
   "outputs": [],
   "source": [
    "def generateData(lattice, temp_low, temp_high, temp_steps = 100, N = 300, quantity = \"M\"):\n",
    "    data = []\n",
    "    temps = np.linspace(temp_low, temp_high, temp_steps)\n",
    "    for temp in temps:\n",
    "        vals = metropolis(lattice, temp, N)\n",
    "        if quantity == \"M\":\n",
    "            data.append(measurements(vals)[0])\n",
    "        elif quantity == \"E\":\n",
    "            data.append(measurements(vals)[1])\n",
    "    return temps, data"
   ]
  },
  {
   "cell_type": "code",
   "execution_count": 397,
   "metadata": {},
   "outputs": [],
   "source": [
    "lattice_initial = randomlattice(5, 5)\n",
    "test_data = generateData(lattice_initial, 0.0001, 30)"
   ]
  },
  {
   "cell_type": "code",
   "execution_count": 399,
   "metadata": {},
   "outputs": [
    {
     "data": {
      "text/plain": [
       "<matplotlib.collections.PathCollection at 0x129919e50>"
      ]
     },
     "execution_count": 399,
     "metadata": {},
     "output_type": "execute_result"
    },
    {
     "data": {
      "image/png": "[encoded data removed]",
      "text/plain": [
       "<Figure size 432x288 with 1 Axes>"
      ]
     },
     "metadata": {
      "needs_background": "light"
     },
     "output_type": "display_data"
    }
   ],
   "source": [
    "\"\"\"MAGNETISATION v. TEMPERATURE\"\"\"\n",
    "\n",
    "x = np.linspace(0.0001, 30, 100)\n",
    "y = test_data\n",
    "\n",
    "plt.scatter(x, y)"
   ]
  },
  {
   "cell_type": "code",
   "execution_count": 544,
   "metadata": {},
   "outputs": [],
   "source": [
    "def generateAvgData(lattice, temp, nAvg = 10, N = 300, quantity = \"M\"):\n",
    "    \"\"\"This is assuredly SUPER inefficient, but I just want to see what a n-sample avg plot looks like\"\"\"\n",
    "    data = []\n",
    "    for i in range(nAvg):\n",
    "        vals = metropolis(lattice, temp, N)\n",
    "        if quantity == \"M\":\n",
    "            data.append(measurements(vals)[0])\n",
    "        elif quantity == \"E\":\n",
    "            data.append(measurements(vals)[1])\n",
    "    avgData = np.average(data)\n",
    "    return avgData"
   ]
  },
  {
   "cell_type": "code",
   "execution_count": 414,
   "metadata": {},
   "outputs": [],
   "source": [
    "temps = np.linspace(0.0001, 40, 100)\n",
    "plot_data_avg = [generateAvgData(lattice_initial, temp) for temp in temps]"
   ]
  },
  {
   "cell_type": "code",
   "execution_count": 415,
   "metadata": {},
   "outputs": [
    {
     "data": {
      "text/plain": [
       "<matplotlib.collections.PathCollection at 0x129be0650>"
      ]
     },
     "execution_count": 415,
     "metadata": {},
     "output_type": "execute_result"
    },
    {
     "data": {
      "image/png": "[encoded data removed]",
      "text/plain": [
       "<Figure size 432x288 with 1 Axes>"
      ]
     },
     "metadata": {
      "needs_background": "light"
     },
     "output_type": "display_data"
    }
   ],
   "source": [
    "plt.scatter(temps, plot_data_avg)"
   ]
  },
  {
   "cell_type": "code",
   "execution_count": 416,
   "metadata": {},
   "outputs": [],
   "source": [
    "temps_rough = np.linspace(0.0001, 40, 20)\n",
    "avg_rough = [generateAvgData(lattice_initial, temp, nAvg = 50) for temp in temps]"
   ]
  },
  {
   "cell_type": "code",
   "execution_count": 446,
   "metadata": {},
   "outputs": [],
   "source": [
    "#temps_final = np.linspace(0.0001, 40, 100)\n",
    "#avg_M_final = [generateAvgData(lattice_initial, temp, nAvg = 100, quantity = \"M\") for temp in temps]\n",
    "#avg_E_final = [generateAvgData(lattice_initial, temp, nAvg = 100, quantity = \"E\") for temp in temps]"
   ]
  },
  {
   "cell_type": "code",
   "execution_count": 425,
   "metadata": {},
   "outputs": [
    {
     "data": {
      "text/plain": [
       "<matplotlib.collections.PathCollection at 0x129e48d90>"
      ]
     },
     "execution_count": 425,
     "metadata": {},
     "output_type": "execute_result"
    },
    {
     "data": {
      "image/png": "[encoded data removed]",
      "text/plain": [
       "<Figure size 432x288 with 1 Axes>"
      ]
     },
     "metadata": {
      "needs_background": "light"
     },
     "output_type": "display_data"
    }
   ],
   "source": [
    "plt.scatter(temps, avg_rough)"
   ]
  },
  {
   "cell_type": "code",
   "execution_count": 437,
   "metadata": {},
   "outputs": [],
   "source": [
    "temps_energy = np.linspace(0.0001, 40, 20)\n",
    "\n",
    "energy_test_series = [generateAvgData(lattice_initial, temp, quantity = \"E\") for temp in temps_energy]"
   ]
  },
  {
   "cell_type": "code",
   "execution_count": 475,
   "metadata": {},
   "outputs": [
    {
     "data": {
      "text/plain": [
       "[<matplotlib.lines.Line2D at 0x12ad77ed0>]"
      ]
     },
     "execution_count": 475,
     "metadata": {},
     "output_type": "execute_result"
    },
    {
     "data": {
      "image/png": "[encoded data removed]",
      "text/plain": [
       "<Figure size 432x288 with 1 Axes>"
      ]
     },
     "metadata": {
      "needs_background": "light"
     },
     "output_type": "display_data"
    }
   ],
   "source": [
    "\"\"\"ENERGY V. TEMP\"\"\"\n",
    "plt.plot(temps_energy, energy_test_series)"
   ]
  },
  {
   "cell_type": "code",
   "execution_count": null,
   "metadata": {},
   "outputs": [],
   "source": []
  },
  {
   "cell_type": "code",
   "execution_count": 476,
   "metadata": {},
   "outputs": [],
   "source": [
    "\"\"\"NAIVE ATTEMPT #1\"\"\"\n",
    "def specificHeat(temps, energies, nParticles = 25):\n",
    "    arrayC = []\n",
    "    for i in range(len(energies)-1):\n",
    "        delta_temp = temps[i+1] - temps[i]\n",
    "        delta_energy = energies[i+1] - energies[i]\n",
    "        valC = delta_energy / (delta_temp * nParticles) \n",
    "        arrayC.append(valC)\n",
    "    return arrayC"
   ]
  },
  {
   "cell_type": "code",
   "execution_count": 477,
   "metadata": {},
   "outputs": [
    {
     "data": {
      "text/plain": [
       "0.19488048720121812"
      ]
     },
     "execution_count": 477,
     "metadata": {},
     "output_type": "execute_result"
    }
   ],
   "source": [
    "np.average(specificHeat(temps_energy, energy_test_series))"
   ]
  },
  {
   "cell_type": "code",
   "execution_count": 478,
   "metadata": {},
   "outputs": [],
   "source": [
    "C1 = np.average(specificHeat(temps_energy, energy_test_series)[0:1])\n",
    "C2 = np.average(specificHeat(temps_energy, energy_test_series)[1:3])\n",
    "C3 = np.average(specificHeat(temps_energy, energy_test_series)[3:10])\n",
    "C4 = np.average(specificHeat(temps_energy, energy_test_series)[10:20])"
   ]
  },
  {
   "cell_type": "code",
   "execution_count": 479,
   "metadata": {},
   "outputs": [
    {
     "data": {
      "text/plain": [
       "array([2.10535789, 4.21061579, 6.31587368, 8.42113158])"
      ]
     },
     "execution_count": 479,
     "metadata": {},
     "output_type": "execute_result"
    }
   ],
   "source": [
    "C1, C2, C3, C4\n",
    "temps_energy[1:5]"
   ]
  },
  {
   "cell_type": "code",
   "execution_count": 480,
   "metadata": {},
   "outputs": [
    {
     "data": {
      "text/plain": [
       "[<matplotlib.lines.Line2D at 0x12ae50850>]"
      ]
     },
     "execution_count": 480,
     "metadata": {},
     "output_type": "execute_result"
    },
    {
     "data": {
      "image/png": "[encoded data removed]",
      "text/plain": [
       "<Figure size 432x288 with 1 Axes>"
      ]
     },
     "metadata": {
      "needs_background": "light"
     },
     "output_type": "display_data"
    }
   ],
   "source": [
    "plt.plot(range(4), (C1, C2, C3, C4)) #\"Specific heat plot\""
   ]
  },
  {
   "cell_type": "code",
   "execution_count": 461,
   "metadata": {},
   "outputs": [],
   "source": [
    "eTemps_final = np.linspace(0.0001, 40, 50)\n",
    "\n",
    "eFinal = [generateAvgData(lattice_initial, temp, quantity = \"E\") for temp in eTemps_final]"
   ]
  },
  {
   "cell_type": "code",
   "execution_count": 465,
   "metadata": {},
   "outputs": [
    {
     "data": {
      "text/plain": [
       "[<matplotlib.lines.Line2D at 0x12a6fe210>]"
      ]
     },
     "execution_count": 465,
     "metadata": {},
     "output_type": "execute_result"
    },
    {
     "data": {
      "image/png": "[encoded data removed]",
      "text/plain": [
       "<Figure size 432x288 with 1 Axes>"
      ]
     },
     "metadata": {
      "needs_background": "light"
     },
     "output_type": "display_data"
    }
   ],
   "source": [
    "\"\"\"Energy v. Temp\"\"\"\n",
    "plt.plot(eTemps_final, eFinal)"
   ]
  },
  {
   "cell_type": "code",
   "execution_count": 481,
   "metadata": {},
   "outputs": [],
   "source": [
    "C1 = np.average(specificHeat(eTemps_final, eFinal)[0:1])\n",
    "C2 = np.average(specificHeat(eTemps_final, eFinal)[1:7])\n",
    "C3 = np.average(specificHeat(eTemps_final, eFinal)[7:20])\n",
    "C4 = np.average(specificHeat(eTemps_final, eFinal)[20:40])"
   ]
  },
  {
   "cell_type": "code",
   "execution_count": 482,
   "metadata": {},
   "outputs": [
    {
     "data": {
      "text/plain": [
       "[<matplotlib.lines.Line2D at 0x12af1b890>]"
      ]
     },
     "execution_count": 482,
     "metadata": {},
     "output_type": "execute_result"
    },
    {
     "data": {
      "image/png": "[encoded data removed]",
      "text/plain": [
       "<Figure size 432x288 with 1 Axes>"
      ]
     },
     "metadata": {
      "needs_background": "light"
     },
     "output_type": "display_data"
    }
   ],
   "source": [
    "\"\"\"Ranged average of C (in various phases) vs. temperature\"\"\"\n",
    "plt.plot(range(4), (C1, C2, C3, C4)) #\"Specific heat plot\""
   ]
  },
  {
   "cell_type": "code",
   "execution_count": 542,
   "metadata": {},
   "outputs": [],
   "source": [
    "#plt.plot(eTemps_final[0:49], specificHeat(eTemps_final, eFinal))"
   ]
  },
  {
   "cell_type": "code",
   "execution_count": 539,
   "metadata": {},
   "outputs": [
    {
     "data": {
      "text/plain": [
       "'NAIVE ATTEMPT #2'"
      ]
     },
     "execution_count": 539,
     "metadata": {},
     "output_type": "execute_result"
    }
   ],
   "source": [
    "\"\"\"NAIVE ATTEMPT #2\"\"\"\n",
    "#def moreSpecificHeat(temps, energies):\n",
    "#    return np.gradient(energies, temps)"
   ]
  },
  {
   "cell_type": "code",
   "execution_count": 540,
   "metadata": {},
   "outputs": [],
   "source": [
    "#plt.plot(eTemps_final, moreSpecificHeat(eTemps_final, eFinal))"
   ]
  },
  {
   "cell_type": "code",
   "execution_count": 533,
   "metadata": {},
   "outputs": [],
   "source": [
    "\"\"\"ATTEMPT NUMBER 3\"\"\"\n",
    "lat = randomlattice(5, 5)\n",
    "temp_range = np.linspace(0.01, 3, 20)\n",
    "arrayC = []\n",
    "for temp in temp_range:\n",
    "    arrayC.append(fullMeasurements(lat, 100)[2])"
   ]
  },
  {
   "cell_type": "code",
   "execution_count": 536,
   "metadata": {},
   "outputs": [
    {
     "data": {
      "text/plain": [
       "<matplotlib.collections.PathCollection at 0x12bbf3ed0>"
      ]
     },
     "execution_count": 536,
     "metadata": {},
     "output_type": "execute_result"
    },
    {
     "data": {
      "image/png": "[encoded data removed]",
      "text/plain": [
       "<Figure size 432x288 with 1 Axes>"
      ]
     },
     "metadata": {
      "needs_background": "light"
     },
     "output_type": "display_data"
    }
   ],
   "source": [
    "\"\"\"SPECIFIC HEAT vs. temperature\"\"\"\n",
    "plt.scatter(temp_range, arrayC)"
   ]
  },
  {
   "cell_type": "code",
   "execution_count": 578,
   "metadata": {},
   "outputs": [],
   "source": [
    "\"\"\"EXTRA TIDBIT for sanity\"\"\"\n",
    "def generateAvgC(lattice, temp, nAvg = 10, N = 300, quantity = \"M\", manual = False):\n",
    "    \"\"\"This is assuredly SUPER inefficient, but I just want to see what a n-sample avg plot looks like\"\"\"\n",
    "    data = []\n",
    "    for i in range(nAvg):\n",
    "        data.append(fullMeasurements(lat, 100, manual_eq = manual)[2])\n",
    "    avgC = np.average(data)\n",
    "    return avgC"
   ]
  },
  {
   "cell_type": "code",
   "execution_count": 579,
   "metadata": {},
   "outputs": [],
   "source": [
    "avgC_temps = np.linspace(1.5, 6, 20)\n",
    "\n",
    "avgC_array = [generateAvgC(lat, temp, manual = True) for temp in avgC_temps]"
   ]
  },
  {
   "cell_type": "code",
   "execution_count": 580,
   "metadata": {},
   "outputs": [
    {
     "data": {
      "text/plain": [
       "<matplotlib.collections.PathCollection at 0x12c1ed690>"
      ]
     },
     "execution_count": 580,
     "metadata": {},
     "output_type": "execute_result"
    },
    {
     "data": {
      "image/png": "[encoded data removed]",
      "text/plain": [
       "<Figure size 432x288 with 1 Axes>"
      ]
     },
     "metadata": {
      "needs_background": "light"
     },
     "output_type": "display_data"
    }
   ],
   "source": [
    "plt.scatter(avgC_temps, avgC_array)"
   ]
  },
  {
   "cell_type": "code",
   "execution_count": null,
   "metadata": {},
   "outputs": [],
   "source": []
  },
  {
   "cell_type": "code",
   "execution_count": null,
   "metadata": {},
   "outputs": [],
   "source": []
  },
  {
   "cell_type": "code",
   "execution_count": null,
   "metadata": {},
   "outputs": [],
   "source": []
  }
 ],
 "metadata": {
  "kernelspec": {
   "display_name": "Python 3",
   "language": "python",
   "name": "python3"
  },
  "language_info": {
   "codemirror_mode": {
    "name": "ipython",
    "version": 3
   },
   "file_extension": ".py",
   "mimetype": "text/x-python",
   "name": "python",
   "nbconvert_exporter": "python",
   "pygments_lexer": "ipython3",
   "version": "3.7.4"
  }
 },
 "nbformat": 4,
 "nbformat_minor": 2
}
