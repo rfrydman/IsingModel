{
 "cells": [
  {
   "cell_type": "code",
   "execution_count": 4,
   "metadata": {},
   "outputs": [
    {
     "data": {
      "text/plain": [
       "'/opt/miniconda3/bin/python3'"
      ]
     },
     "execution_count": 4,
     "metadata": {},
     "output_type": "execute_result"
    }
   ],
   "source": [
    "import sys\n",
    "sys.executable"
   ]
  },
  {
   "cell_type": "code",
   "execution_count": 5,
   "metadata": {},
   "outputs": [],
   "source": [
    "import numpy as np\n",
    "import matplotlib.pyplot as plt\n",
    "from numpy import random as rng\n",
    "from matplotlib.colors import ListedColormap\n",
    "import matplotlib\n",
    "from  matplotlib.animation import FuncAnimation\n",
    "from IPython.display import HTML\n",
    "import scipy.interpolate as inter"
   ]
  },
  {
   "cell_type": "code",
   "execution_count": 6,
   "metadata": {},
   "outputs": [],
   "source": [
    "\"\"\"EXERCISE 1\"\"\"\n",
    "# Uniform Lattice creation\n",
    "def normallattice(N, M, value=0):\n",
    "    '''\n",
    "    This function returns an N (rows) x M (columns) lattice with identical values value\n",
    "    '''\n",
    "    return np.full((N, M), value)\n",
    "\n",
    "def alternatinglattice(N):\n",
    "    '''\n",
    "    returns an alternating square array of 1 and -1\n",
    "    '''\n",
    "    alternating = np.tile([[1, -1],[-1, 1]], (N, N))\n",
    "    return alternating\n",
    "\n",
    "# Random Lattice creation\n",
    "def randomlattice(N, M):\n",
    "    '''\n",
    "    This function returns an N (rows) x M (columns) lattice with randomized spin values -1 or 1\n",
    "    '''\n",
    "    return rng.choice((-1, 1), (N, M))\n",
    "\n",
    "def continuouslattice(N, M):\n",
    "    return np.random.rand(N, M)\n",
    "\n",
    "# Draw your lattice\n",
    "def plotlattice(array, color = 0 , axis_indexing = 0):\n",
    "    dim = np.shape(array)\n",
    "    nrows, ncols = dim[0], dim[1]\n",
    "    image = array\n",
    "    if axis_indexing == 1:\n",
    "        row_labels = list(range(nrows))\n",
    "        col_labels = list(range(ncols))\n",
    "    elif axis_indexing == 2:\n",
    "        row_labels = list(map(chr, range(97, 97 + nrows)))\n",
    "        col_labels = list(map(chr, range(97, 97 + ncols)))\n",
    "    else:\n",
    "        row_labels = []\n",
    "        col_labels = []\n",
    "    if color == 0:\n",
    "        plt.matshow(image, cmap = plt.cm.gray_r)\n",
    "    elif color == 1:\n",
    "        plt.matshow(image, cmap = plt.cm.magma)\n",
    "    elif color == 2:\n",
    "        plt.matshow(image, cmap = plt.cm.Spectral_r)\n",
    "    plt.xticks(range(ncols), col_labels)\n",
    "    plt.yticks(range(nrows), row_labels)\n",
    "    plt.show()"
   ]
  },
  {
   "cell_type": "code",
   "execution_count": 7,
   "metadata": {},
   "outputs": [
    {
     "data": {
      "image/png": "[encoded data removed]",
      "text/plain": [
       "<Figure size 288x288 with 1 Axes>"
      ]
     },
     "metadata": {
      "needs_background": "light"
     },
     "output_type": "display_data"
    },
    {
     "data": {
      "image/png": "[encoded data removed]",
      "text/plain": [
       "<Figure size 288x288 with 1 Axes>"
      ]
     },
     "metadata": {
      "needs_background": "light"
     },
     "output_type": "display_data"
    },
    {
     "data": {
      "image/png": "[encoded data removed]",
      "text/plain": [
       "<Figure size 288x288 with 1 Axes>"
      ]
     },
     "metadata": {
      "needs_background": "light"
     },
     "output_type": "display_data"
    }
   ],
   "source": [
    "array = continuouslattice(5, 5)\n",
    "plotlattice(array, 2, 1)\n",
    "\n",
    "boring_large_array = randomlattice(10, 10)\n",
    "plotlattice(boring_large_array, 0, 2)\n",
    "\n",
    "fun_large_array = continuouslattice(20, 20)\n",
    "plotlattice(fun_large_array, 2, 0)"
   ]
  },
  {
   "cell_type": "code",
   "execution_count": 8,
   "metadata": {},
   "outputs": [],
   "source": [
    "\"\"\"EXERCISE 2\"\"\"\n",
    "def chooseParticle(array):\n",
    "    dim = np.shape(array)\n",
    "    nrows, ncols = dim[0], dim[1]\n",
    "    rrow = np.random.randint(0, nrows)\n",
    "    rcol = np.random.randint(0, ncols)\n",
    "    return (rrow, rcol)\n",
    "\n",
    "def flipParticle(particle, array):\n",
    "    new_array = np.copy(array)\n",
    "    i = particle[0]\n",
    "    j = particle[1]\n",
    "    new_array[i][j] *= -1\n",
    "    return new_array"
   ]
  },
  {
   "cell_type": "code",
   "execution_count": 9,
   "metadata": {},
   "outputs": [],
   "source": [
    "\"\"\"EXERCISE 3\"\"\"\n",
    "def periodicBound(lattice, i, j):\n",
    "    dim = np.shape(lattice)\n",
    "    ind_row = dim[0] - 1\n",
    "    ind_col = dim[1] - 1\n",
    "    if i <= ind_row and j <= ind_col:\n",
    "        return lattice[i][j]\n",
    "    else:\n",
    "        wrap_i = i % (ind_row + 1)\n",
    "        wrap_j = j % (ind_col + 1)\n",
    "        return lattice[wrap_i][wrap_j]"
   ]
  },
  {
   "cell_type": "code",
   "execution_count": 10,
   "metadata": {},
   "outputs": [],
   "source": [
    "def neighbourSum(lattice, point):\n",
    "    i = point[0]\n",
    "    j = point[1]\n",
    "    latticesum = 0\n",
    "    \n",
    "    latticesum += periodicBound(lattice, i+1, j)\n",
    "    latticesum += periodicBound(lattice, i-1, j)\n",
    "    latticesum += periodicBound(lattice, i, j+1)\n",
    "    latticesum += periodicBound(lattice, i, j-1)\n",
    "    \n",
    "    return latticesum"
   ]
  },
  {
   "cell_type": "code",
   "execution_count": 11,
   "metadata": {},
   "outputs": [],
   "source": [
    "test_lattice = [[1, 2, 3], [4, 5, 6], [7, 8, 9]]"
   ]
  },
  {
   "cell_type": "code",
   "execution_count": 12,
   "metadata": {},
   "outputs": [
    {
     "data": {
      "text/plain": [
       "16"
      ]
     },
     "execution_count": 12,
     "metadata": {},
     "output_type": "execute_result"
    }
   ],
   "source": [
    "neighbourSum(test_lattice, (0,0))"
   ]
  },
  {
   "cell_type": "code",
   "execution_count": 13,
   "metadata": {},
   "outputs": [],
   "source": [
    "\"\"\"Pulled off the internet, with modifications to make it work for this data/added functionality.\"\"\"\n",
    "\n",
    "def heatmap(array, axis_indexing = 1, color_scheme = 0):\n",
    "    #if not ax:\n",
    "    #    ax = plt.gca()\n",
    "    \n",
    "    if axis_indexing == 1:\n",
    "        row_labels = range(array.shape[0])\n",
    "        col_labels = range(array.shape[1])\n",
    "        ax.set_xticks(np.arange(array.shape[1]))\n",
    "        ax.set_yticks(np.arange(array.shape[0]))\n",
    "        ax.set_xticklabels(col_labels)\n",
    "        ax.set_yticklabels(row_labels)\n",
    "    elif axis_indexing == 2:\n",
    "        row_labels = list(map(chr, range(97, 97 + array.shape[0])))\n",
    "        col_labels = list(map(chr, range(97, 97 + array.shape[1])))\n",
    "        row_labels.reverse()\n",
    "        ax.set_xticks(np.arange(array.shape[1]))\n",
    "        ax.set_yticks(np.arange(array.shape[0]))\n",
    "        ax.set_xticklabels(col_labels)\n",
    "        ax.set_yticklabels(row_labels)\n",
    "    else:\n",
    "        row_labels = []\n",
    "        col_labels = []\n",
    "        ax.set_xticklabels(col_labels)\n",
    "        ax.set_yticklabels(row_labels)\n",
    "    \n",
    "    if color_scheme == 0:\n",
    "        im = ax.imshow(array, cmap = plt.cm.gray_r)\n",
    "    elif color_scheme == 1:\n",
    "        im = ax.imshow(array, cmap = plt.cm.magma)\n",
    "    elif color_scheme == 2:\n",
    "        im = ax.imshow(array, cmap = plt.cm.Spectral_r)\n",
    "\n",
    "    for edge, spine in ax.spines.items():\n",
    "        spine.set_visible(False)\n",
    "\n",
    "    ax.set_xticks(np.arange(array.shape[1]+1)-.5, minor=True)\n",
    "    ax.set_yticks(np.arange(array.shape[0]+1)-.5, minor=True)\n",
    "    ax.tick_params(which=\"minor\", bottom=False, left=False)\n",
    "\n",
    "    return im\n",
    "\n",
    "\n",
    "def annotate_heatmap(im, array, valfmt=\"{x:.0f}\", textcolors=[\"black\", \"white\"], threshold=None):\n",
    "\n",
    "    # Normalize the threshold to the images color range.\n",
    "    if threshold is not None:\n",
    "        threshold = im.norm(threshold)\n",
    "    else:\n",
    "        threshold = im.norm(array.max())/2.\n",
    "\n",
    "    # Set default alignment to center, but allow it to be\n",
    "    # overwritten by textkw.\n",
    "    kw = dict(horizontalalignment=\"center\",\n",
    "              verticalalignment=\"center\")\n",
    "\n",
    "    # Get the formatter in case a string is supplied\n",
    "    if isinstance(valfmt, str):\n",
    "        valfmt = matplotlib.ticker.StrMethodFormatter(valfmt)\n",
    "\n",
    "    # Loop over the array and create a `Text` for each \"pixel\".\n",
    "    # Change the text's color depending on the array.\n",
    "    texts = []\n",
    "    for i in range(array.shape[0]):\n",
    "        for j in range(array.shape[1]):\n",
    "            kw.update(color=textcolors[int(im.norm(array[i, j]) < threshold)])\n",
    "            text = im.axes.text(j, i, valfmt(array[i, j], None), **kw)\n",
    "            texts.append(text)\n",
    "\n",
    "    return texts"
   ]
  },
  {
   "cell_type": "code",
   "execution_count": 14,
   "metadata": {},
   "outputs": [
    {
     "data": {
      "image/png": "[encoded data removed]",
      "text/plain": [
       "<Figure size 432x288 with 1 Axes>"
      ]
     },
     "metadata": {
      "needs_background": "light"
     },
     "output_type": "display_data"
    }
   ],
   "source": [
    "test_array = randomlattice(5, 5)    \n",
    "\n",
    "fig, ax = plt.subplots()\n",
    "\n",
    "image = heatmap(test_array, axis_indexing = 0, color_scheme = 2)\n",
    "texts = annotate_heatmap(image, test_array, valfmt = \"{x:.0f}\", threshold = 0, textcolors=[\"white\", \"black\"])\n",
    "\n",
    "fig.tight_layout()\n",
    "plt.show()"
   ]
  },
  {
   "cell_type": "code",
   "execution_count": 15,
   "metadata": {},
   "outputs": [],
   "source": [
    "def neighbourlattice(array):\n",
    "    sumlattice = np.zeros(array.shape)\n",
    "    for i in range(array.shape[0]):\n",
    "        for j in range(array.shape[1]):\n",
    "            point = (i, j)\n",
    "            elem = neighbourSum(array, point)\n",
    "            sumlattice[i, j] = elem\n",
    "    return sumlattice"
   ]
  },
  {
   "cell_type": "code",
   "execution_count": 16,
   "metadata": {},
   "outputs": [],
   "source": [
    "\"\"\"TEST ARRAYS\"\"\"\n",
    "smalltestarray = randomlattice(5, 5)\n",
    "smallsumarray = neighbourlattice(smalltestarray)"
   ]
  },
  {
   "cell_type": "code",
   "execution_count": 17,
   "metadata": {},
   "outputs": [
    {
     "data": {
      "image/png": "[encoded data removed]",
      "text/plain": [
       "<Figure size 432x288 with 1 Axes>"
      ]
     },
     "metadata": {
      "needs_background": "light"
     },
     "output_type": "display_data"
    },
    {
     "data": {
      "image/png": "[encoded data removed]",
      "text/plain": [
       "<Figure size 432x288 with 1 Axes>"
      ]
     },
     "metadata": {
      "needs_background": "light"
     },
     "output_type": "display_data"
    }
   ],
   "source": [
    "\"\"\"TEST OF NEIGHBOURLATTICE FUNCTION\"\"\"\n",
    "fig, ax = plt.subplots()\n",
    "\n",
    "image = heatmap(smalltestarray, axis_indexing = 0, color_scheme = 0)\n",
    "texts = annotate_heatmap(image, smalltestarray, textcolors=['white', 'black'])\n",
    "\n",
    "fig.tight_layout()\n",
    "plt.show()\n",
    "\n",
    "fig, ax = plt.subplots()\n",
    "\n",
    "image = heatmap(smallsumarray, axis_indexing = 0, color_scheme = 2)\n",
    "texts = annotate_heatmap(image, smallsumarray, textcolors=['black','black'])\n",
    "\n",
    "fig.tight_layout()\n",
    "plt.show()"
   ]
  },
  {
   "cell_type": "code",
   "execution_count": 18,
   "metadata": {},
   "outputs": [],
   "source": [
    "\"\"\"EXERCISE 4\"\"\"\n",
    "def localenergy(array, point, constJ = 1, constH = 0, roryIntuition = False):\n",
    "    local_spin = neighbourSum(array, point)\n",
    "    \n",
    "    i, j = point[0], point[1]\n",
    "    self_spin = array[i, j]\n",
    "    local_interaction = self_spin * local_spin\n",
    "    local_int_energy = -1 * constJ * local_interaction\n",
    "    \n",
    "    if roryIntuition == True: \n",
    "        local_neighbour_energy = -1 * constH * self_spin\n",
    "    else:\n",
    "        local_neighbour_energy = -1 * constH * local_spin\n",
    "    \n",
    "    local_energy = local_int_energy + local_neighbour_energy\n",
    "    return local_energy\n",
    "\n",
    "def totalenergy(array):\n",
    "    total_energy = 0\n",
    "    for i in range(array.shape[0]):\n",
    "        for j in range(array.shape[1]):\n",
    "            point = (i, j)\n",
    "            total_energy += localenergy(array, point)\n",
    "    return total_energy"
   ]
  },
  {
   "cell_type": "code",
   "execution_count": 19,
   "metadata": {},
   "outputs": [
    {
     "name": "stdout",
     "output_type": "stream",
     "text": [
      "4\n",
      "12\n",
      "12\n",
      "-12\n",
      "-28\n",
      "-196\n",
      "-196\n",
      "-196\n",
      "-196\n",
      "-196\n",
      "-196\n",
      "-196\n",
      "-196\n",
      "-196\n",
      "-196\n",
      "0\n",
      "0\n",
      "0\n",
      "0\n",
      "0\n"
     ]
    },
    {
     "data": {
      "text/plain": [
       "'\\nWith J and H = 1, the random energies are all even, and both positive and negative. The spin ups are all -392...\\nthe spin downs are all 0, and the spin 0 are also all zero.\\n'"
      ]
     },
     "execution_count": 19,
     "metadata": {},
     "output_type": "execute_result"
    }
   ],
   "source": [
    "#random lattices\n",
    "for i in range(5):\n",
    "    energytest = randomlattice(7, 7)\n",
    "    print(totalenergy(energytest))\n",
    "    \n",
    "#spin up lattices\n",
    "for i in range(5):\n",
    "    energytest = normallattice(7, 7, 1)\n",
    "    print(totalenergy(energytest))\n",
    "\n",
    "#spin down lattices\n",
    "for i in range(5):\n",
    "    energytest = normallattice(7, 7, -1)\n",
    "    print(totalenergy(energytest))\n",
    "\n",
    "#spin 0 lattices:\n",
    "for i in range(5):\n",
    "    energytest = normallattice(7, 7, 0)\n",
    "    print(totalenergy(energytest))\n",
    "    \n",
    "    \n",
    "\"\"\"\n",
    "With J and H = 1, the random energies are all even, and both positive and negative. The spin ups are all -392...\n",
    "the spin downs are all 0, and the spin 0 are also all zero.\n",
    "\"\"\""
   ]
  },
  {
   "cell_type": "code",
   "execution_count": 20,
   "metadata": {},
   "outputs": [],
   "source": [
    "\"\"\"EXERCISE 5\"\"\"\n",
    "def magnetisation(array):\n",
    "    totalM = np.sum(array)\n",
    "    spinM = totalM / (array.shape[0] * array.shape[1])\n",
    "    return totalM, spinM"
   ]
  },
  {
   "cell_type": "code",
   "execution_count": 21,
   "metadata": {},
   "outputs": [],
   "source": [
    "test_mag = normallattice(5, 5, 1)"
   ]
  },
  {
   "cell_type": "code",
   "execution_count": 22,
   "metadata": {},
   "outputs": [
    {
     "data": {
      "text/plain": [
       "(25, 1.0)"
      ]
     },
     "execution_count": 22,
     "metadata": {},
     "output_type": "execute_result"
    }
   ],
   "source": [
    "magnetisation(test_mag)"
   ]
  },
  {
   "cell_type": "code",
   "execution_count": 23,
   "metadata": {},
   "outputs": [],
   "source": [
    "perturb_mag = flipParticle((2,1), test_mag)\n",
    "perturb_mag = flipParticle((3,2), perturb_mag)\n",
    "perturb_mag = flipParticle((0,4), perturb_mag)"
   ]
  },
  {
   "cell_type": "code",
   "execution_count": 24,
   "metadata": {},
   "outputs": [
    {
     "data": {
      "text/plain": [
       "(19, 0.76)"
      ]
     },
     "execution_count": 24,
     "metadata": {},
     "output_type": "execute_result"
    }
   ],
   "source": [
    "magnetisation(perturb_mag)"
   ]
  },
  {
   "cell_type": "code",
   "execution_count": 25,
   "metadata": {},
   "outputs": [
    {
     "data": {
      "text/plain": [
       "'PSEUDOCODE:\\ncall randomlattice:\\n    assign randomlattice return value to variable array\\n    print array\\n\\ndef delta_energy(array, particle):\\n    call totalenergy on unperturbed lattice:\\n    store value as E1\\n    \\n    store new perturbed lattice with flip particle\\n    \\n    call totalenergy on perturbed lattice:\\n    store value as E2\\n    \\n    calculate and return E2-E1\\n    \\ndef fliparoni(array, T):\\n        particle = choose random particle to flip with rng\\n\\n        delta = delta_energy(array, particle)\\n        if delta < 0:\\n            flipParticle(particle, array)\\n        else:\\n            rng between 0 and 1\\n            pE = np.exp(-delta / (k * T))\\n            if r < pE:\\n                flipParticle(particle, array)\\n            else:\\n                pass\\n        return array\\n\\ndef simulate(array, T, N):\\n    for i in range(N):\\n        fliparoni(array, T)\\n    return array\\n\\n'"
      ]
     },
     "execution_count": 25,
     "metadata": {},
     "output_type": "execute_result"
    }
   ],
   "source": [
    "\"\"\"EXERCISE 6\"\"\"\n",
    "\n",
    "\"\"\"I feel like with the number of times I use array, I should make the lattice a class.\"\"\"\n",
    "\n",
    "\"\"\"PSEUDOCODE:\n",
    "call randomlattice:\n",
    "    assign randomlattice return value to variable array\n",
    "    print array\n",
    "\n",
    "def delta_energy(array, particle):\n",
    "    call totalenergy on unperturbed lattice:\n",
    "    store value as E1\n",
    "    \n",
    "    store new perturbed lattice with flip particle\n",
    "    \n",
    "    call totalenergy on perturbed lattice:\n",
    "    store value as E2\n",
    "    \n",
    "    calculate and return E2-E1\n",
    "    \n",
    "def fliparoni(array, T):\n",
    "        particle = choose random particle to flip with rng\n",
    "\n",
    "        delta = delta_energy(array, particle)\n",
    "        if delta < 0:\n",
    "            flipParticle(particle, array)\n",
    "        else:\n",
    "            rng between 0 and 1\n",
    "            pE = np.exp(-delta / (k * T))\n",
    "            if r < pE:\n",
    "                flipParticle(particle, array)\n",
    "            else:\n",
    "                pass\n",
    "        return array\n",
    "\n",
    "def simulate(array, T, N):\n",
    "    for i in range(N):\n",
    "        fliparoni(array, T)\n",
    "    return array\n",
    "\n",
    "\"\"\""
   ]
  },
  {
   "cell_type": "code",
   "execution_count": 26,
   "metadata": {},
   "outputs": [],
   "source": [
    "def delta_energy(array, particle):\n",
    "    E1 = localenergy(array, particle)\n",
    "    \n",
    "    delta = -2 * E1\n",
    "    \n",
    "    return delta\n",
    "    \n",
    "def fliparoni(array, T, debug = False):\n",
    "        particle = chooseParticle(array)\n",
    "        \n",
    "        k = 1\n",
    "        #k = 1.380649e-23 #(Boltzman constant in different units)\n",
    "        \n",
    "        if debug == True: print(particle)\n",
    "        \n",
    "        delta = delta_energy(array, particle)\n",
    "        \n",
    "        if debug == True: print(delta)\n",
    "        \n",
    "        if delta < 0:\n",
    "            new_array = flipParticle(particle, array)\n",
    "        else:\n",
    "            r = np.random.uniform()\n",
    "            pE = np.exp(-1 * delta / (k * T))\n",
    "            if r < pE:\n",
    "                new_array = flipParticle(particle, array)\n",
    "            else:\n",
    "                new_array = array\n",
    "        return new_array"
   ]
  },
  {
   "cell_type": "code",
   "execution_count": 27,
   "metadata": {},
   "outputs": [],
   "source": [
    "def plotsimulation(array, T, N): #plots start lattice and lattice after N steps at temp T\n",
    "    plotlattice(array)\n",
    "    loop_array = array\n",
    "    for i in range(N):\n",
    "        #plotlattice(loop_array)\n",
    "        loop_array = fliparoni(loop_array, T)\n",
    "    plotlattice(loop_array)\n",
    "    return\n",
    "\n",
    "def samplelattice(array, T, N): #for the animation function later on.\n",
    "    data = []\n",
    "    \n",
    "    loop_array = array\n",
    "    for i in range(N):\n",
    "        data.append(loop_array)\n",
    "        loop_array = fliparoni(loop_array, T)\n",
    "    return data\n",
    "\n",
    "\"\"\"def simulate(array, T, N): #the function that returns magnetisation and total energy for each of N steps\n",
    "    observables = np.zeros((2, N))\n",
    "    \n",
    "    loop_array = array\n",
    "    for i in range(N):\n",
    "        mag = magnetisation(loop_array)\n",
    "        observables[0][i] = mag[0]\n",
    "        observables[1][i] = totalenergy(loop_array)\n",
    "        loop_array = fliparoni(loop_array, T)\n",
    "        \n",
    "    return observables\"\"\"\n",
    "\n",
    "def observe(array, total = False):\n",
    "    magTuple = magnetisation(array)\n",
    "    \n",
    "    if total == False: \n",
    "        mag = magTuple[1] #assuming average spin\n",
    "    elif total == True:\n",
    "        mag = magTuple[0]\n",
    "        \n",
    "    energy = totalenergy(array)\n",
    "    return mag, energy\n",
    "\n",
    "def metropolis(array, T, N = 1000):\n",
    "    differences = np.zeros((N, 2))\n",
    "    measurables = np.zeros((N, 2))\n",
    "    loop_array_initial = array\n",
    "    for i in range(N):\n",
    "        loop_array_final = fliparoni(loop_array_initial, T)\n",
    "        val_initial = observe(loop_array_initial)\n",
    "        val_final = observe(loop_array_final)\n",
    "        measurables[i] = observe(loop_array_initial, total = False)\n",
    "        differences[i] = np.subtract(val_final, val_initial)\n",
    "        loop_array_initial = loop_array_final\n",
    "    measurables[N-1] = observe(loop_array_final, total = False)\n",
    "    return differences, measurables"
   ]
  },
  {
   "cell_type": "code",
   "execution_count": 28,
   "metadata": {},
   "outputs": [],
   "source": [
    "simulationLattice = randomlattice(10, 10)"
   ]
  },
  {
   "cell_type": "code",
   "execution_count": 29,
   "metadata": {},
   "outputs": [
    {
     "data": {
      "image/png": "[encoded data removed]",
      "text/plain": [
       "<Figure size 432x288 with 1 Axes>"
      ]
     },
     "metadata": {
      "needs_background": "light"
     },
     "output_type": "display_data"
    }
   ],
   "source": [
    "N = 1000\n",
    "plotdata = metropolis(simulationLattice, 4, N)[1]\n",
    "mag = plotdata[:,0]\n",
    "plt.plot(list(range(N)), mag, alpha=0.5)\n",
    "plt.show()\n",
    "#energy.size"
   ]
  },
  {
   "cell_type": "code",
   "execution_count": 30,
   "metadata": {},
   "outputs": [],
   "source": [
    "def animateplot(array, T, N, color_scheme = 0):\n",
    "\n",
    "    data = samplelattice(simulationLattice, T, N)\n",
    "\n",
    "    fig = plt.figure()\n",
    "    \n",
    "    if color_scheme == 0:\n",
    "        color_map = plt.cm.gray_r\n",
    "    else:\n",
    "        color_map = plt.cm.magma\n",
    "        \n",
    "    plot = plt.imshow(data[0], cmap = color_map)\n",
    "\n",
    "    def init():\n",
    "        plot.set_data(data[0])\n",
    "        return [plot]\n",
    "\n",
    "    def update(j):\n",
    "        plot.set_data(data[j])\n",
    "        return [plot]\n",
    "\n",
    "\n",
    "    anim = FuncAnimation(fig, update, init_func = init, frames= N, interval = 30, blit=True)\n",
    "    \n",
    "    return anim"
   ]
  },
  {
   "cell_type": "code",
   "execution_count": 31,
   "metadata": {},
   "outputs": [
    {
     "data": {
      "text/html": [
       "<video width=\"432\" height=\"288\" controls autoplay loop>\n",
       "  <source type=\"video/mp4\" src=\"data:video/mp4;base64,AAAAHGZ0eXBNNFYgAAACAGlzb21pc28yYXZjMQAAAAhmcmVlAABfqW1kYXQAAAKgBgX//5zcRem9\n",
       "5tlIt5Ys2CDZI+7veDI2NCAtIGNvcmUgMTUyIC0gSC4yNjQvTVBFRy00IEFWQyBjb2RlYyAtIENv\n",
       "cHlsZWZ0IDIwMDMtMjAxNyAtIGh0dHA6Ly93d3cudmlkZW9sYW4ub3JnL3gyNjQuaHRtbCAtIG9w\n",
       "dGlvbnM6IGNhYmFjPTEgcmVmPTMgZGVibG9jaz0xOjA6MCBhbmFseXNlPTB4MzoweDExMyBtZT1o\n",
       "ZXggc3VibWU9NyBwc3k9MSBwc3lfcmQ9MS4wMDowLjAwIG1peGVkX3JlZj0xIG1lX3JhbmdlPTE2\n",
       "IGNocm9tYV9tZT0xIHRyZWxsaXM9MSA4eDhkY3Q9MSBjcW09MCBkZWFkem9uZT0yMSwxMSBmYXN0\n",
       "X3Bza2lwPTEgY2hyb21hX3FwX29mZnNldD0tMiB0aHJlYWRzPTYgbG9va2FoZWFkX3RocmVhZHM9\n",
       "MSBzbGljZWRfdGhyZWFkcz0wIG5yPTAgZGVjaW1hdGU9MSBpbnRlcmxhY2VkPTAgYmx1cmF5X2Nv\n",
       "bXBhdD0wIGNvbnN0cmFpbmVkX2ludHJhPTAgYmZyYW1lcz0zIGJfcHlyYW1pZD0yIGJfYWRhcHQ9\n",
       "MSBiX2JpYXM9MCBkaXJlY3Q9MSB3ZWlnaHRiPTEgb3Blbl9nb3A9MCB3ZWlnaHRwPTIga2V5aW50\n",
       "PTI1MCBrZXlpbnRfbWluPTI1IHNjZW5lY3V0PTQwIGludHJhX3JlZnJlc2g9MCByY19sb29rYWhl\n",
       "YWQ9NDAgcmM9Y3JmIG1idHJlZT0xIGNyZj0yMy4wIHFjb21wPTAuNjAgcXBtaW49MCBxcG1heD02\n",
       "OSBxcHN0ZXA9NCBpcF9yYXRpbz0xLjQwIGFxPTE6MS4wMACAAAAHRGWIhAA3//728P4FNjuY0JcR\n",
       "zeidMx+/Fbi6NDe9zgAAAwAAN9zmRP7KkwbmwAAC4SdPkdCVxxAMirIArvTEcfHVQB3dXAnB6Ym1\n",
       "tJ8cx6nzEmxQpEnHrKm5BuWVcow5FJlGiorG6V4aD9a6VV6W7+BFJ/wJar92MVlXs56O1hp+ChjL\n",
       "t/0EeHV9/oQxmCm8WKwrMOJPsBYUOJUE2zngv6L/d+NaeK+Zpb7OyGuLUsYfTHJ4c9oo9olZtTVB\n",
       "OvZK/qoCzSGY1/7qn0h5IALjKtwe2+tq57llHWgl7EjDwpvmr7B6jpmAtbtKVpdeEc1HNwleaOP6\n",
       "+O9ph8IldUfpXT1//9WZ7J2I7hYlvzJdZFPaDuZ5hz50jGL16M6soeVSJGZ1f0ZUR6KHxTEPVlTv\n",
       "dzQHUA3h5k1mqnessWgB96V3d6P+qvyS4R2E0GlUZGaO9RB5EWZcHeAsEkVAYI5NyGS61qgsXAaM\n",
       "rjUruLkWJmn9NjwM/k2l/3M5s1ukvPZ/5agEjcb46TX9UnKk6rsQjmQ7+dXi2ev3Y770DAl4W2hb\n",
       "gAABQ/+EJFrH/qY3aLaeUgtwV04Nvz8S3VCj4ruDk78V5H5lbl7FlLJf1zdRSxfvds47UanpG4R4\n",
       "K77Ms0SotM58dC15D6TEwZbUmIesH4BicK8E4zlfsZktm472pL2vj9xO6P4VuLCH3iX2VABNAYJb\n",
       "XBjqBtT72NUcZ5zl5va8rRqlgDs9102iwsw1P/Cf3dQhj/hOT9L5GogvJ+pYX1rS3vGqdrqcMjLd\n",
       "OqF7f+s0BhAyFZqqtIICluQBtF5DmSrdEr9IiabQOgLc2YmkJeAFauYLLDLGPMvvLjojLzH+hukW\n",
       "9L0t8NhyXt+kw/KxViZpMowqfaAi15hBLvk4BQ7w43xFDjbKhfSr17ZYbChIxU/1bjVsNShY+RRB\n",
       "v2Xm9iCx9Zb+AkGEUGwo8/23GA+X61ccgCaAUrPH45KzdeY/C3lofWW+ZHaF5OeKE/UlW3PKzpPq\n",
       "SNqJc6UcGZMYVw7mFOZtOYd+k0y9Ov+MIm8v3KR60Wf94JsshtmLMnRkanx0iron0lO4Upj9gmxT\n",
       "XLj8UVdVnJ1Tr+JnTVXgtIujWs0zNZjhs2POvMmJhJMEH4xEGtbNT8Jlt0H9Oz2hHgZTEeKifYAw\n",
       "9ys+jz52sXIzhfrBsO7aavlRYnNOdkEdbWUf/rY8k1WiF3+ESX1klLGKKYnFA58QeHHsS6Rx38T1\n",
       "ACSRHwubSDwz86BoTMc5+zShAilhvn2DeREVHvNxKc0/fbv42D+sHRDmRIIupyoYtUW289RP2Mws\n",
       "r9ZbruPkd7Ce8ZGWcEr2mo6AAjZHwChsXH5ux3wpM1XES9IIU1IGb+2ela4lxF1rwYUbtizr5/tW\n",
       "kDrAUr9p2KQqDmFSyv0zoiS4LnHsniXTdpk3zV9uUOfWCjOrFUEV/jdLARQrNltMxrTZsWdaX627\n",
       "KfcN29jWrASvhvuPALPmNNwUxjjMASNKVsVyYLoyoEjpw8SAIK53RMQHae7+oC9xlVkhaptANIrQ\n",
       "GSj8wCq2+Vk/EXMrjIMgO95c52hE/RQjDX+GxUw6+7+EXPG1aKwJ78vkMFGak3mxm0CWi3EOINPb\n",
       "kKKJLsUTTNrRNEYLpsBTFP/qmnQ4l0IU8ZESXW9hjYacpoxX/eS39abF9GVijwJ/PWDis86QGWT4\n",
       "HCxmsbaF74epC9fvQFSBMdtHkENPL4FxFF99m6mygi0YWo3lNueaZdSlzZ73cKYJuw1nvoRKx5bE\n",
       "HGpSSmxgH8sJN5juOlZUdeZz0yfXNjDEdThQL0cbJdc9JgW1j60fJkOVCxLWV2KPtg2Ve6JFdPRS\n",
       "SQrNeUlO2CyAFVXacAM/9a11ofzzC71elbGDLf+lkZQXkkkcBesoVRd3/AEj6y36i61L1avLFQ8b\n",
       "aXtUfhojvF6qNcBNYjozb56wIz5/WJnzcM/MxGXr79OxH0vuML4aFEHA1CPLIGDWrzZcCjmcEQL2\n",
       "yF/7poxVs8qzVYcG8YcVGnVJqNjlqFjeD/EhXAADk/h1MIfCHuvdc8vFwBmKDUtf/UO5lLe1M1/1\n",
       "qyi6ED8f7Bx33LnPkEUnN5SuvSuDc/r3q1UDvNJHRkNQcXjalnAmlCEf4+LcgfpvnuuSS1X5WOkK\n",
       "JQwa+EK8CFt/wa0GJ+8YniRC2j/NRRO/yVcPtBqV6LTgsQ3Jn5r4YiRNv4j4pUzoPPJdFf8Hqtzc\n",
       "spT1vARjTxWtWkO6LzLPiiOLix0UVNCXcWarULHPWigRxSVzpwpuFcIdosQGWThxggj4/HqSR+9U\n",
       "MbbfwOd9AdW/ExmdUJn7ECjm0UUJS+8yRNEL6QUPaTxgKPNyDWnB3vavk94A6KsWJc0xlpKzCiOt\n",
       "QfntyQEh8Wl4EPIRUqumBiBWWDs/EA5+dMF3Netlflo2tzuI19xzYYlHM5qxJcJ1uYGxmDt68bAk\n",
       "t5jIE7GDSCAjjdy13gAAAwADrwAAAWpBmiRsQ3/+p4QPjZT8F5RZ5tZ5SmzmqJ65/sgCNwCllULx\n",
       "P6okHZzYMce1TTKXzQ7+TRv8S21WUcKZFS90BXoIfMmz/+X0L78gdF7L2MPQHoiDrvC/ROel2bSg\n",
       "q9ryC+3NOwKH/DrsEvF22JFXGg9tXR0z8FSd4uGbneSO2CmyFtY3Jzqx9Or5oDc86/KowSGHZsaJ\n",
       "PYJ3b4TAwZ20WBOg/fYeO1STTyKrUxckePhmUlM0NU3AUI3UrhX2nprBE4XIibFD1nC2+X9J8qD5\n",
       "rJAcAlTJuhSbs4yjM8LJa3Wtsfan53YahVKZ6MheADaA/FHEyjUo7qs/J2GaWQeDVSNuBWO7BpXe\n",
       "nA8weUW0HtzqfZsO7RKpXE3QzM+QJVamyDN8iNbYMyMSM4+XAL6vIFjglVQ2WKVhXjCCePAwyPKZ\n",
       "DNgJ7clKZ8UnrSJHWxeAVA1iFriJGeor0hUh64yojMH8ZH07HaSxgtc4gAAAAFRBnkJ4hX8CzZaa\n",
       "IGc+zbOfjHm72A20XnB7AxsSnuuHlSt11Em6pArNdH+Yyv9WrOY9PovXXkbg/afujWEG9eZ7IXjD\n",
       "4K5ACC332PyjCJdADGvmbzcAAAA4AZ5hdEJ/A4VfS/DYTpG9eC0JzzkrV93RqoQ7NhMiJjiaeXuF\n",
       "up2Koway/c9B46gBtNE2hPvl8dMAAAAoAZ5jakJ/AqLwEzl1/OHcszxGgkCnzi2kFiLCgyKUEeiV\n",
       "LrNAN0wRMQAAAE9BmmhJqEFomUwIb//+p4QFs3hLd/Fut08VrVWwYaZ0iI8UTlQeEAmHl1mO3pDl\n",
       "94n8qFTQa/0XL0iEZvazI20jLy/EbGFIBEYM5O5eiLfVAAAAOkGehkURLCv/AjNiBl5XnDwzWTpu\n",
       "Brfd5FctnalnE882zwX7jSmVcaYdAHgXZlAb1je7FriA/6s5TEEAAAAfAZ6ldEJ/AqGvoHx7+Vfq\n",
       "30hpyOMsmZf6tZxkUijakQAAACEBnqdqQn8AVBkw4gMGLcK1yRa0YoAg7tKqUU8OIZUfVSkAAACJ\n",
       "QZqsSahBbJlMCG///qeEABfZJyQBebWTZDXiEiYeAJ+0qEHbJCckLCBYBIJAdwpHODY1+qSPkUMH\n",
       "QFQpLRg2Uhu948X0FUv/MnHzAIt0/YE6UTbGvy2yVPji7yP8r3cEQN1wjB7XcKfsWY3IuvSq5cG9\n",
       "jQJqfKH9//1thPtVTdWhQxOJ3wjkFCQAAAA9QZ7KRRUsK/8CM2GW5+2qkppaSK1zySymzYim4ClQ\n",
       "Ag8LHFoXN0sx5BrWZXP52udsCnTxKWpJJRBs3H2hrQAAACYBnul0Qn8AGR9CuPs5bD3nl0lnFs8J\n",
       "RH1WEqcC38N319amw30JOAAAAB8BnutqQn8AFQuN4cCsvgKq/3ZWM4DTT15t53lu4hPEAAAAhkGa\n",
       "8EmoQWyZTAhv//6nhAEt7mqCS3c6XuuKiH6EFsIpFoaYL1aar1rLqRa8hS9DCI+ifkAjH8ebQCfH\n",
       "V/q6c4UeNtQb4STRDArPIJJOcUtGi3x7/AlMu3o3Kfqxwo8y229USrhbBfJDaMCK8ZutUm5JKpwC\n",
       "fEQNeWuhe7o0bv3sYO7V0kF3AAAALEGfDkUVLCv/AjNhmK35Kvj2/nrnaVDcpqAzBKnFdPTAaRyH\n",
       "Zmv2LDJJqmLBAAAAGAGfLXRCfwBpfJ8yePFcbiM0uzg+sSOSeQAAABoBny9qQn8AM48ctOT60TmB\n",
       "T9skwermw/sfMAAAAGxBmzRJqEFsmUwIb//+p4QAZHAr9LDGINvPpQ6wfpvnrvZtR5FpT0aurrAJ\n",
       "4KS5JQ2vcxWNVH9QMLTteL+mQdWji+WP+bJr5WoOmN/+SoJvpE4nZOResZhgP638PAzWV1JwiT0k\n",
       "MzElKc2EH8AAAAAqQZ9SRRUsK/8CM2GYrtaLKztmlHDjGI1uDRAg6c2CvFnvbDCK2T0sbEhBAAAA\n",
       "GwGfcXRCfwAzfnRPt1e5mtXE15PlGyeHnOgp4AAAAB4Bn3NqQn8AaYTJA2o/ioCdvjcnQUBqg7Q0\n",
       "dytp1EAAAABOQZt4SahBbJlMCG///qeEACbcgbDHyNTT9JsASc8M/dACuomcr74dCjJuHnlanj1e\n",
       "S7t//6fHsTLCg71L34FAiAE5FJj3jsh3zIzHs3/BAAAAIkGflkUVLCv/AjNhlr4SKwWp5YgFWtcU\n",
       "6V52GHaqoDCBxIAAAAAYAZ+1dEJ/ABPkZcVJlt/E/frWHJBxi2xRAAAAEwGft2pCfwAT64EPOgax\n",
       "5/Fmv6EAAACIQZu8SahBbJlMCG///qeEACbcgbDInXsuKRNQh1Cmahp4ABX3SdqgUpsCnE/eQwA0\n",
       "VGILka27wyAfu8mwmaHdTi/eloeN8BOBui/srMTV80EDw+st4qtpSeQFC7vThVYtIZKBwz838rDs\n",
       "9/9nn5/Td1lzH59zjSwdUEYTRqCx0kq/Qi7v+PTjfAAAADdBn9pFFSwr/wIzYZa+EisFqeWIBVe9\n",
       "cYfc2N+rg3X8AEQYvGpqMP/YDns1e0BrKgB+S0LfY6jRAAAAGwGf+XRCfwAT5GXFSY+33Y6MpotV\n",
       "zzgAnzJoLAAAABsBn/tqQn8AE+uBDzoGsehrG+BQt91Ahxd3oEEAAACAQZvgSahBbJlMCG///qeE\n",
       "AXT2o0rtw4i8Kp5oDB8gZOfwWfVQAjEvyax6a2OWGVFJwHKmrYkmOcQdH0DoywCkkY+DVaz22xWr\n",
       "7AeDXcaj69KpCKway5ZywsGg2sOz1ovxozos+0pHLpIjKrNK39OmcR51CsKa2VtPRbADj02z4H0A\n",
       "AAAzQZ4eRRUsK/8CM2GjbFvCIM6ADXTE8hBaUPKIr8i2Q8L8tJUsMKpUtFVdsiZXQKHanBLAAAAA\n",
       "HAGePXRCfwBUNJ7KCL00/cT1Lx7ZB9gCldwT66AAAAAdAZ4/akJ/AXy3WlHqi+qgJunVeLD11RPs\n",
       "sUhCRXUAAAB0QZokSahBbJlMCG///qeEAT3c7zXSn6gAIew1+yGj2//3+ZTfZzFy1o9TKwJJ9mOk\n",
       "w59v2mn0g9Y5dYb9VcWMIfcW6bkt46Mr0rCjBpeWlUqe7iTPBk2beshBvN75ioV8WYh7l1FnsQv4\n",
       "8k52UWtyOZazx3QAAAAtQZ5CRRUsK/8CM2IHAGicSiW+6ddAxxjq4kBmgeX3fxFuBFKq/CFcT20I\n",
       "e0R1AAAAHQGeYXRCfwFP0nsoI5nWiTYu3HlJIBTfpqNQaUV0AAAAIQGeY2pCfwKi8BSY/1EQz6bh\n",
       "8UY8JhkxJ/AiIHiSZKx/QQAAAJBBmmhJqEFsmUwIb//+p4QFL3hPIy5zUAPnrKOFR+c0G6wk2I/C\n",
       "7RWEv1do1JH9k31fmo/g3eO4ojrEuGCLXr4p+6ubwPgJWf/zr++jcBlEHNoFRKLfQiPUnQTxPwBo\n",
       "isw5y0n5/eLVx0bPKEjP/ZgN7gtaMWnRF3dn4YnOWXOmFEXNc4xoKwvei/ga5refLjkAAABAQZ6G\n",
       "RRUsK/8CM2IHbXncgSSi/nmu21VBp5/VTnOtVwVNQzYFiB1IIhfdf5QAC8A7IEfP9rZiC7ElJeO/\n",
       "QHCIuQAAACsBnqV0Qn8Coa+j96qC5x170ZQ2YWMblbA0F6vDYv8UIIj2PANUrdNf4yK/AAAAKgGe\n",
       "p2pCfwKi8Bax1s333oYmzdHhbZMqE6aVKZCM3PhqOPCBKS0pheyyQAAAAHJBmqxJqEFsmUwIb//+\n",
       "p4QFs3hLeBtO0EN8D3xJdeZ/EqxJGgBuIoQLnoHJSmTd9hkvavjIP/YHu1KBoeMv1MBZpaSwOtSV\n",
       "B2zPX24cnmgJhPJUjAAwfekBzNunJltHRUsds7lhLwLMsmSShynhYAJUrqAAAAAvQZ7KRRUsK/8C\n",
       "M2IGXnCytgkTXo9CEUqrXR383t0b1TkcLvDZnGJZNwzIiexuiP0AAAAgAZ7pdEJ/AqGvp2+9Y1YP\n",
       "dHy+l0oKwcO38YGCBvjFFtAAAAArAZ7rakJ/ADOPHGTk8Vjp6knPbr4UgACo+XVnsLb+EYuKoFEn\n",
       "fbNwYMB0wAAAAGZBmvBJqEFsmUwIb//+p4QBNfpb/FetOp7UlsssUTAFRcv/9fwJ3MSAjgpTJZzv\n",
       "0ht0a2tRiNHbFwYqEQnb9adBE0WX2cNqGuOrbUbkk9hIAEElAOtp39DhkeHv+++sDrngW1kc7n0A\n",
       "AAAqQZ8ORRUsK/8CM2HoLiF4NPBNO1MXMm3AvhYnTj9wBp86PXS64csud5NxAAAAIAGfLXRCfwFG\n",
       "RTvI3diR2pRhfZKA465vzRsmrY3ioQ3pAAAAFQGfL2pCfwAUe3Wp2qzhVD5EvsFBSAAAADtBmzRJ\n",
       "qEFsmUwIb//+p4QES6UZU740AGrUX5NScyOcLj9tcybI0BPLcOz2J4+Y9wX85PeZ6y2ygtx7gAAA\n",
       "ACJBn1JFFSwr/wIzYeguMUOPVN/IbEVxkwLy9FLpRgAJSDJhAAAAFgGfcXRCfwGZ8nzJ4/sUGg+Y\n",
       "+dpFmMAAAAAWAZ9zakJ/Amm39E/hdbn5HzJ8wp1fRAAAAGNBm3hJqEFsmUwIb//+p4QES6UZSdzm\n",
       "KdI5jCz6KDzrWfsF2cTEowe3QTSwACdTsf/sMPGya+/yT/RNqt4HbYSYUCc7IgDKi3eMb5tbnmc9\n",
       "G7U5daFk0CzPABO8uzMIc24jsoEAAAAnQZ+WRRUsK/8CM2HndFAgYtl4bpvNM7VaQXCSP4BJkcP8\n",
       "7YIOFQomAAAAFgGftXRCfwJo1HNw9+DHxFiGciU6xbEAAAAZAZ+3akJ/AM48BSj1ReTIF9y2Suk6\n",
       "kNek8wAAAHlBm7xJqEFsmUwIb//+p4QAvuJbS7fv0mWUJ4/o0AR3eO6tnlQSP+5eX4Uovibk0jMV\n",
       "l9zx2VEq90hBxfa8Nnd3nnA7HII6gaJtUREzA5NMvGaWOBWR2Hxbbd7zo76fBrQlbQGhZTJ2+kfc\n",
       "8AHfyeBUU9IjN4wRWY9YAAAAK0Gf2kUVLCv/AjNhmByD7cLITUhb2vnQcT4+z4XNnk5OVSRkejuG\n",
       "sd0LH9UAAAAaAZ/5dEJ/AFZRTzJ48VpZlWWMpxZjlhKg6IAAAAAZAZ/7akJ/ACs3AzTk9qXKJbj4\n",
       "zD1BHUapKQAAACVBm+BJqEFsmUwIb//+p4QAFa+P1a7GS4iW1l7Ra/FeAFVZnk+BAAAAIkGeHkUV\n",
       "LCv/AjNhlvDuvOljdT1+ZEXkIvaa4RkP/WTkGvAAAAAZAZ49dEJ/ACsozZIQjlzv1lFS3q1q1To0\n",
       "MAAAABQBnj9qQn8AKzcDNOT2pcokNKAyYQAAACZBmiRJqEFsmUwIb//+p4QBLfplQCnIgJfLVMDm\n",
       "eSrZUzkV2QMgwAAAACJBnkJFFSwr/wIzYZ7eIXaxtWLMd/+dsmllyb97aCZU8F/BAAAAFwGeYXRC\n",
       "fwArKMzJX8FLWtnEYG5PJmqWAAAAFQGeY2pCfwE93AiB0YZ3g2SAAEM1iQAAACRBmmhJqEFsmUwI\n",
       "b//+p4QBLfpcK4MHIZqjzl+lAky9/SaYN38AAAAeQZ6GRRUsK/8CM2Ge20LtY2rV4AvvnbJq9LYA\n",
       "1sh7AAAAFQGepXRCfwE9alHuzS3LXBNNKC7GJQAAABQBnqdqQn8AKzcDNOT2pcokNKAyYAAAACFB\n",
       "mqxJqEFsmUwIb//+p4QAAKR8fQQ2W6OqpFXRfTphe/AAAAAgQZ7KRRUsK/8CM2GW8O686WN1P7BP\n",
       "QXsgg+FhhEKZIhkAAAAXAZ7pdEJ/ACsozMlfwUtawIZfgolJaZcAAAAUAZ7rakJ/ACs3AzTk9qXK\n",
       "JDSgMmAAAAA2QZrwSahBbJlMCGf//p4QAE9r5G7AYAsOdx742gDYbT///4DxpSZB0X65gqosjwIo\n",
       "OGEBRp2hAAAAH0GfDkUVLCv/AjNhlvDuvOljdT6yHfDwQ6c0ZIUA6YEAAAAfAZ8tdEJ/AUuZp70j\n",
       "vC59bdD70wyfvw/o+AjsFzKCwQAAABYBny9qQn8AKzb+ss0FtJjlVbtT91IoAAAAO0GbMUmoQWyZ\n",
       "TAhv//6nhABbPeBkdivPq1yvRG1XOcABnEozBJySrEFwXC3txKRBhTkPiT+4hAqG4FmgAAAAZkGb\n",
       "VUnhClJlMCG//qeEAFrBMz9/ABhvAZjyzd57BYoAxbgs2oyg0lnIqGmSZIYMdo8yuefcDE7tCeUH\n",
       "IbCq5i1zoaGgfxIYVMN0J+txKVeD37rIWnDIKTBKmtnXtCpG//yXgAY64QAAACpBn3NFNEwr/wIz\n",
       "Jhhkg+r6l91F0UL9rnpjbHEQAV4qpr/yA2CIwa21AfcAAAAZAZ+SdEJ/AF98nzJ5GR0OUYUVu3uQ\n",
       "PiyuCAAAAB4Bn5RqQn8AKzcDNOT2pcorkrVbZCHv3gM7HU7tP2MAAAA8QZuZSahBaJlMCG///qeE\n",
       "AAFR+P2dp9ifs1jXNRaAI3kZyvv0/ZPGoj+xrImxriESsK1ctmLEylBLWrLgAAAAJUGft0URLCv/\n",
       "AjNhlvDuvOljdT+wT0F7IIPJC404rDKMinBDORkAAAAXAZ/WdEJ/ACsozMlfwUtarKyncXzmszEA\n",
       "AAAbAZ/YakJ/ACs3AzTk9qXKKxQTH+34b+3x+UOgAAAAjUGb3UmoQWyZTAhv//6nhAFo+Aq9hsM0\n",
       "0fYQAI2lxYaa5Hdsr7uOKY6jo6KxdMjOVuN1udbFb2skeEcD//aLAAPlxRE4J0BM8QUBStEo0QBg\n",
       "YJOkXsNIjAKWdA1vLHQL3jya0QmoSoSuXa2V4jedg478A+1sQ0KhMyxD1s/XGK0HlWmWCOOV2o57\n",
       "TTQewQAAACxBn/tFFSwr/wJHmAmMhOxxX4xTpOT0ETfop5p6YCsOk9A2sWODIv1dxI2KIAAAABwB\n",
       "nhp0Qn8Avvk+ZPICHGGdj+CCKbQa3WJFQzOBAAAALAGeHGpCfwFzt1pR6oyMLoQGwVYAB2gpVxJ9\n",
       "c+PCtlSfLABgQomABKRVGo4jAAAATUGaAUmoQWyZTAhv//6nhACxfH0aBsbW+vpODnrB8IFg1VIT\n",
       "4h7pAFAnZNruv3JqwUt7H0cf2TVBiDeOitmu1ZrNNIZ0spcpreq9UseMAAAAJ0GeP0UVLCv/AkeY\n",
       "CYr1PQoFNLA9Zm015A9lgE92uHPGgGqFvSTsUAAAAB0Bnl50Qn8Aumk9lBHnDrpTm4QnVbedECqC\n",
       "6tTREQAAABgBnkBqQn8AM48tlNla7wZRFAHl5d0NNtgAAABLQZpFSahBbJlMCG///qeEAFPxWkHr\n",
       "JE6cABwAJcdU0wNs6by+C9kc38M4sPamD/9/gdCQ7gjnkrgSx4LnrExFgSB5ZdD8ZTRQObWhAAAA\n",
       "J0GeY0UVLCv/AkeYCYothMB69t7+qJWMUjzYQh8qZx2JYi7Ja/wcwAAAABgBnoJ0Qn8AM36FcnT4\n",
       "0m6wt0nnqNq4tsEAAAAhAZ6EakJ/ADOPLZTZWu8GURQML50/cGZ0gTVKyBL56Y1BAAAAQ0GaiUmo\n",
       "QWyZTAhv//6nhAEsOGutW0RngcrwCkGu3Ee8+NWNXtbkjU6e7s3eykAH57hOH8lvtjtnk/IurOeK\n",
       "nZg9io0AAAAmQZ6nRRUsK/8CR5gJii2EwHr23v6olYxSPNhDOIjHo3JCGfS/XEEAAAAbAZ7GdEJ/\n",
       "ADN+hXJ0+NJusLj6Qicah5kF6EM+AAAAGgGeyGpCfwAzjy2U2VrvBlEUO3wOLTilZeuAAAAAdUGa\n",
       "zUmoQWyZTAhv//6nhAFdzT9kR41AARZ9l1BnJ7f/5/AleoSUvot0MBbdeI6UnlKG79ptwI79BvP1\n",
       "3wAxbKKtXxJulA1xZkk8QhSOZ5EFaJdhG/+UuDGCh7kHycRs/Y8B5WWlyDzIn9C/mv6F4UlCgDxs\n",
       "swAAAC9BnutFFSwr/wIzYgcAaLQwKjQfpxUxrsQjBA8irUMblXkarVcdXv0Xb9PtS2CagAAAABwB\n",
       "nwp0Qn8AM36FcnT40m6wuBI0vjeRJxUcfIXKAAAAIwGfDGpCfwKi8BT2eSfqsmcDmvZnGunIWxY4\n",
       "K6/SMrsqzPepAAAAVkGbEUmoQWyZTAhv//6nhAWzeEt4HEA7/SramSe5fvaAzfcjMVvUpg4ZXS3v\n",
       "B1Laaezv9mVezQ23td71uE7eDbypHFMUBbnGtf0B6YmkAIwjlNtiM9UdAAAALUGfL0UVLCv/AjNi\n",
       "Bl5lKv1mVuvwx21fIKR9dg3B1s8a+EPBLXoGMetJsAJnEQAAAB4Bn050Qn8Coa+kd0vJYWiv2G7E\n",
       "bHKBXAjesTZq5FwAAAAfAZ9QakJ/ADOPLZTZWu8GURiEV3XNEr2kLb1I0VUdcAAAAIBBm1VJqEFs\n",
       "mUwIb//+p4QHHyNdzLO0BLrfaTxh49GAR8OH/wZIQk4Yd0NiiWwsz+VhOMvM7f/v+BO0UWJG08YV\n",
       "lrLq5gwlC2bDdx50v+PZLT5unni1vzhkbMMbiEi0OPSJte6B3cbUtWuIEWOGG/zw3rbrOeQE124O\n",
       "AS9nhDZUcQAAADdBn3NFFSwr/wD+13L5qGdV9CqH2T5aOPBvOp7tAAeDlGsxD6viZR3HfBK7vh5D\n",
       "n+BzEsYLwgXAAAAAJQGfknRCfwBa0U7yPD3XXM7SWjodSg1E1UjMZHQUYAnrasHEYagAAAAiAZ+U\n",
       "akJ/AU+3WlHqjNQmwqRdFuKh9Wu7YWr5qH0ltZTgwQAAAElBm5lJqEFsmUwIb//+p4QAFZBt3gAO\n",
       "kAB8PZOdsbhO/+MMz0h2rS4l//l/An368vlMYc3HNIb713V7f9FKb/uncOb971ckdITAAAAALUGf\n",
       "t0UVLCv/ACfcnXd1p81FetI7iP6DWY8E0bn/p5i61JVvT7/E5fj1wVYXwQAAABoBn9Z0Qn8AM350\n",
       "i62nCRbBf4RX1+mjx9ILgQAAAB4Bn9hqQn8AM48ceOzoQDJq3A6d2ApJPNOJ4sxog84AAABwQZvd\n",
       "SahBbJlMCG///qeEAMjTPLPeqRZvAANREZlk/9vr+N7FOhQPWw71D5C6OIz7cXe0dMGI6z7g3dl3\n",
       "By3aPSYVxD38VtbB+lo3GSTNtSNYWaFoF0X1a5LoBC78ZTXSDw1ZRKuP271hflpyqmbPPQAAAERB\n",
       "n/tFFSwr/wCjtE/klRzjWaJXYjZHGtmAC+u6oc9r+9A1pFqpoLkN3/A4+kWM1BHwDBCcVlBERIiJ\n",
       "ldJhxubPBFkiPgAAAC0Bnhp0Qn8A00vyj8md88BX5++xb9TqFEhUiCtOa8JF/laDMCbYuQ66Ca1G\n",
       "m/kAAAAvAZ4cakJ/AGmeAsHNeq6Vfp2wh8I4b5IoCz/e/5dscTn0TOh9ozGh+pd5O8WOMUEAAAAl\n",
       "QZoBSahBbJlMCG///qeEABk7iHfxCYLRl+bPpTTVBJf+AQ8p3QAAACdBnj9FFSwr/wBDfWRTh5kk\n",
       "q+1qxr9/dP5XvIYGGoQ5XxLMjRCxHtgAAAAaAZ5edEJ/AFiRljVrZ306sStu4DCMdj9ITNsAAAAb\n",
       "AZ5AakJ/AFiuA5Ts6EAyatwOndgKOnjMWduAAAAASkGaRUmoQWyZTAhv//6nhAFd+Aq9ZT1Erjxg\n",
       "/QEHiABHzX/+P+ZVvdZPvVaXxsv9iJ7BD4jCSIHlWxjfUmHm5TU187syu27UyPu9AAAAKkGeY0UV\n",
       "LCv/ARbXcqOvple4ZRUhwM9RpYYLOaV1SATDDpt0VvANwUUOeAAAAB0BnoJ0Qn8Avvk+ZPI0upmW\n",
       "K5az2bcquhECUkeEFQAAACEBnoRqQn8BardZndC0ec5oUiAGBjCWZjYatkKyC3mdICEAAAByQZqJ\n",
       "SahBbJlMCG///qeEAGTu1v0ILzYACMTKF2Zh7P7oZSLEKYbuHU126wk7EymmpcYrLgMdeHrdv++V\n",
       "VDzQ5stXtJuhD5v/j7mG48VOaihI04ln/7HsLKOYdtTgB+SV8/Qa65iq7sDSOaeTM7xlOruBAAAA\n",
       "KEGep0UVLCv/AFHr3Nla06IIzL9OMKL4NvRXmsBEAFeBT0BGwO8XMVUAAAAcAZ7GdEJ/AFiRm+O0\n",
       "yS1yQ+lTkl6clbBdyMAF5AAAACEBnshqQn8AaZ4C1j0X03x7i9iR/z1nw+eiuYx2QoSXDtgAAAB6\n",
       "QZrNSahBbJlMCG///qeEAMP7Kap8EGwAAOYAj/+f8CLzKkrDP8U6gJUS9siQlaclELv8kz7uUwjU\n",
       "kd584rNFhvlFaQTtfjCrCuwi0ek5a0/3kBxIwhqeQEA48TXmuC/1J29a1X96HXkEi4QFR6AgFUR3\n",
       "g29tnsmbnhEAAAAxQZ7rRRUsK/8An1e5oiXkE1vPOf2q7BUpJgXzX/FrsxRLg0TmapIXnzx/wolg\n",
       "vBVBDwAAACMBnwp0Qn8AWJGeoW01GCTN18ncJzjBdEZ7b8rrWmBQjQD4gAAAACIBnwxqQn8AzjwF\n",
       "gsjhtxwWR/+lCi2AdbL2VcG0IIDgrOS9AAAAeUGbEUmoQWyZTAhv//6nhAC908+AA5VYzLJ//78t\n",
       "bmbFc/kYYmIB65az6fasB8ou8/cWe2bC7MPV7zE0Wp68i3dkD9wm65Lur6mE7BGlFgg+S1EBxQPY\n",
       "DeVaEED1covc/OVbrYpc5fJ7v3n9olWKQmA9cuprvl+qHyEAAAArQZ8vRRUsK/8AmskJQXDU90DL\n",
       "9fRtWDFvnTeuyAqjjv9YSlYbgwBqiQBuQQAAACMBn050Qn8AyPnSLsy8U3EDeH3mdZ7YiPizfBwv\n",
       "9CEAjJYRkwAAAB8Bn1BqQn8AWK4KoMSGedDbzCuV3oIPdZUwYUF3MiPeAAAAJ0GbVUmoQWyZTAhv\n",
       "//6nhAAo3TuXBC4Fz3OoWCKJ74W8Muq+J1MGLQAAACVBn3NFFSwr/wBDgzWpted3zMg++FBkhjDd\n",
       "BdRwgskFZAa4WEIqAAAAHgGfknRCfwBYkZ6g5XuQ67UM975PrDL1kJIBVCLhYwAAABwBn5RqQn8A\n",
       "WK4KoMSGedDbzCuV3jxjXi7kT0KbAAAAFEGbmUmoQWyZTAhv//6nhAAAAwHdAAAAI0Gft0UVLCv/\n",
       "AEODNam153fMyCYFpSiHupwsEbosAKoKcGdBAAAAHAGf1nRCfwBYkZ6g5XuQ67UOrpJpFuQ2FXMQ\n",
       "F5EAAAAcAZ/YakJ/AFiuCqDEhnnQ28wrld48Y14u5E9CmgAAAIlBm91JqEFsmUwIb//+p4QAYeOk\n",
       "0gizZGyFKt7GWVB5ssM3///Am82EreRlYZuuWEkEsDLPefrhzcDJcsOSPlOokvQEYdblugPqQ0GD\n",
       "Kfco/W8njnBPl1BONxpxGHk+ghhwxlpR+FgBtli5JfT90OJU5zL21Zo3nSi8pEPRfRSSPqaK4akU\n",
       "PEiOwQAAAC5Bn/tFFSwr/wBDgytw49gIOBqOqH2kj0GU4QFlrSQoIo/B3LyLssANseQdYySQAAAA\n",
       "JQGeGnRCfwBYkZ6g5XuQ67UOrpJpFuQ2xTeKkETGn3r7aAIsJCEAAAAhAZ4cakJ/AFitxhgGM6gR\n",
       "yY3oCHSbfagJTTxFwrrHoeQ9AAAAWkGaAUmoQWyZTAhv//6nhAAnvon+v+/I2qrHfY9qFfl+gIcK\n",
       "gCRxv5JQ2vh4yy4tiiZa4DR7WeqE3vkYbLCWDLUoupGA06bvOFNRMxIiRoiM0VOjpm0tX9w9oAAA\n",
       "AC9Bnj9FFSwr/wBDgzWpted3zMg7xCdqy0SNyOh4BQHnwxugs29Db9kzBpngBsyEgAAAACQBnl50\n",
       "Qn8AWJGeoOV7kPUldBvKUQyYMDyQPfqCHlEG10ceQ0EAAAAhAZ5AakJ/AFiuCqDEhnnQ21u1kVA3\n",
       "692nyGOFrC8HUIqAAAAATEGaRUmoQWyZTAhv//6nhABk/ZPlfUZZAHStN93yU9EcXEeVMeniUrMv\n",
       "6TCrTezaisFt8ScGDb+e4C6efw9Gn8hYOxG5B66ZuvhS/8EAAAAnQZ5jRRUsK/8AUdon5LJxNl1z\n",
       "PQYH8cUOqpFyJiBbY4n8W6sSgDfgAAAAIgGegnRCfwBppfkzKBkQgzKe8eNuhvoEywU2pgA2gSch\n",
       "IdMAAAAbAZ6EakJ/AFiuCdEQ8o6GwkZf9xDpKuTMWduBAAAARkGaiUmoQWyZTAhv//6nhAAydoQN\n",
       "QXX3ghUZnSWGpADjeYW6nqbk6X5sDAYaU47aaBVnx5Tq97RHXbPj/xY2Lsrszm/O9w0AAAAvQZ6n\n",
       "RRUsK/8AdZYq/3Z5jXOn+q3xkNK7EnWtUvm5FI4fcCe1jwnQmWVBG36vA3sAAAAdAZ7GdEJ/AJr7\n",
       "PdPstnTjaEfBtHh7DxjngPUUwP8AAAAiAZ7IakJ/AJrtSr2LBboMZamvzSj5HCeF9gl3W5tSO3Lh\n",
       "uQAAACdBms1JqEFsmUwIb//+p4QAmy1afw9wl/BFHrU/mbnXuVQsQXM2jUkAAAAmQZ7rRRUsK/8A\n",
       "fEB1r4tvrMTfKpE/BM+l3NK4gAroL0BJRchxElAAAAAfAZ8KdEJ/AKOineRzGNGjiaT4J+mbwCMh\n",
       "uQZ4/4UL2AAAABsBnwxqQn8AWK4J0RDyjobCRl/3EOkq5MxZ24EAAAAxQZsRSahBbJlMCG///qeE\n",
       "ABh5c6kSrRGotnCsXFZUlwJ9kzv7cXgZ4q9JYLZmwoQdWQAAACVBny9FFSwr/wBDgzV1u0vdhxrO\n",
       "e3Jd1QEr47GVdl1+9rqv8ANnAAAAHwGfTnRCfwBYkZ2JdrUYEB1mZyXR5Bhf0qigUIu4oYAAAAAb\n",
       "AZ9QakJ/AFiuCdEQ8o6GwkZf9xDpKuTMWduAAAAAK0GbVUmoQWyZTAhv//6nhABSPeEt4J4e7oaF\n",
       "LftDUzXYMDmkHevIuCe5bKsAAAArQZ9zRRUsK/8AQ4MrcOO8j5EyZBZoLllFiCXKFi0dLBMwFqyM\n",
       "CJAMFOBeQAAAACABn5J0Qn8AWJGdiXa1GBAdZlmQ2RwmEzl7RDW4xUAjoAAAAB8Bn5RqQn8AWK3W\n",
       "Z4UjXutUK+crQ241RRbFNBVCtiwhAAAAb0GbmUmoQWyZTAhv//6nhABkhQqV4SAK1Q0uzMg0cmYG\n",
       "BHJuN/5PgkHvUp/8/xme/gr0f9J36bta18kzCdNG+5vyAxINgJSdI2v8BoSnKiWb2h07I/neQPgs\n",
       "U0aOTHryNbd5eezRD+TvKg/83mBQQAAAADxBn7dFFSwr/wBR2ifksnDn5v8L81fD69ysoAB/hD0L\n",
       "FYuW4+l8gYyBj3xyxxkig8iZjsDZFh+AswiAMKEAAAAlAZ/WdEJ/AGl8n2FWyr1mW6OcvpVaiL0b\n",
       "091n4UJWr1k0qVGOnQAAACQBn9hqQn8AWK4KNxoKhX+u66Zp9Q+HqvNUXtoT5GBbyW1e8FAAAAAp\n",
       "QZvdSahBbJlMCG///qeEABk1+fXBqEABX4yMY6Tfaf39IsMUjiXhefcAAAAsQZ/7RRUsK/8AQ4M1\n",
       "FucEeg8Hbqqtrx6TSijdZDn70jZZiG1s0CPxGFpAwMAAAAAfAZ4adEJ/AFiRm+O0yn+bUTyf94Ao\n",
       "G3VjQ7TH1xwB/wAAAB0BnhxqQn8AWK4IVy1UiaX4c/1Nl1HAsyHkhH0PyQAAABpBmgFJqEFsmUwI\n",
       "b//+p4QAAAtYJmdJWpXigAAAACtBnj9FFSwr/wCRLJNafatzYiubozURsRBwC9CHJTaFCBUe4jTD\n",
       "j/cGYCrgAAAAHwGeXnRCfwC/S/GUEmBoJZrJQT7Dsa43GBvnDmNgNqEAAAAdAZ5AakJ/AL8JkgbW\n",
       "uJ/icDfiegQzFbkECSihhTQAAAAbQZpFSahBbJlMCG///qeEAALV08OocpmRqhFxAAAAIEGeY0UV\n",
       "LCv/AEODNRbnBHoO8NkBoc2iZsmDOw5pIcsNAAAAGwGegnRCfwBYkZvjtMkSY0kvQVXocLkr9Cze\n",
       "QQAAABsBnoRqQn8AWK4IVy1UiaX4c/1Nl1HAp4ydmpkAAAAoQZqJSahBbJlMCG///qeEABbOwSgF\n",
       "rvsB4Nfi1KU8JXIhsACnAzhR8QAAACFBnqdFFSwr/wBDgzUW5wR6DsXzHsYj43kL+59UM3S4AtcA\n",
       "AAAbAZ7GdEJ/AFiRm+O0yRJjSS9BVehwuSv0LN5AAAAAHAGeyGpCfwBYrghXLVInfcQjidYp1tpv\n",
       "r0f1UmgAAAAYQZrNSahBbJlMCG///qeEABasVpB6OCthAAAAIUGe60UVLCv/AEODNRbnBHoOyVWY\n",
       "+pvG8X+Ir1RDdKsC1gAAABwBnwp0Qn8AWJGb47TDay3ty3eJ8FPzCrCnAwuAAAAAGwGfDGpCfwBY\n",
       "rghXLVSJpfhz/U2XUcCnjJ2amQAAAC9BmxFJqEFsmUwIb//+p4QAtfx9ShcAZ3X07N+FXoyatf7l\n",
       "unYF6fxCYvwPxXRxWwAAACNBny9FFSwr/wCS67l81DoMeowrF5TnY2HMi1oVgABXQ+ASEQAAABsB\n",
       "n050Qn8AWJGb47TJEmNJL0FV6HC5K/Qs3kAAAAAdAZ9QakJ/AL8JkgbWuKEmj4tBwItAb+zUkIio\n",
       "N6AAAABYQZtVSahBbJlMCG///qeEASX6XCuatRD9CC2OAA6J9GYp7BX2/mzT+zLHKAjfn+gSQB29\n",
       "DjURyjmHXoPLR4EP/2VBNoSZ6rpwmEduLFCQ8fyUayp7IFWcowAAACdBn3NFFSwr/wBDgzTrurdz\n",
       "TGrIXw5uGWXidXk4suYHE2fHfwP+UkUAAAAiAZ+SdEJ/AFiRmxQEvYoQit3lrBrDuI/+4UwhoB8G\n",
       "fLMIyAAAABsBn5RqQn8AWK4HqmBwd4MOUA4PJOfFmPnUAyEAAAA9QZuZSahBbJlMCG///qeEAJt9\n",
       "Lf4qXewdqfwAEWAI//38BZgk8y6HfcMIQvZ+OMjcLOhzcaS9eUq4fjhVYAAAACZBn7dFFSwr/wB8\n",
       "QHWvi2+sxNxmQVabEj5IgDGjePMSc54je8qE3QAAAB4Bn9Z0Qn8Ao6Kd5HMY0aOA6v55CdOEBtic\n",
       "R6ubobMAAAAaAZ/YakJ/AFiuB6pnbNQn3Y1hQlxTLyo+WfgAAAA4QZvdSahBbJlMCG///qeEALp8\n",
       "hCSXjDsnsRVOWsPzgElun5K7mo00fg2fKqvIz1XZW8rZM4DcqKsAAAAnQZ/7RRUsK/8ARWQnJeKX\n",
       "NGPfo6KOQihblBTaWuWnHSnOYPDR4QK4AAAAHwGeGnRCfwBa86O2yLGDI0aviIlGHKFAq19UvfDu\n",
       "hmUAAAAaAZ4cakJ/ACa7g9UWquV0VO3TEWrnSe7wOgMAAABIQZoBSahBbJlMCG///qeEAKzv74IO\n",
       "lAAGgvJ/c5iPjR02HJGITiPf3JjrWfqlOeHVYm6G4G75gx8+2ug8JIvEUOLMOsdyBkXAAAAAJEGe\n",
       "P0UVLCv/AIrruVHMuVvwF4ZRdGAI/q6v0syJjgtYxZqJbAAAABUBnl50Qn8AJq1NidplyuUA4UIN\n",
       "hfsAAAAgAZ5AakJ/ALWyYG4CDTVeAvatz4kTaLbZaEvVL22Mo9gAAAAwQZpFSahBbJlMCG///qeE\n",
       "AMK6wwjaXGjz2paA3GzPBqhm1QP7Pq3CEwHg1xyP32elAAAAI0GeY0UVLCv/AJ80T/UVHdae1YFu\n",
       "8jldhWDncH9KoyCo2AooAAAAHgGegnRCfwDN+T7ggP7OkcZ0O9CfxkK8AJfXxHggoQAAABYBnoRq\n",
       "Qn8AJruD1Raq5XRMVvOU9a/BAAAAVUGaiUmoQWyZTAhv//6nhAE9+lk/pG5We3n0r32DyROEOreV\n",
       "VNbwq1OhYAqc9/ETAKlqaCWBSI0P/9jwS6woJo+4aHI1kEIolrIUvWmQzudPOMu+u4EAAAAmQZ6n\n",
       "RRUsK/8A/tdy+ahlHSuTos1KwRrMWRG6/YfMaYJzMAswM2EAAAAaAZ7GdEJ/ACatUfoPtwBSyfWt\n",
       "YE5mI+yzEtgAAAAaAZ7IakJ/AU9kxA2qm0RcQZzMTVAP3CgVO4UAAAAaQZrNSahBbJlMCG///qeE\n",
       "AAuvvChI23XNN5kAAAAaQZ7rRRUsK/8AIsGeOyJj9LG+IAJ9GMKk3rYAAAAVAZ8KdEJ/ACatTYna\n",
       "ZcrlAOFCDYX7AAAAFgGfDGpCfwAmu4PVFqrldExW85T1r8EAAAB2QZsRSahBbJlMCG///qeEATX6\n",
       "W/xTza6YfdVAC04/uurovd2//IYtYtSOj4n17KaDDYeXm14Uv2cnDdukS6SADf3CEhuAjkvyhuow\n",
       "/Dr3aFy0EU4Tgm81WqCiuycGSaZDOZZS6B6hZaeTerj1E4yY+3ObB/2d5QAAAChBny9FFSwr/wHf\n",
       "HUqbfMLHcHbRnGAPOHqslq08ShUPsMhxBSQJvC0hAAAAHgGfTnRCfwAmrU2J2mX46+VQNrALO9ZA\n",
       "zJJ1EACZgAAAABwBn1BqQn8Cabg9D+zBkBKgFrLiXMpyh85sZYeUAAAAJkGbVUmoQWyZTAhv//6n\n",
       "hAALYh9uYQp+2ghDviSJg97rMSZ1FDzBAAAAIEGfc0UVLCv/Ad9nSMYSh/y80bNFs8S5d7DpEWoP\n",
       "FvRQAAAAFwGfknRCfwJo1JtqzXvfblkE4ZCSmtLQAAAAGwGflGpCfwJpuAnJ0c8QJAIRSGjbfSzH\n",
       "nJHJwQAAAHVBm5lJqEFsmUwIb//+p4QAyNmVplvwAFGgMyyf/+f4FXgIOUOCtKzXiN/HuUw8HJ58\n",
       "hqNyxde7sgfrovM5X36I7BGlFgg+S1EBxS0UBvJbFmy76TXufnKt1sUub6ZC1YF/aJVikJgPXLqa\n",
       "75fqxWcGjyUt/fgAAAAjQZ+3RRUsK/8B32dMzQfV9XVSu73FXEgu5A+xI+okGhaGnUMAAAAbAZ/W\n",
       "dEJ/AmjUvPoS9l1HX8+qdn9acmIyl23hAAAAGwGf2GpCfwJpuAnJ0c8QI1oRdfCtTmxwS87JwAAA\n",
       "BiBliIIABD/+94G/MstfIrrJcfnnfSyszzzkPHJdia640AAAAwAM3Yie4PCtdD0V4AAgKtx/R3N3\n",
       "3AAzsE1DTUjzLlsX1Ugsr79gEUihzs76Csix5Ye3LEkH9Xg1vxNQJuQDn/5PyBimdfKpNPKelXK6\n",
       "qYhxioeM61syyUVq+tyOoZbVsH5L/27vRXosP5pv7KyPGujJTM7ABrCv0KTUNz16LU4v6G/gSR22\n",
       "3OBmT3kuKhPtb8wmXXD+rNdaTV3KhifRpXnyGSruZixFAGMVRyEy0/++o6G9efNhETY0xKrLDzOm\n",
       "Q5xbrZCoQCEEibUaKTKdHGWSrIAX8qKWJHO4HSN5jkQR0MMppcL3C+sJxiUHHlQfryACB/9lI5ek\n",
       "CHQEw/zawuxbxw7ErnqaFMm971itUhZf415e0psLUI1osq9uaSV5c9pHzh8opJ+efHaebZrwrvY2\n",
       "VGfjI8eJCS3tpqpVPKXf53vGWsOXoR11T7ZzQv3LhP5oHHKCcmHrim5g7u7w1/yYil6lxysrZH5q\n",
       "yA/lDOCuPqSffX4w5lKW6JQH/W9eJ7iWRahWnywX3oma+5y0IaUxLoBdqufQcMp/ABDslJPpVjH2\n",
       "I+zg868xYV+iOoSTX0zauk/hqW3YzMduF6xnhMuPfwoLK4JmJsoRoqQ6fn/sQTpaUyc1PXYbim2R\n",
       "ZZ57Fo9hJ3hRDGxT83/8qFJbzi++6A4v8sw/LRZi75PU/MwiYtgFX9nkXXgaCjmWem2UlYRINuCw\n",
       "26TcTSP2Ea1adK6bqnJoihWCqAb+gpAUgEnD3fz9n2Vb3B/40ZNhwn+GCybvQCOoHKT4CbNK5YPc\n",
       "OYyiIas/qg8hCYPW4TcvDQwEsBUH/TPbYX4ASAL8bjN3W0kjOvwp83hunCML5v6xku8rMUcxJOmR\n",
       "JjlxYO71EkxsLBtfvRPWOn6zcFsjHD7wux6eXY7qm72s1OavDFM/hgMU1KZcJ0cISl/2UfyZ5V+i\n",
       "k/TjbtixrgZjGKD0l43lFTdeEV1ZoLYexCRG8DJuGQT6CvYhPN3wTMf3BYsAElwYgWscsXyR8/jW\n",
       "RUpRUGz6tOEQGcOvyaIS7sy0iLhiyhGluBo9261G6ilxDd0QTfdk0D4U4C5bSQHZJJaHPPf0xrHO\n",
       "oWAB3wsSexJrPpQL9Gr+pJOQgebCdOP0RSwWpPGOLkssmP2gB3F80alWiCj3AfACFLbYyXHvB77I\n",
       "sI8j5W0h7iEXXGEFDGKi++aWcL418fgW5qvHX/XzM0upOaJoTPAHZV/tFStNb6KYnO0qyfvyY7Xm\n",
       "cI969Op8TV1f0VwYquVC6BmJf2L33W59we5mcmJQX69oF0xbZejIvGe7QOU7TGcs1tVoHd3N4FcA\n",
       "vAlcBygcS8s1kJYNhbf9TQecjXhn5tbAjvvkq0v9103e/2zX6b9Pwvv04gkGJyXV1QVLeReiinki\n",
       "+4wI+1EnPV29H9ol5vgy/WPIefP/nSWaUthWR573Vnzn3/ZocIbyxsztcd6VmEzYmPafKqVk+0U+\n",
       "pKFBTE0EQhnhxjCCIQ7ZdNTQQx9lxpwwoJKVcgkCnQVzasogn3GhXc+LT/H4H9WOtyBJ6qHFVbR7\n",
       "oAADIfct0g5Kj1fhgeQeHS0yLUu3QJ51J3ciYnZG9BzGek3cPrA64fWjQjlGgczW1Dhd2QzrC45f\n",
       "ZxY/+pFB22C2Ahww8MPrZbMBeyyTfApb0DJPTwBoeWdpcyRwTmWZ2KAcGS9o4o0nG9KzAV+o+C+h\n",
       "CLc7fydVc+/GqV7Nx47G92fS1KnBesuO6WCjBWqf0e6VH0Eld5ChLzPw4zt6eegtRd+Y5Q1fRHxq\n",
       "KD76cFj5+SjbwppNVldduU+OsAi9B5SjoTCYeIeEWOo24oPDa19HnYLuNSeI5+ePlrJrDsszaGFg\n",
       "wncjTVkKShh8Ou82xJ6BluRSrB4OWX/7tY97n46odexxuPxAsYlcqAODMZZbQfuSLWaF5KWTn7Jq\n",
       "jsGZLVjsGvDjfL3up8MsKWjKTTxlngp0wY9Ny+b62sM5EARwQRlFo20m1rvDf1M0yC074H9nLAvu\n",
       "A4U39BmTavINNeQW6XsyXf/gKJZMSaTcHwDGE4BpwQAAALNBmiRsQ3/+p4QBHF26QBBtaVdjh3zd\n",
       "atyCmnevTzcB1etXwwEwYOLKP2/nEvTkP1J01G0e9nBGxwd0sf26v+kIroKv97qC2Tv6ixzv8Wa0\n",
       "qW4xDf6l0cEmYQeswpYCBOT3qpAilOsq5ruhmP0wZmyUy0S0ZSjq2ENYZCVJEIj606pCXLmhyGKO\n",
       "pm6S+Tl/iMfmyJ4VP4P6XJywGK4CG+rAVkq+b09qe2a+obwJwodgPeHggAAAACdBnkJ4hP8ANgK6\n",
       "1xpwCh6fx+pjI7zbEWgN62DNedaXkHHYMzC/3EkAAAAfAZ5hdEJ/ADX+cfoEj3x2PoJgnuR+nAEf\n",
       "0DRHclheCQAAABMBnmNqQn8AAGSeMA4WLgOf54zAAAAAOkGaaEmoQWiZTAhv//6nhAAxPsqK4qdQ\n",
       "2aoAif4ACI///iDsun4cqPG8twd4y85ausTt/gVPuCDrDYAAAAAgQZ6GRREsK/8AJ81RZcN4uLAs\n",
       "GGYXDgnAtwtAnYqZ4m8AAAAZAZ6ldEJ/ADN+cU59ldvPFOYQxwtJyiQSQgAAAAsBnqdqQn8AAAMB\n",
       "8wAAAC9BmqxJqEFsmUwIb//+p4QBR/gKHPkohjSAATRFPbWfcP/2ZAyFPB1F0CMxSqkBqwAAABpB\n",
       "nspFFSwr/wILYAtji32qaiq2/WfskKBiwQAAAAsBnul0Qn8AAAMB8wAAABIBnutqQn8CovHEcgdX\n",
       "yMVjBB0AAABAQZrwSahBbJlMCG///qeEAT0zD9ZIANW2d216+btt7mt34BJ+isard1+7LALEzevc\n",
       "C8c4ugOVPUaHV+h3teZKwQAAACNBnw5FFSwr/wILyZCV6dz28NFB0AhkGseGV4MdkxYCLrMCPgAA\n",
       "ABIBny10Qn8CobLSfdLr2x1kkqYAAAATAZ8vakJ/AqLxh3xyeLPxV7XkrQAAADlBmzRJqEFsmUwI\n",
       "b//+p4QBLe5qlBDWD9OrZqRQxdx39Vbg+Bvas46QvLw+ZOSZKarKWSOhlMi7p8AAAAAhQZ9SRRUs\n",
       "K/8CC8mYL9xV2zhbX60NWjvWnV6WepEDc6WAAAAAGAGfcXRCfwKhswxvW0DgnhoCypRODh92UQAA\n",
       "AA8Bn3NqQn8CovGNGdAEJWEAAABHQZt4SahBbJlMCG///qeEAT36WP+jZbx+uuU2MO5uOI44d8F5\n",
       "Y8AVwz//L+BPv7gkUkJn4cG7V/LcANl0ET2UJvZyREkyKXEAAAAhQZ+WRRUsK/8CC8mTV/Fka/E2\n",
       "2jzojB6SZh/o7BHbgrKAAAAADwGftXRCfwKhsxLeyAhKwAAAABoBn7dqQn8CovFzxd3m6XFqw/uX\n",
       "E6lV5OH0SQAAAGRBm7xJqEFsmUwIb//+p4QBNfpb/FetPwnYvARppuLVojTNFlMpFhPLc4kS42rv\n",
       "qwUmpIZ96bCYPaZljAKSw3Mc2oh6lO++vl7i9G2CJWhn2Y3AkilyweasN0mc+R0bofHZB2baAAAA\n",
       "NEGf2kUVLCv/AgvJn6T6JHdAU9uAn7qsU8wLWIVwAaf+jfvxLUIL95zAjAlLcVA64UvjPMAAAAAf\n",
       "AZ/5dEJ/AqGzE4Ur/6qRd2pEsHP67syorao6bGRkkQAAABcBn/tqQn8CovG/fDp0oF0ke++/pwx7\n",
       "rgAAACVBm+BJqEFsmUwIb//+p4QAI6ZvcdqUbYd17CwvE1kurCUlOzKBAAAAHEGeHkUVLCv/AgvJ\n",
       "mC/cXfBrK0Q88gkjK8WClA0AAAATAZ49dEJ/AqGzE37GsNxTZICygAAAABMBnj9qQn8CovGNcdGQ\n",
       "efDRcZfhAAAAUEGaJEmoQWyZTAhv//6nhADI+ymqfIxX1mAK5GZ/+/4DcxSZDjjPTkmT2FiTWJdh\n",
       "xYGFhJApDtxB3+1VT9IoYYeBEx5RCCco4xFnu9CpxFeQAAAAIkGeQkUVLCv/AgvJnBWtFlYhv6Cc\n",
       "eb97h/owUY57uvu6GpEAAAAWAZ5hdEJ/AqGzE37LH56kBs6Og+pfWwAAABgBnmNqQn8CovGrOkXN\n",
       "gVhWeayAm+4AdMAAAAAdQZpoSahBbJlMCG///qeEACOmcDYfo+JCoRnwHzAAAAAcQZ6GRRUsK/8C\n",
       "C8mYL9x3vvuS1P1e+QUGGBDFgQAAABQBnqV0Qn8CobMVLaneSGhEC67BuAAAABQBnqdqQn8CovGO\n",
       "rqMAzaVxE5PazwAAAB5BmqxJqEFsmUwIb//+p4QAk30smGwGwAdcYhqkDqgAAAAfQZ7KRRUsK/8C\n",
       "C8maWZfb1ZSAThh23vxY/e+I0AAf4QAAABgBnul0Qn8CobM0mhL2XZ1gPBK4QHjEGfEAAAAUAZ7r\n",
       "akJ/AqLxjq6jAM2lcROT2s8AAAAXQZrwSahBbJlMCG///qeEACTfI2EcDUkAAAAaQZ8ORRUsK/8C\n",
       "C8mYL9x3vvuSBW9w/M0LBSQAAAAmAZ8tdEJ/AqGzFS2p3khoRXYWTvur1e6e/YAM3Ztb5qraTeOH\n",
       "wQcAAAAUAZ8vakJ/AqLxjq6jAM2lcROT2s8AAAAUQZs0SahBbJlMCG///qeEAAADAd0AAAAaQZ9S\n",
       "RRUsK/8CC8mYL9x3vvuSBW9w/M0LBSQAAAAUAZ9xdEJ/AqGzFS2p3khoRAuuwbkAAAAUAZ9zakJ/\n",
       "AqLxjq6jAM2lcROT2s8AAAAgQZt4SahBbJlMCG///qeEABk/ZmgBJY3/QP99zjE5wd0AAAAdQZ+W\n",
       "RRUsK/8CC8mYL9x3vvuSEIeS72UffLpUoz4AAAAXAZ+1dEJ/AqGzFS2p3k8ZwXiIBBkIQsoAAAAU\n",
       "AZ+3akJ/AqLxjq6jAM2lcROT2s8AAAAUQZu8SahBbJlMCG///qeEAAADAd0AAAAaQZ/aRRUsK/8C\n",
       "C8mYL9x3vvuSBW9w/M0LBSQAAAAUAZ/5dEJ/AqGzFS2p3khoRAuuwbkAAAAUAZ/7akJ/AqLxjq6j\n",
       "AM2lcROT2s4AAAAUQZvgSahBbJlMCG///qeEAAADAd0AAAAaQZ4eRRUsK/8CC8mYL9x3vvuSBW9w\n",
       "/M0LBSUAAAAUAZ49dEJ/AqGzFS2p3khoRAuuwbgAAAAUAZ4/akJ/AqLxjq6jAM2lcROT2s8AAAAU\n",
       "QZokSahBbJlMCG///qeEAAADAd0AAAAaQZ5CRRUsK/8CC8mYL9x3vvuSBW9w/M0LBSUAAAAUAZ5h\n",
       "dEJ/AqGzFS2p3khoRAuuwbkAAAAUAZ5jakJ/AqLxjq6jAM2lcROT2s4AAAAUQZpoSahBbJlMCG//\n",
       "/qeEAAADAd0AAAAaQZ6GRRUsK/8CC8mYL9x3vvuSBW9w/M0LBSUAAAAUAZ6ldEJ/AqGzFS2p3kho\n",
       "RAuuwbgAAAAUAZ6nakJ/AqLxjq6jAM2lcROT2s8AAAAtQZqsSahBbJlMCG///qeEAAGT9lPwXBeB\n",
       "0D3TAEPcu6u6IHigi5Qau/dbyql8AAAAHkGeykUVLCv/AgvJmC/cd777kgVvcP3ZMUxGAAxEwQAA\n",
       "ABgBnul0Qn8CobMVLaneSGhFeUVx9OJELKEAAAAUAZ7rakJ/AqLxjq6jAM2lcROT2s8AAAAUQZrw\n",
       "SahBbJlMCG///qeEAAADAd0AAAAaQZ8ORRUsK/8CC8mYL9x3vvuSBW9w/M0LBSQAAAAUAZ8tdEJ/\n",
       "AqGzFS2p3khoRAuuwbgAAAAUAZ8vakJ/AqLxjq6jAM2lcROT2s8AAAAUQZs0SahBbJlMCG///qeE\n",
       "AAADAd0AAAAaQZ9SRRUsK/8CC8mYL9x3vvuSBW9w/M0LBSQAAAAUAZ9xdEJ/AqGzFS2p3khoRAuu\n",
       "wbkAAAAUAZ9zakJ/AqLxjq6jAM2lcROT2s8AAAA5QZt2SahBbJlMFEw3//6nhACTcg9kiM7sAAXS\n",
       "Wx9L0bxS3kFdQpN5zRsEWBbR8nPTD6PiLBb3OApJAAAAGwGflWpCfwKje80g/C4+73sOLGMu0G4A\n",
       "lyADegAAACRBm5pJ4QpSZTAhv/6nhACaj6Yo2FP8WR5hwiWo3JLCT6mzgTcAAAAgQZ+4RTRMK/8C\n",
       "C5sa3Qe6thryXs2qkfrraqAmgc4ANmEAAAAZAZ/XdEJ/AqGzNvrZgyZo7wo5Eu94vcIWUAAAABQB\n",
       "n9lqQn8CovGOrqMAzaVxE5PazgAAABRBm95JqEFomUwIb//+p4QAAAMB3QAAABxBn/xFESwr/wIL\n",
       "yZgv3He++5LU/V75BQYYEMWAAAAAFAGeG3RCfwKhsxUtqd5IaEQLrsG5AAAAFAGeHWpCfwKi8Y6u\n",
       "owDNpXETk9rPAAAANEGaAkmoQWyZTAhv//6nhACakXm3U6p9kiM8EABzAEf/y/gRJhUN+L0+TYUK\n",
       "g/CowxYgPmAAAAAfQZ4gRRUsK/8CC8manQe6tiBJJjMwjuaybUBnR2QBQQAAABkBnl90Qn8CobM2\n",
       "+tmDJmjvCjkS73i9whZQAAAAFAGeQWpCfwKi8Y6uowDNpXETk9rPAAAAGkGaRkmoQWyZTAhv//6n\n",
       "hAAAZGPH4Aj/pSDdAAAAHEGeZEUVLCv/AgvJmC/cd777ktT9XvkFBhgQxYAAAAAUAZ6DdEJ/AqGz\n",
       "FS2p3khoRAuuwbgAAAAUAZ6FakJ/AqLxjq6jAM2lcROT2s8AAAAUQZqKSahBbJlMCG///qeEAAAD\n",
       "Ad0AAAAcQZ6oRRUsK/8CC8mYL9x3vvuS1P1e+QUGGBDFgQAAABQBnsd0Qn8CobMVLaneSGhEC67B\n",
       "uAAAABQBnslqQn8CovGOrqMAzaVxE5PazwAAABlBms5JqEFsmUwIb//+p4QAAGT9mapYp79tAAAA\n",
       "HEGe7EUVLCv/AgvJmC/cd777ktT9XvkFBhgQxYEAAAAUAZ8LdEJ/AqGzFS2p3khoRAuuwbkAAAAU\n",
       "AZ8NakJ/AqLxjq6jAM2lcROT2s4AAAAqQZsSSahBbJlMCG///qeEAAAv/szQAatt/z4lw3mBzpJa\n",
       "L9aVVI49T2esAAAAI0GfMEUVLCv/AgvJmC/cd777ktT9XvkFBhgvNUQrjnO8pathAAAAGQGfT3RC\n",
       "fwKhsxUtqd5IaEQLsHvxb89ZwOAAAAAYAZ9RakJ/AqLxjq6jAM2lcROUX7Y1xxeAAAAAF0GbVkmo\n",
       "QWyZTAhv//6nhAAAL7ahdYOBAAAAH0GfdEUVLCv/AgvJmC/cd777ktT9XvkFBhgvcapHkIEAAAAX\n",
       "AZ+TdEJ/AqGzFS2p3khoRAuwe7jx02cAAAAWAZ+VakJ/AqLxjq6jAM2lcROT4Ltu6AAAAC1Bm5pJ\n",
       "qEFsmUwIb//+p4QAAJdyD2hod2AhjWv60kPDwZNjbxW5SbIlh8Q8o7gAAAAdQZ+4RRUsK/8CC8mY\n",
       "L9x3vvuS1P1e+QUGGBJnzgUAAAAWAZ/XdEJ/AqGzFS2p3khoRAuu1j8/IAAAABYBn9lqQn8CovGO\n",
       "rqMAzaVxE5Pgu27oAAAAU0Gb3kmoQWyZTAhv//6nhAABkaRYDVPsTZA/xyAI+QjOV9+iOwTPmhXt\n",
       "HPF1jX0VAJrEQPVwxD4UfrdbFK7XuQhhGA4EH8gh86aZu1F7qhSvouFZAAAAIUGf/EUVLCv/AgvJ\n",
       "mC/cd777ktT9XvkFGu+5RBpjG0BXQAAAABkBnht0Qn8CobMVLaneSGhFeUVx9OJEiePjAAAAFgGe\n",
       "HWpCfwKi8Y6uowDNpXETk+C7bukAAAAUQZoCSahBbJlMCG///qeEAAADAd0AAAAdQZ4gRRUsK/8C\n",
       "C8mYL9x3vvuS1P1e+QUGGBJnzgUAAAAWAZ5fdEJ/AqGzFS2p3khoRAuu1j8/IAAAABYBnkFqQn8C\n",
       "ovGOrqMAzaVxE5Pgu27pAAAAFEGaRkmoQWyZTAhv//6nhAAAAwHdAAAAHUGeZEUVLCv/AgvJmC/c\n",
       "d777ktT9XvkFBhgSZ84EAAAAFgGeg3RCfwKhsxUtqd5IaEQLrtY/PyAAAAAWAZ6FakJ/AqLxjq6j\n",
       "AM2lcROT4Ltu6QAAAE5BmopJqEFsmUwIb//+p4QAATbkHwmt5EAmvvM5X7L4sK2aqgBlMoNGHJBz\n",
       "hHwEEnJgq7VLRA9Jm6LbgrQgjNCwbIcteGT0e52wStvS/ZgAAAAiQZ6oRRUsK/8CC8mYL9x3vvuS\n",
       "1P1e+QUU+YcY+xWBOVVhDQAAABYBnsd0Qn8CobMVLaneSGhEC67WPz8gAAAAGwGeyWpCfwKi8Y6u\n",
       "owDNpXFpD2mjxDKEBhAQEQAAABRBms5JqEFsmUwIb//+p4QAAAMB3QAAAB1BnuxFFSwr/wILyZgv\n",
       "3He++5LU/V75BQYYEmfOBQAAABYBnwt0Qn8CobMVLaneSGhEC67WPz8hAAAAFgGfDWpCfwKi8Y6u\n",
       "owDNpXETk+C7bugAAAAUQZsSSahBbJlMCG///qeEAAADAd0AAAAdQZ8wRRUsK/8CC8mYL9x3vvuS\n",
       "1P1e+QUGGBJnzgUAAAAWAZ9PdEJ/AqGzFS2p3khoRAuu1j8/IAAAABYBn1FqQn8CovGOrqMAzaVx\n",
       "E5Pgu27oAAAAFEGbVkmoQWyZTAhv//6nhAAAAwHdAAAAHUGfdEUVLCv/AgvJmC/cd777ktT9XvkF\n",
       "BhgSZ84FAAAAFgGfk3RCfwKhsxUtqd5IaEQLrtY/PyEAAAAWAZ+VakJ/AqLxjq6jAM2lcROT4Ltu\n",
       "6AAAACBBm5pJqEFsmUwIb//+p4QAAC+yOkwoAKR7yCBFyTjWDgAAAB1Bn7hFFSwr/wILyZgv3He+\n",
       "+5LU/V75BQYYEmfOBQAAABYBn9d0Qn8CobMVLaneSGhEC67WPz8gAAAAFgGf2WpCfwKi8Y6uowDN\n",
       "pXETk+C7bugAAAAcQZveSahBbJlMCG///qeEAADE+yn4Llxc60LrMQAAACFBn/xFFSwr/wILyZgv\n",
       "3He++5LU/V75BQ0v3KKhMCWgl4AAAAAaAZ4bdEJ/AqGzFS2p3khoRIgOctJUnzHyc4EAAAAWAZ4d\n",
       "akJ/AqLxjq6jAM2lcROT4Ltu6QAAACRBmgBJqEFsmUwUTDf//qeEAAE2+Rq3WLTNBg+ur+o+7ZcZ\n",
       "jRAAAAAgAZ4/akJ/AqN7x8srI/ciAESGfCUafqzSOG8KpMgQ5uEAAAAnQZokSeEKUmUwIb/+p4QA\n",
       "mo+mJ5cCb3CnlMuAsImtX9xNi10ugCTgAAAAIUGeQkU0TCv/AgubGt0HurYa8l7NqpH62KKgPSN8\n",
       "AYIE3QAAABoBnmF0Qn8CobM2+tmDJmjvCjkS73i9wkTpQwAAABYBnmNqQn8CovGOrqMAzaVxE5Pg\n",
       "u27oAAAAFEGaaEmoQWiZTAhv//6nhAAAAwHdAAAAHUGehkURLCv/AgvJmC/cd777ktT9XvkFBhgS\n",
       "Z84FAAAAFgGepXRCfwKhsxUtqd5IaEQLrtY/PyAAAAAWAZ6nakJ/AqLxjq6jAM2lcROT4Ltu6QAA\n",
       "ACNBmqxJqEFsmUwIb//+p4QAm30tZmSeoisMtFOECAnwYsQHzAAAACFBnspFFSwr/wILyZqdB7q2\n",
       "IEkmMzCO5rJtQGdHZAPUDJkAAAAaAZ7pdEJ/AqGzNvrZgyZo7wo5Eu94vcJE6UMAAAAWAZ7rakJ/\n",
       "AqLxjq6jAM2lcROT4Ltu6QAAABRBmvBJqEFsmUwIb//+p4QAAAMB3QAAAB1Bnw5FFSwr/wILyZgv\n",
       "3He++5LU/V75BQYYEmfOBAAAABYBny10Qn8CobMVLaneSGhEC67WPz8gAAAAFgGfL2pCfwKi8Y6u\n",
       "owDNpXETk+C7bukAAAAUQZs0SahBbJlMCG///qeEAAADAd0AAAAdQZ9SRRUsK/8CC8mYL9x3vvuS\n",
       "1P1e+QUGGBJnzgQAAAAWAZ9xdEJ/AqGzFS2p3khoRAuu1j8/IQAAABYBn3NqQn8CovGOrqMAzaVx\n",
       "E5Pgu27pAAAAHkGbeEmoQWyZTAhv//6nhAABJvkat4J6Igvc7klyXQAAACFBn5ZFFSwr/wILyZgv\n",
       "3He++5LU/V75BRPZgUG4eUPqDYgAAAAWAZ+1dEJ/AqGzFS2p3khoRAuu1j8/IAAAABoBn7dqQn8C\n",
       "ovGOrqMAzaVxY49yuw6dO2maYQAAABRBm7xJqEFsmUwIb//+p4QAAAMB3QAAAB1Bn9pFFSwr/wIL\n",
       "yZgv3He++5LU/V75BQYYEmfOBAAAABYBn/l0Qn8CobMVLaneSGhEC67WPz8hAAAAFgGf+2pCfwKi\n",
       "8Y6uowDNpXETk+C7bugAAAAUQZvgSahBbJlMCG///qeEAAADAd0AAAAdQZ4eRRUsK/8CC8mYL9x3\n",
       "vvuS1P1e+QUGGBJnzgUAAAAWAZ49dEJ/AqGzFS2p3khoRAuu1j8/IAAAABYBnj9qQn8CovGOrqMA\n",
       "zaVxE5Pgu27pAAAAJEGaJEmoQWyZTAhv//6nhACaj6Yo2FP8WR5hw7gyS6XksfQBJwAAACFBnkJF\n",
       "FSwr/wILyZqdB7q2IEkmMzCO5rJtQGdHZAPUDJkAAAAbAZ5hdEJ/AqGzNxQSUAtm0rBog+9p5tcc\n",
       "0f9BAAAAFgGeY2pCfwKi8Y6uowDNpXETk+C7bugAAAAUQZpoSahBbJlMCG///qeEAAADAd0AAAAd\n",
       "QZ6GRRUsK/8CC8mYL9x3vvuS1P1e+QUGGBJnzgUAAAAWAZ6ldEJ/AqGzFS2p3khoRAuu1j8/IAAA\n",
       "ABYBnqdqQn8CovGOrqMAzaVxE5Pgu27pAAAAFEGarEmoQWyZTAhv//6nhAAAAwHdAAAAHUGeykUV\n",
       "LCv/AgvJmC/cd777ktT9XvkFBhgSZ84FAAAAFgGe6XRCfwKhsxUtqd5IaEQLrtY/PyEAAAAWAZ7r\n",
       "akJ/AqLxjq6jAM2lcROT4Ltu6QAAAC1BmvBJqEFsmUwIb//+p4QAAZP2U/BcF4HQPdMAQ9y7q7og\n",
       "eKCLlBq7wGJFUvkAAAAhQZ8ORRUsK/8CC8mYL9x3vvuS1P1e+QUa77lEGmMbQFdAAAAAGgGfLXRC\n",
       "fwKhsxUtqd5IaEV7HOWjnOIjeLKAAAAAFgGfL2pCfwKi8Y6uowDNpXETk+C7bukAAAAUQZs0SahB\n",
       "bJlMCG///qeEAAADAd0AAAAdQZ9SRRUsK/8CC8mYL9x3vvuS1P1e+QUGGBJnzgQAAAAWAZ9xdEJ/\n",
       "AqGzFS2p3khoRAuu1j8/IQAAABYBn3NqQn8CovGOrqMAzaVxE5Pgu27pAAAAFEGbeEmoQWyZTAhv\n",
       "//6nhAAAAwHdAAAAHUGflkUVLCv/AgvJmC/cd777ktT9XvkFBhgSZ84EAAAAFgGftXRCfwKhsxUt\n",
       "qd5IaEQLrtY/PyAAAAAWAZ+3akJ/AqLxjq6jAM2lcROT4Ltu6QAAABRBm7xJqEFsmUwIb//+p4QA\n",
       "AAMB3QAAAB1Bn9pFFSwr/wILyZgv3He++5LU/V75BQYYEmfOBAAAABYBn/l0Qn8CobMVLaneSGhE\n",
       "C67WPz8hAAAAFgGf+2pCfwKi8Y6uowDNpXETk+C7bugAAAAUQZvgSahBbJlMCG///qeEAAADAd0A\n",
       "AAAdQZ4eRRUsK/8CC8mYL9x3vvuS1P1e+QUGGBJnzgUAAAAWAZ49dEJ/AqGzFS2p3khoRAuu1j8/\n",
       "IAAAABYBnj9qQn8CovGOrqMAzaVxE5Pgu27pAAAAMkGaJEmoQWyZTAhv//6nhACbfS3+Kl3skRk/\n",
       "gAIsAR//v4CzBJ5hk75WQYg42WYsQHzAAAAAIUGeQkUVLCv/AgvJmp59Ej2DQwo0fL3TrM3+443A\n",
       "BrgYkQAAABYBnmF0Qn8CobMVLaneSGhEC67WPz8hAAAAGwGeY2pCfwKi8aKHJ4s/FXznFj8BfxaO\n",
       "FYAl4AAAABdBmmhJqEFsmUwIb//+p4QAJKoPdQCtgAAAABxBnoZFFSwr/wILyZgv3He++5IFb3D8\n",
       "zQsPy5VxAAAAFgGepXRCfwKhsxUtqd5IaEQLrtY/PyAAAAAWAZ6nakJ/AqLxjq6jAM2lcROT4Ltu\n",
       "6QAAABRBmqxJqEFsmUwIb//+p4QAAAMB3QAAABxBnspFFSwr/wILyZgv3He++5IFb3D8zQsPy5Vx\n",
       "AAAAFgGe6XRCfwKhsxUtqd5IaEQLrtY/PyEAAAAWAZ7rakJ/AqLxjq6jAM2lcROT4Ltu6QAAABNB\n",
       "mvBJqEFsmUwIZ//+nhAAAAdNAAAAHEGfDkUVLCv/AgvJmC/cd777kgVvcPzNCw/LlXAAAAAWAZ8t\n",
       "dEJ/AqGzFS2p3khoRAuu1j8/IAAAABYBny9qQn8CovGOrqMAzaVxE5Pgu27pAAAAH0GbNEmoQWyZ\n",
       "TAhn//6eEABWW6vlG3wD7KvFSXecIeAAAAAfQZ9SRRUsK/8CC8mYL9x3vvuSBtha0A4ydtcNXH7G\n",
       "gAAAABYBn3F0Qn8CobMVLaneSGhEC67WPz8hAAAAGAGfc2pCfwKi8Y6uowDOBkPDEwyzm3ECRQAA\n",
       "ABNBm3hJqEFsmUwIV//+OEAAABxxAAAAHEGflkUVLCv/AgvJmC/cd777kgVvcPzNCw/LlXAAAAAW\n",
       "AZ+1dEJ/AqGzFS2p3khoRAuu1j8/IAAAABYBn7dqQn8CovGOrqMAzaVxE5Pgu27pAAAAFEGbuUmo\n",
       "QWyZTAhP//3xAAADAEXAAAAaom1vb3YAAABsbXZoZAAAAAAAAAAAAAAAAAAAA+gAADqYAAEAAAEA\n",
       "AAAAAAAAAAAAAAABAAAAAAAAAAAAAAAAAAAAAQAAAAAAAAAAAAAAAAAAQAAAAAAAAAAAAAAAAAAA\n",
       "AAAAAAAAAAAAAAAAAAAAAAIAABnMdHJhawAAAFx0a2hkAAAAAwAAAAAAAAAAAAAAAQAAAAAAADqY\n",
       "AAAAAAAAAAAAAAAAAAAAAAABAAAAAAAAAAAAAAAAAAAAAQAAAAAAAAAAAAAAAAAAQAAAAAGwAAAB\n",
       "IAAAAAAAJGVkdHMAAAAcZWxzdAAAAAAAAAABAAA6mAAAAwAAAQAAAAAZRG1kaWEAAAAgbWRoZAAA\n",
       "AAAAAAAAAAAAAAAAMgAAAu4AVcQAAAAAAC1oZGxyAAAAAAAAAAB2aWRlAAAAAAAAAAAAAAAAVmlk\n",
       "ZW9IYW5kbGVyAAAAGO9taW5mAAAAFHZtaGQAAAABAAAAAAAAAAAAAAAkZGluZgAAABxkcmVmAAAA\n",
       "AAAAAAEAAAAMdXJsIAAAAAEAABivc3RibAAAALNzdHNkAAAAAAAAAAEAAACjYXZjMQAAAAAAAAAB\n",
       "AAAAAAAAAAAAAAAAAAAAAAGwASAASAAAAEgAAAAAAAAAAQAAAAAAAAAAAAAAAAAAAAAAAAAAAAAA\n",
       "AAAAAAAAAAAAABj//wAAADFhdmNDAWQAFf/hABhnZAAVrNlBsJaEAAADAAwAAAMDIDxYtlgBAAZo\n",
       "6+PLIsAAAAAcdXVpZGtoQPJfJE/FujmlG88DI/MAAAAAAAAAGHN0dHMAAAAAAAAAAQAAAfQAAAGA\n",
       "AAAAGHN0c3MAAAAAAAAAAgAAAAEAAAD7AAAPsGN0dHMAAAAAAAAB9AAAAAEAAAMAAAAAAQAAB4AA\n",
       "AAABAAADAAAAAAEAAAAAAAAAAQAAAYAAAAABAAAHgAAAAAEAAAMAAAAAAQAAAAAAAAABAAABgAAA\n",
       "AAEAAAeAAAAAAQAAAwAAAAABAAAAAAAAAAEAAAGAAAAAAQAAB4AAAAABAAADAAAAAAEAAAAAAAAA\n",
       "AQAAAYAAAAABAAAHgAAAAAEAAAMAAAAAAQAAAAAAAAABAAABgAAAAAEAAAeAAAAAAQAAAwAAAAAB\n",
       "AAAAAAAAAAEAAAGAAAAAAQAAB4AAAAABAAADAAAAAAEAAAAAAAAAAQAAAYAAAAABAAAHgAAAAAEA\n",
       "AAMAAAAAAQAAAAAAAAABAAABgAAAAAEAAAeAAAAAAQAAAwAAAAABAAAAAAAAAAEAAAGAAAAAAQAA\n",
       "B4AAAAABAAADAAAAAAEAAAAAAAAAAQAAAYAAAAABAAAHgAAAAAEAAAMAAAAAAQAAAAAAAAABAAAB\n",
       "gAAAAAEAAAeAAAAAAQAAAwAAAAABAAAAAAAAAAEAAAGAAAAAAQAAB4AAAAABAAADAAAAAAEAAAAA\n",
       "AAAAAQAAAYAAAAABAAAHgAAAAAEAAAMAAAAAAQAAAAAAAAABAAABgAAAAAEAAAeAAAAAAQAAAwAA\n",
       "AAABAAAAAAAAAAEAAAGAAAAAAQAAB4AAAAABAAADAAAAAAEAAAAAAAAAAQAAAYAAAAABAAAHgAAA\n",
       "AAEAAAMAAAAAAQAAAAAAAAABAAABgAAAAAEAAAeAAAAAAQAAAwAAAAABAAAAAAAAAAEAAAGAAAAA\n",
       "AQAAB4AAAAABAAADAAAAAAEAAAAAAAAAAQAAAYAAAAABAAAHgAAAAAEAAAMAAAAAAQAAAAAAAAAB\n",
       "AAABgAAAAAEAAAMAAAAAAQAAB4AAAAABAAADAAAAAAEAAAAAAAAAAQAAAYAAAAABAAAHgAAAAAEA\n",
       "AAMAAAAAAQAAAAAAAAABAAABgAAAAAEAAAeAAAAAAQAAAwAAAAABAAAAAAAAAAEAAAGAAAAAAQAA\n",
       "B4AAAAABAAADAAAAAAEAAAAAAAAAAQAAAYAAAAABAAAHgAAAAAEAAAMAAAAAAQAAAAAAAAABAAAB\n",
       "gAAAAAEAAAeAAAAAAQAAAwAAAAABAAAAAAAAAAEAAAGAAAAAAQAAB4AAAAABAAADAAAAAAEAAAAA\n",
       "AAAAAQAAAYAAAAABAAAHgAAAAAEAAAMAAAAAAQAAAAAAAAABAAABgAAAAAEAAAeAAAAAAQAAAwAA\n",
       "AAABAAAAAAAAAAEAAAGAAAAAAQAAB4AAAAABAAADAAAAAAEAAAAAAAAAAQAAAYAAAAABAAAHgAAA\n",
       "AAEAAAMAAAAAAQAAAAAAAAABAAABgAAAAAEAAAeAAAAAAQAAAwAAAAABAAAAAAAAAAEAAAGAAAAA\n",
       "AQAAB4AAAAABAAADAAAAAAEAAAAAAAAAAQAAAYAAAAABAAAHgAAAAAEAAAMAAAAAAQAAAAAAAAAB\n",
       "AAABgAAAAAEAAAeAAAAAAQAAAwAAAAABAAAAAAAAAAEAAAGAAAAAAQAAB4AAAAABAAADAAAAAAEA\n",
       "AAAAAAAAAQAAAYAAAAABAAAHgAAAAAEAAAMAAAAAAQAAAAAAAAABAAABgAAAAAEAAAeAAAAAAQAA\n",
       "AwAAAAABAAAAAAAAAAEAAAGAAAAAAQAAB4AAAAABAAADAAAAAAEAAAAAAAAAAQAAAYAAAAABAAAH\n",
       "gAAAAAEAAAMAAAAAAQAAAAAAAAABAAABgAAAAAEAAAeAAAAAAQAAAwAAAAABAAAAAAAAAAEAAAGA\n",
       "AAAAAQAAB4AAAAABAAADAAAAAAEAAAAAAAAAAQAAAYAAAAABAAAHgAAAAAEAAAMAAAAAAQAAAAAA\n",
       "AAABAAABgAAAAAEAAAeAAAAAAQAAAwAAAAABAAAAAAAAAAEAAAGAAAAAAQAAB4AAAAABAAADAAAA\n",
       "AAEAAAAAAAAAAQAAAYAAAAABAAAHgAAAAAEAAAMAAAAAAQAAAAAAAAABAAABgAAAAAEAAAeAAAAA\n",
       "AQAAAwAAAAABAAAAAAAAAAEAAAGAAAAAAQAAB4AAAAABAAADAAAAAAEAAAAAAAAAAQAAAYAAAAAB\n",
       "AAAHgAAAAAEAAAMAAAAAAQAAAAAAAAABAAABgAAAAAEAAAeAAAAAAQAAAwAAAAABAAAAAAAAAAEA\n",
       "AAGAAAAAAQAAB4AAAAABAAADAAAAAAEAAAAAAAAAAQAAAYAAAAABAAAHgAAAAAEAAAMAAAAAAQAA\n",
       "AAAAAAABAAABgAAAAAEAAAeAAAAAAQAAAwAAAAABAAAAAAAAAAEAAAGAAAAAAQAAB4AAAAABAAAD\n",
       "AAAAAAEAAAAAAAAAAQAAAYAAAAABAAAHgAAAAAEAAAMAAAAAAQAAAAAAAAABAAABgAAAAAEAAAeA\n",
       "AAAAAQAAAwAAAAABAAAAAAAAAAEAAAGAAAAAAQAAB4AAAAABAAADAAAAAAEAAAAAAAAAAQAAAYAA\n",
       "AAABAAAHgAAAAAEAAAMAAAAAAQAAAAAAAAABAAABgAAAAAEAAAeAAAAAAQAAAwAAAAABAAAAAAAA\n",
       "AAEAAAGAAAAAAQAAB4AAAAABAAADAAAAAAEAAAAAAAAAAQAAAYAAAAABAAAHgAAAAAEAAAMAAAAA\n",
       "AQAAAAAAAAABAAABgAAAAAEAAAeAAAAAAQAAAwAAAAABAAAAAAAAAAEAAAGAAAAAAQAAAwAAAAAB\n",
       "AAAHgAAAAAEAAAMAAAAAAQAAAAAAAAABAAABgAAAAAEAAAeAAAAAAQAAAwAAAAABAAAAAAAAAAEA\n",
       "AAGAAAAAAQAAB4AAAAABAAADAAAAAAEAAAAAAAAAAQAAAYAAAAABAAAHgAAAAAEAAAMAAAAAAQAA\n",
       "AAAAAAABAAABgAAAAAEAAAeAAAAAAQAAAwAAAAABAAAAAAAAAAEAAAGAAAAAAQAAB4AAAAABAAAD\n",
       "AAAAAAEAAAAAAAAAAQAAAYAAAAABAAAHgAAAAAEAAAMAAAAAAQAAAAAAAAABAAABgAAAAAEAAAeA\n",
       "AAAAAQAAAwAAAAABAAAAAAAAAAEAAAGAAAAAAQAAB4AAAAABAAADAAAAAAEAAAAAAAAAAQAAAYAA\n",
       "AAABAAAHgAAAAAEAAAMAAAAAAQAAAAAAAAABAAABgAAAAAEAAAeAAAAAAQAAAwAAAAABAAAAAAAA\n",
       "AAEAAAGAAAAAAQAAB4AAAAABAAADAAAAAAEAAAAAAAAAAQAAAYAAAAABAAAHgAAAAAEAAAMAAAAA\n",
       "AQAAAAAAAAABAAABgAAAAAEAAAeAAAAAAQAAAwAAAAABAAAAAAAAAAEAAAGAAAAAAQAAB4AAAAAB\n",
       "AAADAAAAAAEAAAAAAAAAAQAAAYAAAAABAAAHgAAAAAEAAAMAAAAAAQAAAAAAAAABAAABgAAAAAEA\n",
       "AAeAAAAAAQAAAwAAAAABAAAAAAAAAAEAAAGAAAAAAQAAB4AAAAABAAADAAAAAAEAAAAAAAAAAQAA\n",
       "AYAAAAABAAAHgAAAAAEAAAMAAAAAAQAAAAAAAAABAAABgAAAAAEAAAeAAAAAAQAAAwAAAAABAAAA\n",
       "AAAAAAEAAAGAAAAAAQAAB4AAAAABAAADAAAAAAEAAAAAAAAAAQAAAYAAAAABAAAEgAAAAAEAAAGA\n",
       "AAAAAQAAB4AAAAABAAADAAAAAAEAAAAAAAAAAQAAAYAAAAABAAAHgAAAAAEAAAMAAAAAAQAAAAAA\n",
       "AAABAAABgAAAAAEAAAeAAAAAAQAAAwAAAAABAAAAAAAAAAEAAAGAAAAAAQAAB4AAAAABAAADAAAA\n",
       "AAEAAAAAAAAAAQAAAYAAAAABAAAHgAAAAAEAAAMAAAAAAQAAAAAAAAABAAABgAAAAAEAAAeAAAAA\n",
       "AQAAAwAAAAABAAAAAAAAAAEAAAGAAAAAAQAAB4AAAAABAAADAAAAAAEAAAAAAAAAAQAAAYAAAAAB\n",
       "AAAHgAAAAAEAAAMAAAAAAQAAAAAAAAABAAABgAAAAAEAAAeAAAAAAQAAAwAAAAABAAAAAAAAAAEA\n",
       "AAGAAAAAAQAAB4AAAAABAAADAAAAAAEAAAAAAAAAAQAAAYAAAAABAAAHgAAAAAEAAAMAAAAAAQAA\n",
       "AAAAAAABAAABgAAAAAEAAAeAAAAAAQAAAwAAAAABAAAAAAAAAAEAAAGAAAAAAQAAB4AAAAABAAAD\n",
       "AAAAAAEAAAAAAAAAAQAAAYAAAAABAAAHgAAAAAEAAAMAAAAAAQAAAAAAAAABAAABgAAAAAEAAAeA\n",
       "AAAAAQAAAwAAAAABAAAAAAAAAAEAAAGAAAAAAQAAB4AAAAABAAADAAAAAAEAAAAAAAAAAQAAAYAA\n",
       "AAABAAAHgAAAAAEAAAMAAAAAAQAAAAAAAAABAAABgAAAAAEAAAeAAAAAAQAAAwAAAAABAAAAAAAA\n",
       "AAEAAAGAAAAAAQAABIAAAAABAAABgAAAAAEAAAeAAAAAAQAAAwAAAAABAAAAAAAAAAEAAAGAAAAA\n",
       "AQAAB4AAAAABAAADAAAAAAEAAAAAAAAAAQAAAYAAAAABAAAHgAAAAAEAAAMAAAAAAQAAAAAAAAAB\n",
       "AAABgAAAAAEAAAeAAAAAAQAAAwAAAAABAAAAAAAAAAEAAAGAAAAAAQAAB4AAAAABAAADAAAAAAEA\n",
       "AAAAAAAAAQAAAYAAAAABAAAHgAAAAAEAAAMAAAAAAQAAAAAAAAABAAABgAAAAAEAAAeAAAAAAQAA\n",
       "AwAAAAABAAAAAAAAAAEAAAGAAAAAAQAAB4AAAAABAAADAAAAAAEAAAAAAAAAAQAAAYAAAAABAAAH\n",
       "gAAAAAEAAAMAAAAAAQAAAAAAAAABAAABgAAAAAEAAAeAAAAAAQAAAwAAAAABAAAAAAAAAAEAAAGA\n",
       "AAAAAQAAB4AAAAABAAADAAAAAAEAAAAAAAAAAQAAAYAAAAABAAAHgAAAAAEAAAMAAAAAAQAAAAAA\n",
       "AAABAAABgAAAAAEAAAeAAAAAAQAAAwAAAAABAAAAAAAAAAEAAAGAAAAAAQAAB4AAAAABAAADAAAA\n",
       "AAEAAAAAAAAAAQAAAYAAAAABAAAHgAAAAAEAAAMAAAAAAQAAAAAAAAABAAABgAAAAAEAAAeAAAAA\n",
       "AQAAAwAAAAABAAAAAAAAAAEAAAGAAAAAAQAAB4AAAAABAAADAAAAAAEAAAAAAAAAAQAAAYAAAAAB\n",
       "AAAHgAAAAAEAAAMAAAAAAQAAAAAAAAABAAABgAAAAAEAAAeAAAAAAQAAAwAAAAABAAAAAAAAAAEA\n",
       "AAGAAAAAAQAAB4AAAAABAAADAAAAAAEAAAAAAAAAAQAAAYAAAAABAAAHgAAAAAEAAAMAAAAAAQAA\n",
       "AAAAAAABAAABgAAAAAEAAAeAAAAAAQAAAwAAAAABAAAAAAAAAAEAAAGAAAAAAQAAAwAAAAAcc3Rz\n",
       "YwAAAAAAAAABAAAAAQAAAfQAAAABAAAH5HN0c3oAAAAAAAAAAAAAAfQAAAnsAAABbgAAAFgAAAA8\n",
       "AAAALAAAAFMAAAA+AAAAIwAAACUAAACNAAAAQQAAACoAAAAjAAAAigAAADAAAAAcAAAAHgAAAHAA\n",
       "AAAuAAAAHwAAACIAAABSAAAAJgAAABwAAAAXAAAAjAAAADsAAAAfAAAAHwAAAIQAAAA3AAAAIAAA\n",
       "ACEAAAB4AAAAMQAAACEAAAAlAAAAlAAAAEQAAAAvAAAALgAAAHYAAAAzAAAAJAAAAC8AAABqAAAA\n",
       "LgAAACQAAAAZAAAAPwAAACYAAAAaAAAAGgAAAGcAAAArAAAAGgAAAB0AAAB9AAAALwAAAB4AAAAd\n",
       "AAAAKQAAACYAAAAdAAAAGAAAACoAAAAmAAAAGwAAABkAAAAoAAAAIgAAABkAAAAYAAAAJQAAACQA\n",
       "AAAbAAAAGAAAADoAAAAjAAAAIwAAABoAAAA/AAAAagAAAC4AAAAdAAAAIgAAAEAAAAApAAAAGwAA\n",
       "AB8AAACRAAAAMAAAACAAAAAwAAAAUQAAACsAAAAhAAAAHAAAAE8AAAArAAAAHAAAACUAAABHAAAA\n",
       "KgAAAB8AAAAeAAAAeQAAADMAAAAgAAAAJwAAAFoAAAAxAAAAIgAAACMAAACEAAAAOwAAACkAAAAm\n",
       "AAAATQAAADEAAAAeAAAAIgAAAHQAAABIAAAAMQAAADMAAAApAAAAKwAAAB4AAAAfAAAATgAAAC4A\n",
       "AAAhAAAAJQAAAHYAAAAsAAAAIAAAACUAAAB+AAAANQAAACcAAAAmAAAAfQAAAC8AAAAnAAAAIwAA\n",
       "ACsAAAApAAAAIgAAACAAAAAYAAAAJwAAACAAAAAgAAAAjQAAADIAAAApAAAAJQAAAF4AAAAzAAAA\n",
       "KAAAACUAAABQAAAAKwAAACYAAAAfAAAASgAAADMAAAAhAAAAJgAAACsAAAAqAAAAIwAAAB8AAAA1\n",
       "AAAAKQAAACMAAAAfAAAALwAAAC8AAAAkAAAAIwAAAHMAAABAAAAAKQAAACgAAAAtAAAAMAAAACMA\n",
       "AAAhAAAAHgAAAC8AAAAjAAAAIQAAAB8AAAAkAAAAHwAAAB8AAAAsAAAAJQAAAB8AAAAgAAAAHAAA\n",
       "ACUAAAAgAAAAHwAAADMAAAAnAAAAHwAAACEAAABcAAAAKwAAACYAAAAfAAAAQQAAACoAAAAiAAAA\n",
       "HgAAADwAAAArAAAAIwAAAB4AAABMAAAAKAAAABkAAAAkAAAANAAAACcAAAAiAAAAGgAAAFkAAAAq\n",
       "AAAAHgAAAB4AAAAeAAAAHgAAABkAAAAaAAAAegAAACwAAAAiAAAAIAAAACoAAAAkAAAAGwAAAB8A\n",
       "AAB5AAAAJwAAAB8AAAAfAAAGJAAAALcAAAArAAAAIwAAABcAAAA+AAAAJAAAAB0AAAAPAAAAMwAA\n",
       "AB4AAAAPAAAAFgAAAEQAAAAnAAAAFgAAABcAAAA9AAAAJQAAABwAAAATAAAASwAAACUAAAATAAAA\n",
       "HgAAAGgAAAA4AAAAIwAAABsAAAApAAAAIAAAABcAAAAXAAAAVAAAACYAAAAaAAAAHAAAACEAAAAg\n",
       "AAAAGAAAABgAAAAiAAAAIwAAABwAAAAYAAAAGwAAAB4AAAAqAAAAGAAAABgAAAAeAAAAGAAAABgA\n",
       "AAAkAAAAIQAAABsAAAAYAAAAGAAAAB4AAAAYAAAAGAAAABgAAAAeAAAAGAAAABgAAAAYAAAAHgAA\n",
       "ABgAAAAYAAAAGAAAAB4AAAAYAAAAGAAAADEAAAAiAAAAHAAAABgAAAAYAAAAHgAAABgAAAAYAAAA\n",
       "GAAAAB4AAAAYAAAAGAAAAD0AAAAfAAAAKAAAACQAAAAdAAAAGAAAABgAAAAgAAAAGAAAABgAAAA4\n",
       "AAAAIwAAAB0AAAAYAAAAHgAAACAAAAAYAAAAGAAAABgAAAAgAAAAGAAAABgAAAAdAAAAIAAAABgA\n",
       "AAAYAAAALgAAACcAAAAdAAAAHAAAABsAAAAjAAAAGwAAABoAAAAxAAAAIQAAABoAAAAaAAAAVwAA\n",
       "ACUAAAAdAAAAGgAAABgAAAAhAAAAGgAAABoAAAAYAAAAIQAAABoAAAAaAAAAUgAAACYAAAAaAAAA\n",
       "HwAAABgAAAAhAAAAGgAAABoAAAAYAAAAIQAAABoAAAAaAAAAGAAAACEAAAAaAAAAGgAAACQAAAAh\n",
       "AAAAGgAAABoAAAAgAAAAJQAAAB4AAAAaAAAAKAAAACQAAAArAAAAJQAAAB4AAAAaAAAAGAAAACEA\n",
       "AAAaAAAAGgAAACcAAAAlAAAAHgAAABoAAAAYAAAAIQAAABoAAAAaAAAAGAAAACEAAAAaAAAAGgAA\n",
       "ACIAAAAlAAAAGgAAAB4AAAAYAAAAIQAAABoAAAAaAAAAGAAAACEAAAAaAAAAGgAAACgAAAAlAAAA\n",
       "HwAAABoAAAAYAAAAIQAAABoAAAAaAAAAGAAAACEAAAAaAAAAGgAAADEAAAAlAAAAHgAAABoAAAAY\n",
       "AAAAIQAAABoAAAAaAAAAGAAAACEAAAAaAAAAGgAAABgAAAAhAAAAGgAAABoAAAAYAAAAIQAAABoA\n",
       "AAAaAAAANgAAACUAAAAaAAAAHwAAABsAAAAgAAAAGgAAABoAAAAYAAAAIAAAABoAAAAaAAAAFwAA\n",
       "ACAAAAAaAAAAGgAAACMAAAAjAAAAGgAAABwAAAAXAAAAIAAAABoAAAAaAAAAGAAAABRzdGNvAAAA\n",
       "AAAAAAEAAAAsAAAAYnVkdGEAAABabWV0YQAAAAAAAAAhaGRscgAAAAAAAAAAbWRpcmFwcGwAAAAA\n",
       "AAAAAAAAAAAtaWxzdAAAACWpdG9vAAAAHWRhdGEAAAABAAAAAExhdmY1OC4yOS4xMDA=\n",
       "\">\n",
       "  Your browser does not support the video tag.\n",
       "</video>"
      ],
      "text/plain": [
       "<IPython.core.display.HTML object>"
      ]
     },
     "execution_count": 31,
     "metadata": {},
     "output_type": "execute_result"
    },
    {
     "data": {
      "image/png": "[encoded data removed]",
      "text/plain": [
       "<Figure size 432x288 with 1 Axes>"
      ]
     },
     "metadata": {
      "needs_background": "light"
     },
     "output_type": "display_data"
    }
   ],
   "source": [
    "anim = animateplot(simulationLattice, 0.001, 500)\n",
    "HTML(anim.to_html5_video())"
   ]
  },
  {
   "cell_type": "code",
   "execution_count": 32,
   "metadata": {},
   "outputs": [
    {
     "data": {
      "text/plain": [
       "'EXERCISE 7: first attempt\\n\\ndef equilibriumTime(array_set): #returns first equilibrium time\\n    tEq = 0\\n    for array in array_set:\\n        bool_up_lattice = np.equal(array, np.ones(np.shape(array)))\\n        bool_down_lattice = np.equal(array, -1 * np.ones(np.shape(array)))\\n\\n        if np.all(bool_up_lattice) or np.all(bool_down_lattice):\\n            return tEq\\n        else:\\n            tEq +=1\\n    if tEq == len(array_set):\\n        print(\"It is possible that the system did not reach equilibrium. It is recommended that you increase N to ensure equilibrium is reached.\")\\n    return tEq\\n\\ndef generateNewArrays(array_set, T, diff):\\n    aug_array_set = array_set\\n    loop_array = array_set[-1]    \\n        \\n    print(\"Generating more matrices to meet nEq requirement.\")\\n    for i in range(diff):\\n        aug_array_set.append(loop_array)\\n        loop_array = fliparoni(loop_array, T)        \\n    \\n    return aug_array_set\\n\\ndef calculateMeasurements(array_set, T, nEq, debug = False):\\n    #Note: this function somehow also appends original array_set, despite my best efforts. \\n    tEq = equilibriumTime(array_set)\\n    N = len(array_set)\\n    \\n    tDiff = N - tEq\\n    \\n    if  nEq > tDiff:\\n        diff = nEq - tDiff\\n        fullSet = generateNewArrays(array_set, T, diff)\\n    else:\\n        fullSet = array_set[tEq : tEq + nEq]\\n    \\n    eqSet = array_set[tEq : tEq + nEq]\\n    \\n    measurements = np.zeros((2, nEq))\\n    for i in range(nEq):\\n        observation = observe(eqSet[i])\\n        measurements[0][i] += observation[0]\\n        measurements[1][i] += observation[1]\\n    \\n    if debug: print(\"Total samples:\" + str(N))\\n    if debug: print(\"tEq:\" + str(tEq))\\n    \\n    return measurements'"
      ]
     },
     "execution_count": 32,
     "metadata": {},
     "output_type": "execute_result"
    }
   ],
   "source": [
    "\"\"\"EXERCISE 7: first attempt\n",
    "\n",
    "def equilibriumTime(array_set): #returns first equilibrium time\n",
    "    tEq = 0\n",
    "    for array in array_set:\n",
    "        bool_up_lattice = np.equal(array, np.ones(np.shape(array)))\n",
    "        bool_down_lattice = np.equal(array, -1 * np.ones(np.shape(array)))\n",
    "\n",
    "        if np.all(bool_up_lattice) or np.all(bool_down_lattice):\n",
    "            return tEq\n",
    "        else:\n",
    "            tEq +=1\n",
    "    if tEq == len(array_set):\n",
    "        print(\"It is possible that the system did not reach equilibrium. It is recommended that you increase N to ensure equilibrium is reached.\")\n",
    "    return tEq\n",
    "\n",
    "def generateNewArrays(array_set, T, diff):\n",
    "    aug_array_set = array_set\n",
    "    loop_array = array_set[-1]    \n",
    "        \n",
    "    print(\"Generating more matrices to meet nEq requirement.\")\n",
    "    for i in range(diff):\n",
    "        aug_array_set.append(loop_array)\n",
    "        loop_array = fliparoni(loop_array, T)        \n",
    "    \n",
    "    return aug_array_set\n",
    "\n",
    "def calculateMeasurements(array_set, T, nEq, debug = False):\n",
    "    #Note: this function somehow also appends original array_set, despite my best efforts. \n",
    "    tEq = equilibriumTime(array_set)\n",
    "    N = len(array_set)\n",
    "    \n",
    "    tDiff = N - tEq\n",
    "    \n",
    "    if  nEq > tDiff:\n",
    "        diff = nEq - tDiff\n",
    "        fullSet = generateNewArrays(array_set, T, diff)\n",
    "    else:\n",
    "        fullSet = array_set[tEq : tEq + nEq]\n",
    "    \n",
    "    eqSet = array_set[tEq : tEq + nEq]\n",
    "    \n",
    "    measurements = np.zeros((2, nEq))\n",
    "    for i in range(nEq):\n",
    "        observation = observe(eqSet[i])\n",
    "        measurements[0][i] += observation[0]\n",
    "        measurements[1][i] += observation[1]\n",
    "    \n",
    "    if debug: print(\"Total samples:\" + str(N))\n",
    "    if debug: print(\"tEq:\" + str(tEq))\n",
    "    \n",
    "    return measurements\"\"\""
   ]
  },
  {
   "cell_type": "code",
   "execution_count": 33,
   "metadata": {
    "scrolled": true
   },
   "outputs": [
    {
     "data": {
      "text/plain": [
       "'test_arraySet = []\\nfor i in range(17):\\n    test_arraySet.append(alternatinglattice(1))\\nfor i in range(8):\\n    test_arraySet.append(normallattice(2, 2, 1))\\n\\nequilibriumTime(test_arraySet)\\nlen(test_arraySet)\\n\\ncalculateMeasurements(test_arraySet, 10, 9)'"
      ]
     },
     "execution_count": 33,
     "metadata": {},
     "output_type": "execute_result"
    }
   ],
   "source": [
    "\"\"\"test_arraySet = []\n",
    "for i in range(17):\n",
    "    test_arraySet.append(alternatinglattice(1))\n",
    "for i in range(8):\n",
    "    test_arraySet.append(normallattice(2, 2, 1))\n",
    "\n",
    "equilibriumTime(test_arraySet)\n",
    "len(test_arraySet)\n",
    "\n",
    "calculateMeasurements(test_arraySet, 10, 9)\"\"\""
   ]
  },
  {
   "cell_type": "code",
   "execution_count": 34,
   "metadata": {},
   "outputs": [
    {
     "data": {
      "text/plain": [
       "'\\nO O O O O O O O O O O O O O O O O X X X X X X X X \\nO is non-eq\\nX is eq\\n\\n25 samples\\n\\n17 non-eq\\n8 eq\\n\\nsuppose we want caculation with nEq = 5:\\n    find tEq\\n    calculate N - tEq (# of eq samples)\\n    if nEq < N - tEq\\n        access and store tEq to tEq + nEq arrays\\nsuppose we want calculation with nEq = 10:\\n    find tEq\\n    calculate N - tEq\\n    nEq > N - tEq!!!!\\n        invoke generateNewArrays: needs last array in sample, T, nEq-(N-tEq)\\n'"
      ]
     },
     "execution_count": 34,
     "metadata": {},
     "output_type": "execute_result"
    }
   ],
   "source": [
    "\"\"\"\n",
    "O O O O O O O O O O O O O O O O O X X X X X X X X \n",
    "O is non-eq\n",
    "X is eq\n",
    "\n",
    "25 samples\n",
    "\n",
    "17 non-eq\n",
    "8 eq\n",
    "\n",
    "suppose we want caculation with nEq = 5:\n",
    "    find tEq\n",
    "    calculate N - tEq (# of eq samples)\n",
    "    if nEq < N - tEq\n",
    "        access and store tEq to tEq + nEq arrays\n",
    "suppose we want calculation with nEq = 10:\n",
    "    find tEq\n",
    "    calculate N - tEq\n",
    "    nEq > N - tEq!!!!\n",
    "        invoke generateNewArrays: needs last array in sample, T, nEq-(N-tEq)\n",
    "\"\"\"\n"
   ]
  },
  {
   "cell_type": "code",
   "execution_count": 35,
   "metadata": {},
   "outputs": [
    {
     "ename": "SyntaxError",
     "evalue": "EOL while scanning string literal (<ipython-input-35-f9a1cfa869e8>, line 5)",
     "output_type": "error",
     "traceback": [
      "\u001b[0;36m  File \u001b[0;32m\"<ipython-input-35-f9a1cfa869e8>\"\u001b[0;36m, line \u001b[0;32m5\u001b[0m\n\u001b[0;31m    return avgs\"\"\"\"\u001b[0m\n\u001b[0m                   \n^\u001b[0m\n\u001b[0;31mSyntaxError\u001b[0m\u001b[0;31m:\u001b[0m EOL while scanning string literal\n"
     ]
    }
   ],
   "source": [
    "\"\"\"def averageMeasurements(array, T, nEq, N = 1000):\n",
    "    array_set = samplelattice(realLattice, T, N)\n",
    "    vals = calculateMeasurements(array_set, T, nEq)\n",
    "    avgs = np.average(vals, axis = 1)\n",
    "    return avgs\"\"\"\""
   ]
  },
  {
   "cell_type": "code",
   "execution_count": null,
   "metadata": {},
   "outputs": [],
   "source": [
    "\"\"\"EXERCISE 7: FINAL ATTEMPT\"\"\"\n",
    "\n",
    "\"\"\"There is a lot here, so I will summarize the results I found up here. The functions below return, through \n",
    "various steps, the specific heat, average magnetisation, and average energy of equilibriated systems at certain\n",
    "or ranges of temperatures. There appears to be a phase transition around T = 5 (with k = 1). Additionally, the\n",
    "value of speicific heat for the entire system (5x5 lattice) seems to vary with temperature and peaks around T=6 \n",
    "with an average C value of 25 around that temperature.\"\"\"\n",
    "\n",
    "def eqTime(differences, tolerance_value, tolerance_slice):\n",
    "    for i in range(len(differences)):\n",
    "            value = np.average(differences[i: (i + tolerance_slice)])\n",
    "            if value < tolerance_value:\n",
    "                return i\n",
    "            else:\n",
    "                pass\n",
    "    return \"No equilibrium found.\"\n",
    "\n",
    "def eqAverage(values, tEq, nEq):\n",
    "    avgMeasure = np.average(values[tEq: tEq + nEq])\n",
    "    return avgMeasure\n",
    "\n",
    "def measurements(metro_vals, nEq = 100, tolerance_value = 0.001, tolerance_slice = 100):\n",
    "    measurables = metro_vals[1]\n",
    "    differences = metro_vals[0][:,0] #choosing equilibrium to be when energy change is negligible:\n",
    "    \n",
    "    \n",
    "    tEq = eqTime(differences, tolerance_value, tolerance_slice)\n",
    "    \n",
    "    total_mag = measurables[:,0]\n",
    "    total_energy = measurables[:,1]\n",
    "    #total_c\n",
    "    \n",
    "    avg_mag = eqAverage(total_mag, tEq, nEq)\n",
    "    avg_energy = eqAverage(total_energy, tEq, nEq)\n",
    "    #avg_c\n",
    "    \n",
    "    return avg_mag, avg_energy #, avg_c"
   ]
  },
  {
   "cell_type": "code",
   "execution_count": null,
   "metadata": {},
   "outputs": [],
   "source": [
    "test_array_2 = randomlattice(5, 5)"
   ]
  },
  {
   "cell_type": "code",
   "execution_count": null,
   "metadata": {},
   "outputs": [],
   "source": [
    "measurements(metropolis(test_array_2, 10))"
   ]
  },
  {
   "cell_type": "code",
   "execution_count": null,
   "metadata": {},
   "outputs": [],
   "source": [
    "avg_M_series = []\n",
    "temps = np.linspace(1, 20, 100)\n",
    "for temp in temps:\n",
    "    vals = metropolis(test_array_2, T = temp, N = 300)\n",
    "    avg_M_series.append(measurements(vals)[0])\n",
    "print(avg_M_series)"
   ]
  },
  {
   "cell_type": "code",
   "execution_count": null,
   "metadata": {},
   "outputs": [],
   "source": [
    "\"\"\"spl_avg_M_series = list(np.ones(1000))\n",
    "spl_temps = list(np.linspace(0, 0.9999, 1000))\n",
    "\n",
    "spl_M = np.hstack((spl_avg_M_series, avg_M_series))\n",
    "spl_T = np.hstack((spl_temps, temps))\n",
    "\n",
    "spl = inter.UnivariateSpline(spl_T, spl_M, k = 4)\n",
    "xs = np.linspace(0, 20, 101)\n",
    "plt.plot(xs, spl(xs), 'g', lw=3)\"\"\"\n",
    "\n",
    "plt.plot(temps, avg_M_series, 'o')"
   ]
  },
  {
   "cell_type": "code",
   "execution_count": 430,
   "metadata": {},
   "outputs": [],
   "source": [
    "def generateData(lattice, temp_low, temp_high, temp_steps = 100, N = 300, quantity = \"M\"):\n",
    "    data = []\n",
    "    temps = np.linspace(temp_low, temp_high, temp_steps)\n",
    "    for temp in temps:\n",
    "        vals = metropolis(lattice, temp, N)\n",
    "        if quantity == \"M\":\n",
    "            data.append(measurements(vals)[0])\n",
    "        elif quantity == \"E\":\n",
    "            data.append(measurements(vals)[1])\n",
    "    return temps, data"
   ]
  },
  {
   "cell_type": "code",
   "execution_count": 397,
   "metadata": {},
   "outputs": [],
   "source": [
    "lattice_initial = randomlattice(5, 5)\n",
    "test_data = generateData(lattice_initial, 0.0001, 30)"
   ]
  },
  {
   "cell_type": "code",
   "execution_count": 399,
   "metadata": {},
   "outputs": [
    {
     "data": {
      "text/plain": [
       "<matplotlib.collections.PathCollection at 0x129919e50>"
      ]
     },
     "execution_count": 399,
     "metadata": {},
     "output_type": "execute_result"
    },
    {
     "data": {
      "image/png": "[encoded data removed]",
      "text/plain": [
       "<Figure size 432x288 with 1 Axes>"
      ]
     },
     "metadata": {
      "needs_background": "light"
     },
     "output_type": "display_data"
    }
   ],
   "source": [
    "x = np.linspace(0.0001, 30, 100)\n",
    "y = test_data\n",
    "\n",
    "plt.scatter(x, y)"
   ]
  },
  {
   "cell_type": "code",
   "execution_count": 426,
   "metadata": {},
   "outputs": [],
   "source": [
    "def generateAvgData(lattice, temp, nAvg = 10, N = 300, quantity = \"M\"):\n",
    "    \"\"\"This is assuredly SUPER inefficient, but I just want to see what a n-sample avg plot looks like\"\"\"\n",
    "    for i in range(nAvg):\n",
    "        data = []\n",
    "        vals = metropolis(lattice, temp, N)\n",
    "        if quantity == \"M\":\n",
    "            data.append(measurements(vals)[0])\n",
    "        elif quantity == \"E\":\n",
    "            data.append(measurements(vals)[1])\n",
    "    avgData = np.average(data)\n",
    "    return avgData"
   ]
  },
  {
   "cell_type": "code",
   "execution_count": 414,
   "metadata": {},
   "outputs": [],
   "source": [
    "temps = np.linspace(0.0001, 40, 100)\n",
    "plot_data_avg = [generateAvgData(lattice_initial, temp) for temp in temps]"
   ]
  },
  {
   "cell_type": "code",
   "execution_count": 415,
   "metadata": {},
   "outputs": [
    {
     "data": {
      "text/plain": [
       "<matplotlib.collections.PathCollection at 0x129be0650>"
      ]
     },
     "execution_count": 415,
     "metadata": {},
     "output_type": "execute_result"
    },
    {
     "data": {
      "image/png": "[encoded data removed]",
      "text/plain": [
       "<Figure size 432x288 with 1 Axes>"
      ]
     },
     "metadata": {
      "needs_background": "light"
     },
     "output_type": "display_data"
    }
   ],
   "source": [
    "plt.scatter(temps, plot_data_avg)"
   ]
  },
  {
   "cell_type": "code",
   "execution_count": 416,
   "metadata": {},
   "outputs": [],
   "source": [
    "temps_rough = np.linspace(0.0001, 40, 20)\n",
    "avg_rough = [generateAvgData(lattice_initial, temp, nAvg = 50) for temp in temps]"
   ]
  },
  {
   "cell_type": "code",
   "execution_count": 446,
   "metadata": {},
   "outputs": [],
   "source": [
    "#temps_final = np.linspace(0.0001, 40, 100)\n",
    "#avg_M_final = [generateAvgData(lattice_initial, temp, nAvg = 100, quantity = \"M\") for temp in temps]\n",
    "#avg_E_final = [generateAvgData(lattice_initial, temp, nAvg = 100, quantity = \"E\") for temp in temps]"
   ]
  },
  {
   "cell_type": "code",
   "execution_count": 425,
   "metadata": {},
   "outputs": [
    {
     "data": {
      "text/plain": [
       "<matplotlib.collections.PathCollection at 0x129e48d90>"
      ]
     },
     "execution_count": 425,
     "metadata": {},
     "output_type": "execute_result"
    },
    {
     "data": {
      "image/png": "[encoded data removed]",
      "text/plain": [
       "<Figure size 432x288 with 1 Axes>"
      ]
     },
     "metadata": {
      "needs_background": "light"
     },
     "output_type": "display_data"
    }
   ],
   "source": [
    "plt.scatter(temps, avg_rough)"
   ]
  },
  {
   "cell_type": "code",
   "execution_count": 437,
   "metadata": {},
   "outputs": [],
   "source": [
    "temps_energy = np.linspace(0.0001, 40, 20)\n",
    "\n",
    "energy_test_series = [generateAvgData(lattice_initial, temp, quantity = \"E\") for temp in temps_energy]"
   ]
  },
  {
   "cell_type": "code",
   "execution_count": 438,
   "metadata": {},
   "outputs": [
    {
     "data": {
      "text/plain": [
       "[<matplotlib.lines.Line2D at 0x12a2924d0>]"
      ]
     },
     "execution_count": 438,
     "metadata": {},
     "output_type": "execute_result"
    },
    {
     "data": {
      "image/png": "[encoded data removed]",
      "text/plain": [
       "<Figure size 432x288 with 1 Axes>"
      ]
     },
     "metadata": {
      "needs_background": "light"
     },
     "output_type": "display_data"
    }
   ],
   "source": [
    "plt.plot(temps_energy, energy_test_series)"
   ]
  },
  {
   "cell_type": "code",
   "execution_count": 440,
   "metadata": {},
   "outputs": [],
   "source": [
    "def specificHeat(temps, energies):\n",
    "    arrayC = []\n",
    "    for i in range(len(energies)-1):\n",
    "        delta_temp = temps[i+1] - temps[i]\n",
    "        delta_energy = energies[i+1] - energies[i]\n",
    "        valC = delta_energy / delta_temp\n",
    "        arrayC.append(valC)\n",
    "    return arrayC"
   ]
  },
  {
   "cell_type": "code",
   "execution_count": 443,
   "metadata": {},
   "outputs": [
    {
     "data": {
      "text/plain": [
       "4.872012180030451"
      ]
     },
     "execution_count": 443,
     "metadata": {},
     "output_type": "execute_result"
    }
   ],
   "source": [
    "np.average(specificHeat(temps_energy, energy_test_series))"
   ]
  },
  {
   "cell_type": "code",
   "execution_count": 453,
   "metadata": {},
   "outputs": [],
   "source": [
    "C1 = np.average(specificHeat(temps_energy, energy_test_series)[0:1])\n",
    "C2 = np.average(specificHeat(temps_energy, energy_test_series)[1:3])\n",
    "C3 = np.average(specificHeat(temps_energy, energy_test_series)[3:10])\n",
    "C4 = np.average(specificHeat(temps_energy, energy_test_series)[10:20])"
   ]
  },
  {
   "cell_type": "code",
   "execution_count": 452,
   "metadata": {},
   "outputs": [
    {
     "data": {
      "text/plain": [
       "array([2.10535789, 4.21061579, 6.31587368, 8.42113158])"
      ]
     },
     "execution_count": 452,
     "metadata": {},
     "output_type": "execute_result"
    }
   ],
   "source": [
    "C1, C2, C3, C4\n",
    "temps_energy[1:5]"
   ]
  },
  {
   "cell_type": "code",
   "execution_count": 458,
   "metadata": {},
   "outputs": [
    {
     "data": {
      "text/plain": [
       "[<matplotlib.lines.Line2D at 0x129f09c10>]"
      ]
     },
     "execution_count": 458,
     "metadata": {},
     "output_type": "execute_result"
    },
    {
     "data": {
      "image/png": "[encoded data removed]",
      "text/plain": [
       "<Figure size 432x288 with 1 Axes>"
      ]
     },
     "metadata": {
      "needs_background": "light"
     },
     "output_type": "display_data"
    }
   ],
   "source": [
    "plt.plot(range(4), (C1, C2, C3, C4)) #\"Specific heat plot\""
   ]
  },
  {
   "cell_type": "code",
   "execution_count": 461,
   "metadata": {},
   "outputs": [],
   "source": [
    "eTemps_final = np.linspace(0.0001, 40, 50)\n",
    "\n",
    "eFinal = [generateAvgData(lattice_initial, temp, quantity = \"E\") for temp in eTemps_final]"
   ]
  },
  {
   "cell_type": "code",
   "execution_count": 465,
   "metadata": {},
   "outputs": [
    {
     "data": {
      "text/plain": [
       "[<matplotlib.lines.Line2D at 0x12a6fe210>]"
      ]
     },
     "execution_count": 465,
     "metadata": {},
     "output_type": "execute_result"
    },
    {
     "data": {
      "image/png": "[encoded data removed]",
      "text/plain": [
       "<Figure size 432x288 with 1 Axes>"
      ]
     },
     "metadata": {
      "needs_background": "light"
     },
     "output_type": "display_data"
    }
   ],
   "source": [
    "plt.plot(eTemps_final, eFinal)"
   ]
  },
  {
   "cell_type": "code",
   "execution_count": 466,
   "metadata": {},
   "outputs": [],
   "source": [
    "C1 = np.average(specificHeat(eTemps_final, eFinal)[0:1])\n",
    "C2 = np.average(specificHeat(eTemps_final, eFinal)[1:7])\n",
    "C3 = np.average(specificHeat(eTemps_final, eFinal)[7:20])\n",
    "C4 = np.average(specificHeat(eTemps_final, eFinal)[20:40])"
   ]
  },
  {
   "cell_type": "code",
   "execution_count": 467,
   "metadata": {},
   "outputs": [
    {
     "data": {
      "text/plain": [
       "[<matplotlib.lines.Line2D at 0x12a81e190>]"
      ]
     },
     "execution_count": 467,
     "metadata": {},
     "output_type": "execute_result"
    },
    {
     "data": {
      "image/png": "[encoded data removed]",
      "text/plain": [
       "<Figure size 432x288 with 1 Axes>"
      ]
     },
     "metadata": {
      "needs_background": "light"
     },
     "output_type": "display_data"
    }
   ],
   "source": [
    "plt.plot(range(4), (C1, C2, C3, C4)) #\"Specific heat plot\""
   ]
  },
  {
   "cell_type": "code",
   "execution_count": 469,
   "metadata": {},
   "outputs": [
    {
     "data": {
      "text/plain": [
       "[1.7640044100110224,\n",
       " 2.9400073500183823,\n",
       " 44.394110985277464,\n",
       " 52.13613034032584,\n",
       " -62.328155820389604,\n",
       " 53.312133280333214,\n",
       " 41.25810314525788,\n",
       " -32.14408036020092,\n",
       " 76.93019232548082,\n",
       " -4.1160102900257245,\n",
       " 10.87802719506797,\n",
       " 13.426033565083928,\n",
       " -33.516083790209514,\n",
       " 65.46416366040908,\n",
       " -43.21810804527007,\n",
       " 6.664016660041655,\n",
       " 24.108060270150702,\n",
       " 13.13203283008206,\n",
       " -34.88808722021801,\n",
       " 36.94609236523095,\n",
       " -5.782014455036143,\n",
       " -17.836044590111417,\n",
       " 2.6460066150165407,\n",
       " 14.30803577008944,\n",
       " 9.01602254005636,\n",
       " -24.598061495153768,\n",
       " 8.722021805054485,\n",
       " 34.49608624021564,\n",
       " -12.152030380075963,\n",
       " 12.348030870077135,\n",
       " -33.908084770211964,\n",
       " 17.346043365108432,\n",
       " 12.446031115077803,\n",
       " -45.17811294528242,\n",
       " 23.22605806514509,\n",
       " 7.938019845049622,\n",
       " 8.23202058005146,\n",
       " -14.994037485093665,\n",
       " 15.386038465096181,\n",
       " -28.028070070175083,\n",
       " 15.680039200098019,\n",
       " -15.680039200098019,\n",
       " 28.322070805177045,\n",
       " -51.35212838032056,\n",
       " 38.02409506023769,\n",
       " 4.900012250030631,\n",
       " 1.274003185007964,\n",
       " -32.53608134020339,\n",
       " 25.088062720156834]"
      ]
     },
     "execution_count": 469,
     "metadata": {},
     "output_type": "execute_result"
    }
   ],
   "source": [
    "specificHeat(eTemps_final, eFinal)"
   ]
  },
  {
   "cell_type": "code",
   "execution_count": null,
   "metadata": {},
   "outputs": [],
   "source": []
  }
 ],
 "metadata": {
  "kernelspec": {
   "display_name": "Python 3",
   "language": "python",
   "name": "python3"
  },
  "language_info": {
   "codemirror_mode": {
    "name": "ipython",
    "version": 3
   },
   "file_extension": ".py",
   "mimetype": "text/x-python",
   "name": "python",
   "nbconvert_exporter": "python",
   "pygments_lexer": "ipython3",
   "version": "3.7.4"
  }
 },
 "nbformat": 4,
 "nbformat_minor": 2
}
